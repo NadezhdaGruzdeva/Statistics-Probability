{
  "nbformat": 4,
  "nbformat_minor": 0,
  "metadata": {
    "colab": {
      "provenance": [],
      "authorship_tag": "ABX9TyP8FTHkMrTzb0My94G2HIVq",
      "include_colab_link": true
    },
    "kernelspec": {
      "name": "python3",
      "display_name": "Python 3"
    },
    "language_info": {
      "name": "python"
    }
  },
  "cells": [
    {
      "cell_type": "markdown",
      "metadata": {
        "id": "view-in-github",
        "colab_type": "text"
      },
      "source": [
        "<a href=\"https://colab.research.google.com/github/NadezhdaGruzdeva/Statistics-Probability/blob/main/Statistics%26Probability_HW3.ipynb\" target=\"_parent\"><img src=\"https://colab.research.google.com/assets/colab-badge.svg\" alt=\"Open In Colab\"/></a>"
      ]
    },
    {
      "cell_type": "code",
      "execution_count": null,
      "metadata": {
        "id": "Pk1GZ073RhLA"
      },
      "outputs": [],
      "source": [
        "import numpy as np\n",
        "import pandas as pd\n",
        "import math"
      ]
    },
    {
      "cell_type": "markdown",
      "source": [
        "1) Даны значения зарплат из выборки выпускников: 100, 80, 75, 77, 89, 33, 45, 25, 65, 17, 30, 24, 57, 55, 70, 75, 65, 84, 90, 150. Посчитать (желательно без использования статистических методов наподобие std, var, mean) среднее арифметическое, среднее квадратичное отклонение, смещенную и несмещенную оценки дисперсий для данной выборки.\n"
      ],
      "metadata": {
        "id": "SzDapdX7RrmU"
      }
    },
    {
      "cell_type": "code",
      "source": [
        "salaries = [100, 80, 75, 77, 89, 33, 45, 25, 65, 17, 30, 24, 57, 55, 70, 75, 65, 84, 90, 150] \n",
        "salaries"
      ],
      "metadata": {
        "id": "ZSEngJz2Ry4k",
        "colab": {
          "base_uri": "https://localhost:8080/"
        },
        "outputId": "c4209ae4-ebb0-4595-f580-b6d5a2fd8cb3"
      },
      "execution_count": null,
      "outputs": [
        {
          "output_type": "execute_result",
          "data": {
            "text/plain": [
              "[100,\n",
              " 80,\n",
              " 75,\n",
              " 77,\n",
              " 89,\n",
              " 33,\n",
              " 45,\n",
              " 25,\n",
              " 65,\n",
              " 17,\n",
              " 30,\n",
              " 24,\n",
              " 57,\n",
              " 55,\n",
              " 70,\n",
              " 75,\n",
              " 65,\n",
              " 84,\n",
              " 90,\n",
              " 150]"
            ]
          },
          "metadata": {},
          "execution_count": 3
        }
      ]
    },
    {
      "cell_type": "code",
      "source": [
        "salaries.sort()\n",
        "salaries"
      ],
      "metadata": {
        "colab": {
          "base_uri": "https://localhost:8080/"
        },
        "id": "vjgygsV-Ue-6",
        "outputId": "1d7f9dac-b3ff-4f8d-e2ea-59e785267b57"
      },
      "execution_count": null,
      "outputs": [
        {
          "output_type": "execute_result",
          "data": {
            "text/plain": [
              "[17,\n",
              " 24,\n",
              " 25,\n",
              " 30,\n",
              " 33,\n",
              " 45,\n",
              " 55,\n",
              " 57,\n",
              " 65,\n",
              " 65,\n",
              " 70,\n",
              " 75,\n",
              " 75,\n",
              " 77,\n",
              " 80,\n",
              " 84,\n",
              " 89,\n",
              " 90,\n",
              " 100,\n",
              " 150]"
            ]
          },
          "metadata": {},
          "execution_count": 4
        }
      ]
    },
    {
      "cell_type": "code",
      "source": [
        "def Average(myList):\n",
        "   return sum(myList)/len(myList)"
      ],
      "metadata": {
        "id": "6SSzZkasYSpf"
      },
      "execution_count": null,
      "outputs": []
    },
    {
      "cell_type": "code",
      "source": [
        "averageSalary = Average(salaries)\n",
        "averageSalary"
      ],
      "metadata": {
        "colab": {
          "base_uri": "https://localhost:8080/"
        },
        "id": "Fyrfg3GGUqJi",
        "outputId": "ddda598b-a1a6-4ad1-b8d6-cb6e5c1768c6"
      },
      "execution_count": null,
      "outputs": [
        {
          "output_type": "execute_result",
          "data": {
            "text/plain": [
              "65.3"
            ]
          },
          "metadata": {},
          "execution_count": 6
        }
      ]
    },
    {
      "cell_type": "code",
      "source": [
        "np.mean(salaries)"
      ],
      "metadata": {
        "colab": {
          "base_uri": "https://localhost:8080/"
        },
        "id": "s0Pea3vpVU2B",
        "outputId": "6825f41f-7218-4376-89be-ec6d6cc8d789"
      },
      "execution_count": null,
      "outputs": [
        {
          "output_type": "execute_result",
          "data": {
            "text/plain": [
              "65.3"
            ]
          },
          "metadata": {},
          "execution_count": 7
        }
      ]
    },
    {
      "cell_type": "markdown",
      "source": [
        "Cредняяя арифметическая з/п = 65,3"
      ],
      "metadata": {
        "id": "xLppMbQ1V68G"
      }
    },
    {
      "cell_type": "code",
      "source": [
        "def Variance(myList, ddof):\n",
        "  average = Average(myList)\n",
        "  counter = 0 \n",
        "  myListSize = len(myList)\n",
        "  for i in range(myListSize):\n",
        "    counter += (myList[i] - average) ** 2\n",
        "  return counter/(myListSize - ddof)"
      ],
      "metadata": {
        "id": "zfmqx8kEV0GX"
      },
      "execution_count": null,
      "outputs": []
    },
    {
      "cell_type": "code",
      "source": [
        "Variance(salaries,0)"
      ],
      "metadata": {
        "colab": {
          "base_uri": "https://localhost:8080/"
        },
        "id": "gZ4psbXAaX59",
        "outputId": "9e567c1e-e222-413c-ec6c-78ff66fa71c1"
      },
      "execution_count": null,
      "outputs": [
        {
          "output_type": "execute_result",
          "data": {
            "text/plain": [
              "950.11"
            ]
          },
          "metadata": {},
          "execution_count": 9
        }
      ]
    },
    {
      "cell_type": "code",
      "source": [
        "Variance(salaries,1)"
      ],
      "metadata": {
        "colab": {
          "base_uri": "https://localhost:8080/"
        },
        "id": "BMTibkdwac_b",
        "outputId": "e51f63a6-11e9-4ed2-b085-e22819aff0d7"
      },
      "execution_count": null,
      "outputs": [
        {
          "output_type": "execute_result",
          "data": {
            "text/plain": [
              "1000.1157894736842"
            ]
          },
          "metadata": {},
          "execution_count": 10
        }
      ]
    },
    {
      "cell_type": "code",
      "source": [
        "np.var(salaries,ddof = 0)"
      ],
      "metadata": {
        "colab": {
          "base_uri": "https://localhost:8080/"
        },
        "id": "c5cvvVpNaf5r",
        "outputId": "5b43ab11-bd74-45fe-adcb-6afafe8a75c4"
      },
      "execution_count": null,
      "outputs": [
        {
          "output_type": "execute_result",
          "data": {
            "text/plain": [
              "950.1099999999999"
            ]
          },
          "metadata": {},
          "execution_count": 11
        }
      ]
    },
    {
      "cell_type": "code",
      "source": [
        "np.var(salaries,ddof = 1)"
      ],
      "metadata": {
        "colab": {
          "base_uri": "https://localhost:8080/"
        },
        "id": "MaW11qDCbxZb",
        "outputId": "addb1fb4-7bf5-4703-fe5c-14ced9fbf7be"
      },
      "execution_count": null,
      "outputs": [
        {
          "output_type": "execute_result",
          "data": {
            "text/plain": [
              "1000.115789473684"
            ]
          },
          "metadata": {},
          "execution_count": 12
        }
      ]
    },
    {
      "cell_type": "markdown",
      "source": [
        "Смещенная дисперсия = 950.1, несмещенная - 1000.1"
      ],
      "metadata": {
        "id": "6-Q4XRavbyu5"
      }
    },
    {
      "cell_type": "code",
      "source": [
        "def StDeviation(myList, ddof):\n",
        "  return Variance(myList, ddof) ** (1/2)"
      ],
      "metadata": {
        "id": "prgRoaIfcZVS"
      },
      "execution_count": null,
      "outputs": []
    },
    {
      "cell_type": "code",
      "source": [
        "StDeviation(salaries,0)"
      ],
      "metadata": {
        "colab": {
          "base_uri": "https://localhost:8080/"
        },
        "id": "bdZH-z4Mdjyo",
        "outputId": "e4f47fbb-1ae9-4605-db59-64eac5227390"
      },
      "execution_count": null,
      "outputs": [
        {
          "output_type": "execute_result",
          "data": {
            "text/plain": [
              "30.823854398825596"
            ]
          },
          "metadata": {},
          "execution_count": 14
        }
      ]
    },
    {
      "cell_type": "code",
      "source": [
        "StDeviation(salaries,1)"
      ],
      "metadata": {
        "colab": {
          "base_uri": "https://localhost:8080/"
        },
        "id": "Bx6HMbEQcxqS",
        "outputId": "087a11bc-a671-4413-c3c1-5ca819fca0c5"
      },
      "execution_count": null,
      "outputs": [
        {
          "output_type": "execute_result",
          "data": {
            "text/plain": [
              "31.624607341019814"
            ]
          },
          "metadata": {},
          "execution_count": 15
        }
      ]
    },
    {
      "cell_type": "code",
      "source": [
        "np.std(salaries,ddof = 0)"
      ],
      "metadata": {
        "colab": {
          "base_uri": "https://localhost:8080/"
        },
        "id": "fO-vGdtOc-RB",
        "outputId": "0bd308cb-80dc-4c1a-f89c-57009000e1bd"
      },
      "execution_count": null,
      "outputs": [
        {
          "output_type": "execute_result",
          "data": {
            "text/plain": [
              "30.823854398825592"
            ]
          },
          "metadata": {},
          "execution_count": 16
        }
      ]
    },
    {
      "cell_type": "code",
      "source": [
        "np.std(salaries,ddof = 1)"
      ],
      "metadata": {
        "colab": {
          "base_uri": "https://localhost:8080/"
        },
        "id": "7njHew60b_jl",
        "outputId": "0cce95b5-f96b-434b-90ca-11e3dd76015d"
      },
      "execution_count": null,
      "outputs": [
        {
          "output_type": "execute_result",
          "data": {
            "text/plain": [
              "31.62460734101981"
            ]
          },
          "metadata": {},
          "execution_count": 17
        }
      ]
    },
    {
      "cell_type": "markdown",
      "source": [
        "Смещенное среднее квадратическое отклонение = 30.8, несмещенное - 31.6"
      ],
      "metadata": {
        "id": "BpITQWQEdsTZ"
      }
    },
    {
      "cell_type": "markdown",
      "source": [
        "2) В первом ящике находится 8 мячей, из которых 5 - белые. Во втором ящике - 12 мячей, из которых 5 белых. Из первого ящика вытаскивают случайным образом два мяча, из второго - 4. Какова вероятность того, что 3 мяча белые?"
      ],
      "metadata": {
        "id": "UAKw81VyedfO"
      }
    },
    {
      "cell_type": "code",
      "source": [
        "def Combination(k,n): \n",
        "  '''Функция для сочетний\n",
        "  k - количество элементов в наборе\n",
        "  n - общее число элементов\n",
        "  '''\n",
        "  return int(math.factorial(n) / (math.factorial(k) * math.factorial(n - k)))"
      ],
      "metadata": {
        "id": "Ugm3oWaGgORD"
      },
      "execution_count": null,
      "outputs": []
    },
    {
      "cell_type": "code",
      "source": [
        "def Bernully(k,n,p):\n",
        "  '''P(X=k) = C_n ^k    *〖p 〗^k*q^(n-k)\n",
        "позволяющая находить вероятность появления события \n",
        "A определённое количество раз при любом числе независимых испытаний\n",
        "\tk - число наступления события (дискретная величина из отрезка [0, n])\n",
        "\tn -  число испытаний \n",
        "\tp - вероятность наступления события A в  независимых испытаниях, \n",
        "\tq = 1 – p. Противоположная вероятность\n",
        "\n",
        "  '''\n",
        "  return Combination(k,n) * p ** k * (1 - p) ** (n - k)"
      ],
      "metadata": {
        "id": "p6rhUiLud9na"
      },
      "execution_count": null,
      "outputs": []
    },
    {
      "cell_type": "code",
      "source": [
        "P = Bernully(0,2,5/8) * Bernully(3,4,5/12) + Bernully(1,2,5/8) * Bernully(2,4,5/12) + Bernully(2,2,5/8) * Bernully(1,4,5/12)\n",
        "P"
      ],
      "metadata": {
        "colab": {
          "base_uri": "https://localhost:8080/"
        },
        "id": "GtH4lRAQehTB",
        "outputId": "8d54101f-cbe4-4c44-c1d9-b50449507b73"
      },
      "execution_count": null,
      "outputs": [
        {
          "output_type": "execute_result",
          "data": {
            "text/plain": [
              "0.3191159095293209"
            ]
          },
          "metadata": {},
          "execution_count": 20
        }
      ]
    },
    {
      "cell_type": "markdown",
      "source": [
        "\n",
        "\n",
        "```\n",
        "# Выбран кодовый формат\n",
        "```\n",
        "\n",
        "Ответ: 32% - это неправильное решение. \" нельзя использовать формулу Бернулли, потому что вероятность извлечения мяча не постоянная, меняется общее количество мячей и белых мячей\n",
        "Формула Бернулли используется для повторных независимых испытаний\""
      ],
      "metadata": {
        "id": "5C1r03Yig8QG"
      }
    },
    {
      "cell_type": "markdown",
      "source": [
        "Исправленное решение с использованием сочетаний ниже"
      ],
      "metadata": {
        "id": "XQS9aODGxjPK"
      }
    },
    {
      "cell_type": "code",
      "source": [
        "allCombBasket1 = Combination(2,8) # все сочетания вынимая 2 мяча из 8 в 1-ой корзне\n",
        "allCombBasket1"
      ],
      "metadata": {
        "id": "zXQc3U1timIf",
        "colab": {
          "base_uri": "https://localhost:8080/"
        },
        "outputId": "f48fbb85-0937-4a2e-b03a-cd7620e70583"
      },
      "execution_count": null,
      "outputs": [
        {
          "output_type": "execute_result",
          "data": {
            "text/plain": [
              "28"
            ]
          },
          "metadata": {},
          "execution_count": 21
        }
      ]
    },
    {
      "cell_type": "code",
      "source": [
        "White2pcCombBasket1 = Combination(2,5) # все сочетания вынимая 2 белых мяча из 5 в 1-ой корзне\n",
        "White2pcCombBasket1"
      ],
      "metadata": {
        "colab": {
          "base_uri": "https://localhost:8080/"
        },
        "id": "BdImWs8P0W_B",
        "outputId": "d1576d9a-cbdc-492f-9d6a-94ae30fdfb05"
      },
      "execution_count": null,
      "outputs": [
        {
          "output_type": "execute_result",
          "data": {
            "text/plain": [
              "10"
            ]
          },
          "metadata": {},
          "execution_count": 43
        }
      ]
    },
    {
      "cell_type": "code",
      "source": [
        "Black2pcCombBasket1 = Combination(2,3) # все сочетания вынимая 2 черных мяча из 3 в 1-ой корзне, то есть вынуть 0 белых\n",
        "Black2pcCombBasket1"
      ],
      "metadata": {
        "colab": {
          "base_uri": "https://localhost:8080/"
        },
        "outputId": "e9b68165-dc25-46df-c63e-b99e2aad70b5",
        "id": "P5J0GNa52vkV"
      },
      "execution_count": null,
      "outputs": [
        {
          "output_type": "execute_result",
          "data": {
            "text/plain": [
              "3"
            ]
          },
          "metadata": {},
          "execution_count": 45
        }
      ]
    },
    {
      "cell_type": "code",
      "source": [
        "White1pcCombBasket1 = allCombBasket1 - White2pcCombBasket1 - Black2pcCombBasket1   # все сочетания вынимая 1 белый мяч и 1 черный из 1-ой корзины\n",
        "White1pcCombBasket1"
      ],
      "metadata": {
        "colab": {
          "base_uri": "https://localhost:8080/"
        },
        "outputId": "f43e4333-b95b-453f-d9a1-bdb5f6ac7c2e",
        "id": "iU8SPN1M3D49"
      },
      "execution_count": null,
      "outputs": [
        {
          "output_type": "execute_result",
          "data": {
            "text/plain": [
              "15"
            ]
          },
          "metadata": {},
          "execution_count": 46
        }
      ]
    },
    {
      "cell_type": "markdown",
      "source": [
        "Перейдем к сочетаниям 2-ой корзины"
      ],
      "metadata": {
        "id": "nUOB6VT33j3q"
      }
    },
    {
      "cell_type": "code",
      "source": [
        "allCombBasket2 = Combination(4,12) # все сочетания вынимая 4 мяча из 12 во 2-ой корзне\n",
        "allCombBasket2"
      ],
      "metadata": {
        "colab": {
          "base_uri": "https://localhost:8080/"
        },
        "outputId": "c8268bcb-bee1-4c69-fb2e-0fcd7071dd8a",
        "id": "eWJdQy9FzyYN"
      },
      "execution_count": null,
      "outputs": [
        {
          "output_type": "execute_result",
          "data": {
            "text/plain": [
              "495"
            ]
          },
          "metadata": {},
          "execution_count": 41
        }
      ]
    },
    {
      "cell_type": "code",
      "source": [
        "White4pcCombBasket2 = Combination(4,5) # все сочетания вынимая 4 белых мяча из 5 во 2-ой корзне\n",
        "White4pcCombBasket2"
      ],
      "metadata": {
        "colab": {
          "base_uri": "https://localhost:8080/"
        },
        "id": "QQnRDOoz2rbf",
        "outputId": "66e4ef4e-0c12-411d-d94b-78175cf3350c"
      },
      "execution_count": null,
      "outputs": [
        {
          "output_type": "execute_result",
          "data": {
            "text/plain": [
              "5"
            ]
          },
          "metadata": {},
          "execution_count": 56
        }
      ]
    },
    {
      "cell_type": "code",
      "source": [
        "Black4pcCombBasket2 = Combination(4,7) # все сочетания вынимая 4 черных мяча из 7 во 2-ой корзне, то есть вынуть 0 белых\n",
        "Black4pcCombBasket2"
      ],
      "metadata": {
        "colab": {
          "base_uri": "https://localhost:8080/"
        },
        "id": "ZsWGChTE39jn",
        "outputId": "fa1fb914-77f5-4565-93d7-b2909e60026f"
      },
      "execution_count": null,
      "outputs": [
        {
          "output_type": "execute_result",
          "data": {
            "text/plain": [
              "35"
            ]
          },
          "metadata": {},
          "execution_count": 49
        }
      ]
    },
    {
      "cell_type": "code",
      "source": [
        "White2pcBlack2pcCombBasket2 = Combination(2,5) * Combination(2,7) # все сочетания вынимая 2 белых мяча из 5 и 2 черных мяча из 7 во 2-ой корзне\n",
        "# умножение, так как абстрактно представляется именно так, в конце проверить\n",
        "White2pcBlack2pcCombBasket2"
      ],
      "metadata": {
        "colab": {
          "base_uri": "https://localhost:8080/"
        },
        "id": "P80gYriO38Te",
        "outputId": "48a0940a-b635-49c9-ba53-5caed19a02a3"
      },
      "execution_count": null,
      "outputs": [
        {
          "output_type": "execute_result",
          "data": {
            "text/plain": [
              "210"
            ]
          },
          "metadata": {},
          "execution_count": 50
        }
      ]
    },
    {
      "cell_type": "code",
      "source": [
        "White1pcBlack3pcCombBasket2 = Combination(1,5) * Combination(3,7) # все сочетания вынимая 1 белых мяча из 5 и 3 черных мяча из 7 во 2-ой корзне\n",
        "White1pcBlack3pcCombBasket2"
      ],
      "metadata": {
        "colab": {
          "base_uri": "https://localhost:8080/"
        },
        "id": "hboqHwW66m0Q",
        "outputId": "e72061de-2401-4450-c8bc-745a5ec45df2"
      },
      "execution_count": null,
      "outputs": [
        {
          "output_type": "execute_result",
          "data": {
            "text/plain": [
              "175"
            ]
          },
          "metadata": {},
          "execution_count": 51
        }
      ]
    },
    {
      "cell_type": "code",
      "source": [
        "White3pcBlack1pcCombBasket2 = Combination(3,5) * Combination(1,7) # все сочетания вынимая 3 белых мяча из 5 и 1 черных мяча из 7 во 2-ой корзне\n",
        "White3pcBlack1pcCombBasket2"
      ],
      "metadata": {
        "colab": {
          "base_uri": "https://localhost:8080/"
        },
        "id": "al_YeTWl60x3",
        "outputId": "a8780372-31b1-460d-d179-3f743d288cfd"
      },
      "execution_count": null,
      "outputs": [
        {
          "output_type": "execute_result",
          "data": {
            "text/plain": [
              "70"
            ]
          },
          "metadata": {},
          "execution_count": 52
        }
      ]
    },
    {
      "cell_type": "code",
      "source": [
        "#проверка - ок\n",
        "allCombBasket2 == (White4pcCombBasket2 + Black4pcCombBasket2 + White2pcBlack2pcCombBasket2 + White1pcBlack3pcCombBasket2 + White3pcBlack1pcCombBasket2)"
      ],
      "metadata": {
        "colab": {
          "base_uri": "https://localhost:8080/"
        },
        "id": "1J8Phq6Z6_YQ",
        "outputId": "0a3e08b1-4b21-4efb-cac5-1fd1ebfbf821"
      },
      "execution_count": null,
      "outputs": [
        {
          "output_type": "execute_result",
          "data": {
            "text/plain": [
              "True"
            ]
          },
          "metadata": {},
          "execution_count": 58
        }
      ]
    },
    {
      "cell_type": "code",
      "source": [
        "#расчитаем вероятность\n",
        "P = (White2pcCombBasket1/allCombBasket1 * White1pcBlack3pcCombBasket2/allCombBasket2 + \n",
        "     White1pcCombBasket1/allCombBasket1 * White2pcBlack2pcCombBasket2/allCombBasket2 + \n",
        "     Black2pcCombBasket1/allCombBasket1 * White3pcBlack1pcCombBasket2/allCombBasket2)\n",
        "P"
      ],
      "metadata": {
        "colab": {
          "base_uri": "https://localhost:8080/"
        },
        "id": "dhqM0d1r7l-4",
        "outputId": "c2bb5d59-ea82-4fb6-d25e-e35b81f39fd9"
      },
      "execution_count": null,
      "outputs": [
        {
          "output_type": "execute_result",
          "data": {
            "text/plain": [
              "0.3686868686868687"
            ]
          },
          "metadata": {},
          "execution_count": 62
        }
      ]
    },
    {
      "cell_type": "markdown",
      "source": [
        "Ответ: 36,9%"
      ],
      "metadata": {
        "id": "9-oSHQuA87eZ"
      }
    },
    {
      "cell_type": "markdown",
      "source": [
        "3) На соревновании по биатлону один из трех спортсменов стреляет и попадает в мишень. Вероятность попадания для первого спортсмена равна 0.9, для второго — 0.8, для третьего — 0.6. Найти вероятность того, что выстрел произведен: a). первым спортсменом б). вторым спортсменом в). третьим спортсменом."
      ],
      "metadata": {
        "id": "W7oxsQwolyyO"
      }
    },
    {
      "cell_type": "code",
      "source": [
        "P1 = Bernully(1,1,0.9) * Bernully(0,1,0.8) * Bernully(0,1,0.6)\n",
        "P1"
      ],
      "metadata": {
        "colab": {
          "base_uri": "https://localhost:8080/"
        },
        "id": "2CO681rml0k0",
        "outputId": "085de96a-f294-48e9-b9e6-a679a8b6334d"
      },
      "execution_count": null,
      "outputs": [
        {
          "output_type": "execute_result",
          "data": {
            "text/plain": [
              "0.072"
            ]
          },
          "metadata": {},
          "execution_count": 22
        }
      ]
    },
    {
      "cell_type": "code",
      "source": [
        "P2 = Bernully(0,1,0.9) * Bernully(1,1,0.8) * Bernully(0,1,0.6)\n",
        "P2"
      ],
      "metadata": {
        "colab": {
          "base_uri": "https://localhost:8080/"
        },
        "id": "JmG6qA7amoaR",
        "outputId": "2f951ad9-03e6-4ee1-ae71-dda90280f447"
      },
      "execution_count": null,
      "outputs": [
        {
          "output_type": "execute_result",
          "data": {
            "text/plain": [
              "0.031999999999999994"
            ]
          },
          "metadata": {},
          "execution_count": 23
        }
      ]
    },
    {
      "cell_type": "code",
      "source": [
        "P3 = Bernully(0,1,0.9) * Bernully(0,1,0.8) * Bernully(1,1,0.6)\n",
        "P3"
      ],
      "metadata": {
        "colab": {
          "base_uri": "https://localhost:8080/"
        },
        "id": "y46vYfBnmvew",
        "outputId": "5a4cdec2-0c77-4cd7-e797-d06c2dfc2352"
      },
      "execution_count": null,
      "outputs": [
        {
          "output_type": "execute_result",
          "data": {
            "text/plain": [
              "0.011999999999999993"
            ]
          },
          "metadata": {},
          "execution_count": 24
        }
      ]
    },
    {
      "cell_type": "code",
      "source": [
        "P = P1 + P2 + P3\n",
        "P"
      ],
      "metadata": {
        "colab": {
          "base_uri": "https://localhost:8080/"
        },
        "id": "Dzp0mQx5m3H3",
        "outputId": "b0e4e0c4-92cb-4fe4-822f-b4b7b723f36a"
      },
      "execution_count": null,
      "outputs": [
        {
          "output_type": "execute_result",
          "data": {
            "text/plain": [
              "0.11599999999999998"
            ]
          },
          "metadata": {},
          "execution_count": 25
        }
      ]
    },
    {
      "cell_type": "markdown",
      "source": [
        "Подведем общий итог к 100%, и расчитаем вероятность попадания того или иного стрелка пропорционально полученным выше вероятностям\n"
      ],
      "metadata": {
        "id": "AbNv-q3am80q"
      }
    },
    {
      "cell_type": "code",
      "source": [
        "P_1 = P1/P\n",
        "P_1"
      ],
      "metadata": {
        "colab": {
          "base_uri": "https://localhost:8080/"
        },
        "id": "LdJu0j9bnuPa",
        "outputId": "1fc7724b-b009-493b-abd5-963142da703a"
      },
      "execution_count": null,
      "outputs": [
        {
          "output_type": "execute_result",
          "data": {
            "text/plain": [
              "0.6206896551724138"
            ]
          },
          "metadata": {},
          "execution_count": 26
        }
      ]
    },
    {
      "cell_type": "code",
      "source": [
        "P_2 = P2/P\n",
        "P_2"
      ],
      "metadata": {
        "colab": {
          "base_uri": "https://localhost:8080/"
        },
        "id": "E5iuLltLn5g4",
        "outputId": "491a5ac8-8e9f-433b-ee1b-ea5f79893ec9"
      },
      "execution_count": null,
      "outputs": [
        {
          "output_type": "execute_result",
          "data": {
            "text/plain": [
              "0.27586206896551724"
            ]
          },
          "metadata": {},
          "execution_count": 27
        }
      ]
    },
    {
      "cell_type": "code",
      "source": [
        "P_3 = P3/P\n",
        "P_3"
      ],
      "metadata": {
        "colab": {
          "base_uri": "https://localhost:8080/"
        },
        "id": "sRKsWFkuoBVw",
        "outputId": "ecf36f23-e636-4eb0-98e5-15ce1fc23f50"
      },
      "execution_count": null,
      "outputs": [
        {
          "output_type": "execute_result",
          "data": {
            "text/plain": [
              "0.10344827586206892"
            ]
          },
          "metadata": {},
          "execution_count": 28
        }
      ]
    },
    {
      "cell_type": "markdown",
      "source": [
        "Ответ: вероятность того, что выстрел произведен: a). первым спортсменом = 62% б). вторым спортсменом = 28%  в). третьим спортсменом = 10%. (Обязательно посмотреть разбор этой задачи потом) - НО СТРЕЛЯЕТ 1 СЧТРЕЛОК, ТАК ЧТО НОВОЕ РЕШЕНИЕ НИЖЕ"
      ],
      "metadata": {
        "id": "w6Iko_iBoFJM"
      }
    },
    {
      "cell_type": "markdown",
      "source": [
        "Используем теорему Байеса: P(A|B) = P(B|A) * P(A)/P(B)"
      ],
      "metadata": {
        "id": "GFzZR7IuCHfz"
      }
    },
    {
      "cell_type": "code",
      "source": [
        "# Полноя вероятность события B что попадаеет стрелок в цель\n",
        "PB = 1/3*0.9 + 1/3 * 0.8 + 1/3*0.6 \n",
        "PB"
      ],
      "metadata": {
        "colab": {
          "base_uri": "https://localhost:8080/"
        },
        "id": "fXQmYrsnHAVi",
        "outputId": "5c1f8a42-82a7-4548-a925-f059f19dfe69"
      },
      "execution_count": null,
      "outputs": [
        {
          "output_type": "execute_result",
          "data": {
            "text/plain": [
              "0.7666666666666666"
            ]
          },
          "metadata": {},
          "execution_count": 69
        }
      ]
    },
    {
      "cell_type": "code",
      "source": [
        "# 3.1) Стреляет и попадает первый стрелок\n",
        "P1 = 0.9 * 1/3 / PB\n",
        "P1"
      ],
      "metadata": {
        "colab": {
          "base_uri": "https://localhost:8080/"
        },
        "id": "_rtVVWUIComK",
        "outputId": "83f06c98-c4a1-4140-cd62-b285f0d9df71"
      },
      "execution_count": null,
      "outputs": [
        {
          "output_type": "execute_result",
          "data": {
            "text/plain": [
              "0.391304347826087"
            ]
          },
          "metadata": {},
          "execution_count": 75
        }
      ]
    },
    {
      "cell_type": "code",
      "source": [
        "# 3.2) Стреляет и попадает 2-ой стрелок\n",
        "P2 = 0.8 * 1/3 / PB\n",
        "P2"
      ],
      "metadata": {
        "colab": {
          "base_uri": "https://localhost:8080/"
        },
        "id": "ae6-o-NcH3Xx",
        "outputId": "f67eaf5f-1f05-4cc9-87e1-55101ee2b837"
      },
      "execution_count": null,
      "outputs": [
        {
          "output_type": "execute_result",
          "data": {
            "text/plain": [
              "0.3478260869565218"
            ]
          },
          "metadata": {},
          "execution_count": 76
        }
      ]
    },
    {
      "cell_type": "code",
      "source": [
        "# 3.3) Стреляет и попадает 3-ий стрелок\n",
        "P3 = 0.6 * 1/3 / PB\n",
        "P3"
      ],
      "metadata": {
        "colab": {
          "base_uri": "https://localhost:8080/"
        },
        "id": "ff7HcmuWH3g_",
        "outputId": "840337c0-7f46-428d-c5e6-118140a76035"
      },
      "execution_count": null,
      "outputs": [
        {
          "output_type": "execute_result",
          "data": {
            "text/plain": [
              "0.2608695652173913"
            ]
          },
          "metadata": {},
          "execution_count": 77
        }
      ]
    },
    {
      "cell_type": "markdown",
      "source": [
        "4) В университет на факультеты A и B поступило равное количество студентов, а на факультет C студентов поступило столько же, сколько на A и B вместе. Вероятность того, что студент факультета A сдаст первую сессию, равна 0.8. Для студента факультета B эта вероятность равна 0.7, а для студента факультета C - 0.9. Студент сдал первую сессию. Какова вероятность, что он учится: a). на факультете A б). на факультете B в). на факультете C?"
      ],
      "metadata": {
        "id": "0ogOcIH3oTFv"
      }
    },
    {
      "cell_type": "markdown",
      "source": [
        "Задача решена вручную с использованием визуальных методик  (см. приложенный файл Excel)"
      ],
      "metadata": {
        "id": "5UU-p9nVsqjP"
      }
    },
    {
      "cell_type": "markdown",
      "source": [
        "Если бы группы было 2, можно было бы легко решить задачу с помощью теоремы Байеса - можно и с помощью неее вобще-то"
      ],
      "metadata": {
        "id": "Ei4tiL5fsogD"
      }
    },
    {
      "cell_type": "markdown",
      "source": [
        "Решение с помощью теоремы Байеса\n",
        " P(A|B) = P(B|A) * P(A)/P(B)"
      ],
      "metadata": {
        "id": "Ae1_BLFKIOLb"
      }
    },
    {
      "cell_type": "code",
      "source": [
        "# Полноя вероятность события B что студент сдал сессию\n",
        "PB = 0.25*0.8 + 0.25 * 0.7 + 0.5*0.9 \n",
        "PB"
      ],
      "metadata": {
        "colab": {
          "base_uri": "https://localhost:8080/"
        },
        "id": "WX0_pseHIMwY",
        "outputId": "335c50ef-dbcf-4fc1-f781-70973d5372ef"
      },
      "execution_count": null,
      "outputs": [
        {
          "output_type": "execute_result",
          "data": {
            "text/plain": [
              "0.825"
            ]
          },
          "metadata": {},
          "execution_count": 82
        }
      ]
    },
    {
      "cell_type": "code",
      "source": [
        "# 3.1) Студент, сдавгий сессию учится в группе A\n",
        "P1 = 0.8 * 0.25 / PB\n",
        "P1"
      ],
      "metadata": {
        "colab": {
          "base_uri": "https://localhost:8080/"
        },
        "id": "IjNKwo9PINTg",
        "outputId": "9c072aa4-a4a7-4ee5-aae8-012938a17af4"
      },
      "execution_count": null,
      "outputs": [
        {
          "output_type": "execute_result",
          "data": {
            "text/plain": [
              "0.24242424242424246"
            ]
          },
          "metadata": {},
          "execution_count": 83
        }
      ]
    },
    {
      "cell_type": "code",
      "source": [
        "# 3.2) Студент, сдавгий сессию учится в группе B\n",
        "P2 = 0.7 * 0.25 / PB\n",
        "P2"
      ],
      "metadata": {
        "colab": {
          "base_uri": "https://localhost:8080/"
        },
        "id": "wC-EgzFMJGZS",
        "outputId": "6c66c329-cffd-4a21-e209-bc18485828c4"
      },
      "execution_count": null,
      "outputs": [
        {
          "output_type": "execute_result",
          "data": {
            "text/plain": [
              "0.21212121212121213"
            ]
          },
          "metadata": {},
          "execution_count": 84
        }
      ]
    },
    {
      "cell_type": "code",
      "source": [
        "# 3.3) Студент, сдавгий сессию учится в группе C\n",
        "P3 = 0.9 * 0.5 / PB\n",
        "P3"
      ],
      "metadata": {
        "colab": {
          "base_uri": "https://localhost:8080/"
        },
        "id": "YzwLGw8eJHhS",
        "outputId": "53b0046a-3008-4e08-8dd5-0abd2aebbecf"
      },
      "execution_count": null,
      "outputs": [
        {
          "output_type": "execute_result",
          "data": {
            "text/plain": [
              "0.5454545454545455"
            ]
          },
          "metadata": {},
          "execution_count": 85
        }
      ]
    },
    {
      "cell_type": "markdown",
      "source": [
        "5) Устройство состоит из трех деталей. Для первой детали вероятность выйти из строя в первый месяц равна 0.1, для второй - 0.2, для третьей - 0.25. Какова вероятность того, что в первый месяц выйдут из строя: а). все детали б). только две детали в). хотя бы одна деталь г). от одной до двух деталей?"
      ],
      "metadata": {
        "id": "gEvA8X5stTPW"
      }
    },
    {
      "cell_type": "markdown",
      "source": [
        "а). все детали"
      ],
      "metadata": {
        "id": "qBsfwFLGLpSl"
      }
    },
    {
      "cell_type": "code",
      "source": [
        "P_3 = 0.1 * 0.2 * 0.25\n",
        "P_3"
      ],
      "metadata": {
        "id": "9WlEbraMtUjj",
        "colab": {
          "base_uri": "https://localhost:8080/"
        },
        "outputId": "47f1e32b-9f86-460b-c827-0d4523c35157"
      },
      "execution_count": null,
      "outputs": [
        {
          "output_type": "execute_result",
          "data": {
            "text/plain": [
              "0.005000000000000001"
            ]
          },
          "metadata": {},
          "execution_count": 29
        }
      ]
    },
    {
      "cell_type": "markdown",
      "source": [
        "Ответ: все детали могут выйти из строя с вероятностью 0,5%"
      ],
      "metadata": {
        "id": "zhyyPjQOMamG"
      }
    },
    {
      "cell_type": "markdown",
      "source": [
        "б). только две детали"
      ],
      "metadata": {
        "id": "waZk34lMMoFN"
      }
    },
    {
      "cell_type": "code",
      "source": [
        "P_2 = 0.1 * 0.2 * (1 - 0.25) + 0.1 * (1 - 0.2) * 0.25 + (1 - 0.1) * 0.2 * 0.25\n",
        "P_2"
      ],
      "metadata": {
        "colab": {
          "base_uri": "https://localhost:8080/"
        },
        "id": "6tju8kvIMWtS",
        "outputId": "b110ad71-d4eb-4900-e6dc-5c22e01d5e60"
      },
      "execution_count": null,
      "outputs": [
        {
          "output_type": "execute_result",
          "data": {
            "text/plain": [
              "0.08000000000000002"
            ]
          },
          "metadata": {},
          "execution_count": 30
        }
      ]
    },
    {
      "cell_type": "markdown",
      "source": [
        "Ответ: только 2 детали могут выйти из строя с вероятностью 8%"
      ],
      "metadata": {
        "id": "Oajuz6n5NWnC"
      }
    },
    {
      "cell_type": "markdown",
      "source": [
        "в). хотя бы одна деталь"
      ],
      "metadata": {
        "id": "4sf5MfpqNnoZ"
      }
    },
    {
      "cell_type": "markdown",
      "source": [
        "Для начала посчитаем вероятность, что ни одна деталь не выйдет и строя\n"
      ],
      "metadata": {
        "id": "l7W_uWZMNsve"
      }
    },
    {
      "cell_type": "code",
      "source": [
        "P_0 = (1 - 0.1) * (1 - 0.2) * (1 - 0.25)\n",
        "P_0"
      ],
      "metadata": {
        "colab": {
          "base_uri": "https://localhost:8080/"
        },
        "id": "MUjyOBh7NSbr",
        "outputId": "5c98cda7-3e5e-40d3-c803-41172cd94ac1"
      },
      "execution_count": null,
      "outputs": [
        {
          "output_type": "execute_result",
          "data": {
            "text/plain": [
              "0.54"
            ]
          },
          "metadata": {},
          "execution_count": 31
        }
      ]
    },
    {
      "cell_type": "code",
      "source": [
        "P_1_to_3 = 1 - P_0\n",
        "P_1_to_3"
      ],
      "metadata": {
        "colab": {
          "base_uri": "https://localhost:8080/"
        },
        "id": "rneurtB7No3-",
        "outputId": "00231985-2aeb-4863-c719-d9418313813a"
      },
      "execution_count": null,
      "outputs": [
        {
          "output_type": "execute_result",
          "data": {
            "text/plain": [
              "0.45999999999999996"
            ]
          },
          "metadata": {},
          "execution_count": 32
        }
      ]
    },
    {
      "cell_type": "markdown",
      "source": [
        "Ответ: хотя бы одна деталь может выйти из строя с вероятностью 46%"
      ],
      "metadata": {
        "id": "Dy2UBAN2OpKp"
      }
    },
    {
      "cell_type": "markdown",
      "source": [
        "г). от одной до двух деталей"
      ],
      "metadata": {
        "id": "aMgxvq2gO2mc"
      }
    },
    {
      "cell_type": "code",
      "source": [
        "P_1_to_2 = P_1_to_3 - P_3\n",
        "P_1_to_2"
      ],
      "metadata": {
        "colab": {
          "base_uri": "https://localhost:8080/"
        },
        "id": "WlMf9h0UOhcR",
        "outputId": "2bf93a73-9ac4-4abc-f61f-0cb9818968fc"
      },
      "execution_count": null,
      "outputs": [
        {
          "output_type": "execute_result",
          "data": {
            "text/plain": [
              "0.45499999999999996"
            ]
          },
          "metadata": {},
          "execution_count": 33
        }
      ]
    },
    {
      "cell_type": "markdown",
      "source": [
        "Ответ: от одной до двух деталей могут выйти из строя с вероятностью 45,5%"
      ],
      "metadata": {
        "id": "HnEukMzRQ1o7"
      }
    },
    {
      "cell_type": "markdown",
      "source": [
        "Проверка"
      ],
      "metadata": {
        "id": "lmd4NtNASaUj"
      }
    },
    {
      "cell_type": "code",
      "source": [
        "P_1 = 0.1 * (1 - 0.2) * (1 - 0.25) + (1 - 0.1) * (1 - 0.2) * 0.25 + (1 - 0.1) * 0.2 * (1 - 0.25)\n",
        "P_1"
      ],
      "metadata": {
        "colab": {
          "base_uri": "https://localhost:8080/"
        },
        "id": "z5Uh3EhGO3d_",
        "outputId": "04c7c679-068a-4e9c-9505-b9457a72874c"
      },
      "execution_count": null,
      "outputs": [
        {
          "output_type": "execute_result",
          "data": {
            "text/plain": [
              "0.37500000000000006"
            ]
          },
          "metadata": {},
          "execution_count": 34
        }
      ]
    },
    {
      "cell_type": "markdown",
      "source": [
        "Только 1 деталь может выйти из строя с вероятностью 37,5%\n"
      ],
      "metadata": {
        "id": "OS2LoNzzPdCR"
      }
    },
    {
      "cell_type": "markdown",
      "source": [
        "Проверка"
      ],
      "metadata": {
        "id": "PqFKKNGGSd1x"
      }
    },
    {
      "cell_type": "code",
      "source": [
        "P_full = P_0 + P_1 + P_2 + P_3 \n",
        "P_full"
      ],
      "metadata": {
        "colab": {
          "base_uri": "https://localhost:8080/"
        },
        "id": "5qZJtGMGTNSI",
        "outputId": "3d4a4e55-c83f-45f3-fca1-cb482c20c6f1"
      },
      "execution_count": null,
      "outputs": [
        {
          "output_type": "execute_result",
          "data": {
            "text/plain": [
              "1.0"
            ]
          },
          "metadata": {},
          "execution_count": 35
        }
      ]
    }
  ]
}