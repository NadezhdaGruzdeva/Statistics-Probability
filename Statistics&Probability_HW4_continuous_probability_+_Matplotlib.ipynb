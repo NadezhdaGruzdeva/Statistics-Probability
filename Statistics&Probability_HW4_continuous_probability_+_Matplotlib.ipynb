{
  "nbformat": 4,
  "nbformat_minor": 0,
  "metadata": {
    "colab": {
      "provenance": [],
      "authorship_tag": "ABX9TyOUtTqKekEHredmLuNAVxh1",
      "include_colab_link": true
    },
    "kernelspec": {
      "name": "python3",
      "display_name": "Python 3"
    },
    "language_info": {
      "name": "python"
    }
  },
  "cells": [
    {
      "cell_type": "markdown",
      "metadata": {
        "id": "view-in-github",
        "colab_type": "text"
      },
      "source": [
        "<a href=\"https://colab.research.google.com/github/NadezhdaGruzdeva/Statistics-Probability/blob/main/Statistics%26Probability_HW4_continuous_probability_%2B_Matplotlib.ipynb\" target=\"_parent\"><img src=\"https://colab.research.google.com/assets/colab-badge.svg\" alt=\"Open In Colab\"/></a>"
      ]
    },
    {
      "cell_type": "markdown",
      "source": [
        "1) Случайная непрерывная величина A имеет равномерное распределение на промежутке (200, 800].\n",
        "Найдите ее среднее значение и дисперсию.\n",
        "\n"
      ],
      "metadata": {
        "id": "6UFUSa_dytIf"
      }
    },
    {
      "cell_type": "code",
      "source": [
        "MX = (200 + 800) / 2\n",
        "MX"
      ],
      "metadata": {
        "colab": {
          "base_uri": "https://localhost:8080/"
        },
        "id": "aeSCyMWdy2fF",
        "outputId": "1dbf7825-52b9-4297-d7df-e67383c63cee"
      },
      "execution_count": null,
      "outputs": [
        {
          "output_type": "execute_result",
          "data": {
            "text/plain": [
              "500.0"
            ]
          },
          "metadata": {},
          "execution_count": 3
        }
      ]
    },
    {
      "cell_type": "code",
      "source": [
        "DX = (800-200) ** 2 / 12\n",
        "DX"
      ],
      "metadata": {
        "colab": {
          "base_uri": "https://localhost:8080/"
        },
        "id": "EEcNsbO8zM1d",
        "outputId": "bf010c47-f2c2-48fd-89a9-4bc08482296e"
      },
      "execution_count": null,
      "outputs": [
        {
          "output_type": "execute_result",
          "data": {
            "text/plain": [
              "30000.0"
            ]
          },
          "metadata": {},
          "execution_count": 4
        }
      ]
    },
    {
      "cell_type": "markdown",
      "source": [
        "2) О случайной непрерывной равномерно распределенной величине B известно, что ее дисперсия равна 0.2.\n",
        "Можно ли найти правую границу величины B и ее среднее значение зная, что левая граница равна 0.5?\n",
        "\n",
        "Если да, найдите ее.\n",
        "\n"
      ],
      "metadata": {
        "id": "cuBc82gCyzj9"
      }
    },
    {
      "cell_type": "markdown",
      "source": [
        "MX = (a + b) / 2    \n",
        "\n",
        "DX = (b - a) ** 2 / 12"
      ],
      "metadata": {
        "id": "79dyPuWpz258"
      }
    },
    {
      "cell_type": "markdown",
      "source": [
        "0.2 = (b -0.5) ** 2 /12"
      ],
      "metadata": {
        "id": "r1IPbZjcztH2"
      }
    },
    {
      "cell_type": "code",
      "source": [
        "# правая граница\n",
        "b = 2.4**(1/2) + 0.5\n",
        "b"
      ],
      "metadata": {
        "colab": {
          "base_uri": "https://localhost:8080/"
        },
        "id": "9ZkVC6j-0381",
        "outputId": "77b3b024-b04c-4633-bb0d-f00ccdcaab63"
      },
      "execution_count": null,
      "outputs": [
        {
          "output_type": "execute_result",
          "data": {
            "text/plain": [
              "2.049193338482967"
            ]
          },
          "metadata": {},
          "execution_count": 5
        }
      ]
    },
    {
      "cell_type": "code",
      "source": [
        "# среднее значение\n",
        "MX = (0.5 + b) / 2\n",
        "MX"
      ],
      "metadata": {
        "colab": {
          "base_uri": "https://localhost:8080/"
        },
        "id": "eiZRDj3y1Q-Q",
        "outputId": "3c81bdd7-b97b-40f1-e4a8-03497a5d8ad9"
      },
      "execution_count": null,
      "outputs": [
        {
          "output_type": "execute_result",
          "data": {
            "text/plain": [
              "1.2745966692414834"
            ]
          },
          "metadata": {},
          "execution_count": 6
        }
      ]
    },
    {
      "cell_type": "code",
      "source": [
        "# проверка\n",
        "DX = (b-0.5) ** 2 / 12\n",
        "DX"
      ],
      "metadata": {
        "colab": {
          "base_uri": "https://localhost:8080/"
        },
        "id": "mCN30Wjv1bE1",
        "outputId": "67d6d215-947d-4e19-f485-e9d185277cc9"
      },
      "execution_count": null,
      "outputs": [
        {
          "output_type": "execute_result",
          "data": {
            "text/plain": [
              "0.20000000000000004"
            ]
          },
          "metadata": {},
          "execution_count": 7
        }
      ]
    },
    {
      "cell_type": "markdown",
      "source": [
        "3) Непрерывная случайная величина X распределена нормально и задана плотностью распределения\n",
        "f(x) = (1 / (4 * sqrt(2pi))) * exp((-(x+2)**2) / 32)\n",
        "\n",
        "Найдите:\n",
        "\n",
        "а). M(X)\n",
        "\n",
        "б). D(X)\n",
        "\n",
        "в). std(X) (среднее квадратичное отклонение)\n",
        "\n"
      ],
      "metadata": {
        "id": "oqu55gUFzhXV"
      }
    },
    {
      "cell_type": "code",
      "source": [
        "# M(X) = -2"
      ],
      "metadata": {
        "id": "R5rqI0Lg2k5l"
      },
      "execution_count": null,
      "outputs": []
    },
    {
      "cell_type": "code",
      "source": [
        "# D(X) = 2\n",
        "DX = 32 / 2\n",
        "DX"
      ],
      "metadata": {
        "colab": {
          "base_uri": "https://localhost:8080/"
        },
        "id": "BrAQh5Um4CLF",
        "outputId": "64de1a20-4c75-4ce2-fba4-9575f0386130"
      },
      "execution_count": null,
      "outputs": [
        {
          "output_type": "execute_result",
          "data": {
            "text/plain": [
              "16.0"
            ]
          },
          "metadata": {},
          "execution_count": 9
        }
      ]
    },
    {
      "cell_type": "code",
      "source": [
        "# std(X) (среднее квадратичное отклонение) = 4"
      ],
      "metadata": {
        "id": "Wiu6ddBQ4TnA"
      },
      "execution_count": null,
      "outputs": []
    },
    {
      "cell_type": "code",
      "source": [
        "# проверка\n",
        "DX == 4 ** 2"
      ],
      "metadata": {
        "colab": {
          "base_uri": "https://localhost:8080/"
        },
        "id": "rtf6Bx8T5PVO",
        "outputId": "3f3dacb7-eb74-4e9f-efde-d8145246ebf4"
      },
      "execution_count": null,
      "outputs": [
        {
          "output_type": "execute_result",
          "data": {
            "text/plain": [
              "True"
            ]
          },
          "metadata": {},
          "execution_count": 11
        }
      ]
    },
    {
      "cell_type": "code",
      "source": [
        "import math\n",
        "import matplotlib.pyplot as plt\n",
        "import numpy as np"
      ],
      "metadata": {
        "id": "LIEsm3eJC49e"
      },
      "execution_count": null,
      "outputs": []
    },
    {
      "cell_type": "code",
      "source": [
        "# Создаём экземпляр класса figure и добавляем к Figure область Axes\n",
        "fig, ax = plt.subplots()\n",
        "# Добавим заголовок графика\n",
        "ax.set_title('Плотнось распределения вероятности')\n",
        "# Название оси X:\n",
        "ax.set_xlabel('x')\n",
        "# Название оси Y:\n",
        "ax.set_ylabel('f(x)')\n",
        "# Начало и конец изменения значения X, разбитое на 100 точек\n",
        "x = np.linspace(-10, 6, 100) # X от -10 до 6\n",
        "# Построение кривой\n",
        "y = (1 / (4 * math.sqrt(2*math.pi))) * np.exp((-(x+2)**2) / 32) # не работает с math.exp, тк не дружит с ndarray\n",
        "ax.plot(x, y)\n",
        "plt.show()\n",
        "\n",
        "\n",
        "# x = 1\n",
        "# fx = (1 / (4 * math.sqrt(2*math.pi))) * math.exp((-(x+2)**2) / 32)\n",
        "# fx"
      ],
      "metadata": {
        "colab": {
          "base_uri": "https://localhost:8080/",
          "height": 295
        },
        "id": "3TzKjUYyCCem",
        "outputId": "1f89ff9e-02b7-4101-ab4d-15b22f029b35"
      },
      "execution_count": null,
      "outputs": [
        {
          "output_type": "display_data",
          "data": {
            "text/plain": [
              "<Figure size 432x288 with 1 Axes>"
            ],
            "image/png": "[encoded data removed]"
          },
          "metadata": {
            "needs_background": "light"
          }
        }
      ]
    },
    {
      "cell_type": "markdown",
      "source": [
        "4) Рост взрослого населения города X имеет нормальное распределение.\n",
        "Причем, средний рост равен 174 см, а среднее квадратичное отклонение равно 8 см.\n",
        "\n",
        "Какова вероятность того, что случайным образом выбранный взрослый человек имеет рост:\n",
        "\n",
        "а). больше 182 см\n",
        "\n",
        "б). больше 190 см\n",
        "\n",
        "в). от 166 см до 190 см\n",
        "\n",
        "г). от 166 см до 182 см\n",
        "\n",
        "д). от 158 см до 190 см\n",
        "\n",
        "е). не выше 150 см или не ниже 190 см\n",
        "\n",
        "ё). не выше 150 см или не ниже 198 см\n",
        "\n",
        "ж). ниже 166 см.\n",
        "\n"
      ],
      "metadata": {
        "id": "j8OT5wjD2fou"
      }
    },
    {
      "cell_type": "code",
      "source": [
        "# Создаём экземпляр класса figure и добавляем к Figure область Axes\n",
        "fig, ax = plt.subplots()\n",
        "# Добавим заголовок графика\n",
        "ax.set_title('Плотнось распределения вероятности')\n",
        "# Название оси X:\n",
        "ax.set_xlabel('x')\n",
        "# Название оси Y:\n",
        "ax.set_ylabel('f(x)')\n",
        "# Начало и конец изменения значения X, разбитое на 100 точек\n",
        "x = np.linspace(148, 200, 100) # X от 148 до 200\n",
        "# Построение кривой\n",
        "y = (1 / (8 * math.sqrt(2*math.pi))) * np.exp((-(x-174)**2) / (2*8**2)) # не работает с math.exp, тк не дружит с ndarray\n",
        "ax.plot(x, y)\n",
        "plt.show()"
      ],
      "metadata": {
        "colab": {
          "base_uri": "https://localhost:8080/",
          "height": 295
        },
        "id": "7jo4jjVJIcQo",
        "outputId": "c440eb78-aaf4-49fb-ba3c-80616c89134f"
      },
      "execution_count": null,
      "outputs": [
        {
          "output_type": "display_data",
          "data": {
            "text/plain": [
              "<Figure size 432x288 with 1 Axes>"
            ],
            "image/png": "[encoded data removed]"
          },
          "metadata": {
            "needs_background": "light"
          }
        }
      ]
    },
    {
      "cell_type": "code",
      "source": [
        "from scipy import stats"
      ],
      "metadata": {
        "id": "ZAmfiTBf53CA"
      },
      "execution_count": null,
      "outputs": []
    },
    {
      "cell_type": "code",
      "source": [
        "# а). больше 182 см\n",
        "P = 1 - stats.norm.cdf(182, loc=174, scale=8)\n",
        "P"
      ],
      "metadata": {
        "colab": {
          "base_uri": "https://localhost:8080/"
        },
        "id": "OXfIq9T27xtw",
        "outputId": "92db1e2c-4b95-4de4-848b-9a1b6ba4a79d"
      },
      "execution_count": null,
      "outputs": [
        {
          "output_type": "execute_result",
          "data": {
            "text/plain": [
              "0.15865525393145707"
            ]
          },
          "metadata": {},
          "execution_count": 16
        }
      ]
    },
    {
      "cell_type": "code",
      "source": [
        "# б). больше 190 см\n",
        "P = 1 - stats.norm.cdf(190, loc=174, scale=8)\n",
        "P"
      ],
      "metadata": {
        "colab": {
          "base_uri": "https://localhost:8080/"
        },
        "id": "3JLovWee9tqm",
        "outputId": "d4d38b50-8bb4-47a3-d868-64fceb5759db"
      },
      "execution_count": null,
      "outputs": [
        {
          "output_type": "execute_result",
          "data": {
            "text/plain": [
              "0.02275013194817921"
            ]
          },
          "metadata": {},
          "execution_count": 17
        }
      ]
    },
    {
      "cell_type": "code",
      "source": [
        "# в). от 166 см до 190 см\n",
        "P = 1 - stats.norm.cdf(166, loc=174, scale=8) - (1 - stats.norm.cdf(190, loc=174, scale=8))\n",
        "P"
      ],
      "metadata": {
        "colab": {
          "base_uri": "https://localhost:8080/"
        },
        "id": "X4HYVr569wUd",
        "outputId": "c7736e81-34f8-49f9-89e0-71c6c6c673f8"
      },
      "execution_count": null,
      "outputs": [
        {
          "output_type": "execute_result",
          "data": {
            "text/plain": [
              "0.8185946141203637"
            ]
          },
          "metadata": {},
          "execution_count": 18
        }
      ]
    },
    {
      "cell_type": "code",
      "source": [
        "# г). от 166 см до 182 см\n",
        "P = 1 - stats.norm.cdf(166, loc=174, scale=8) - (1 - stats.norm.cdf(182, loc=174, scale=8))\n",
        "P"
      ],
      "metadata": {
        "colab": {
          "base_uri": "https://localhost:8080/"
        },
        "id": "WtcV6sxx9wft",
        "outputId": "5ee1e8be-4c2a-4d5d-e37b-a2d7e6e20f08"
      },
      "execution_count": null,
      "outputs": [
        {
          "output_type": "execute_result",
          "data": {
            "text/plain": [
              "0.6826894921370859"
            ]
          },
          "metadata": {},
          "execution_count": 19
        }
      ]
    },
    {
      "cell_type": "code",
      "source": [
        "# д). от 158 см до 190 см\n",
        "P = 1 - stats.norm.cdf(158, loc=174, scale=8) - (1 - stats.norm.cdf(190, loc=174, scale=8))\n",
        "P"
      ],
      "metadata": {
        "colab": {
          "base_uri": "https://localhost:8080/"
        },
        "id": "nbqR4qx39wjw",
        "outputId": "8755f682-5b78-4aaf-a816-af04a9f1f672"
      },
      "execution_count": null,
      "outputs": [
        {
          "output_type": "execute_result",
          "data": {
            "text/plain": [
              "0.9544997361036416"
            ]
          },
          "metadata": {},
          "execution_count": 20
        }
      ]
    },
    {
      "cell_type": "code",
      "source": [
        "# е). не выше 150 см или не ниже 190 см\n",
        "P = 1 - stats.norm.cdf(190, loc=174, scale=8) + stats.norm.cdf(150, loc=174, scale=8)\n",
        "P"
      ],
      "metadata": {
        "colab": {
          "base_uri": "https://localhost:8080/"
        },
        "id": "yneny5P19z8V",
        "outputId": "73fd9908-6c6d-4a8a-911f-710118d69f71"
      },
      "execution_count": null,
      "outputs": [
        {
          "output_type": "execute_result",
          "data": {
            "text/plain": [
              "0.0241000299798093"
            ]
          },
          "metadata": {},
          "execution_count": 21
        }
      ]
    },
    {
      "cell_type": "code",
      "source": [
        "# ё). не выше 150 см или не ниже 198 см\n",
        "P = 1 - stats.norm.cdf(198, loc=174, scale=8) + stats.norm.cdf(150, loc=174, scale=8)\n",
        "P"
      ],
      "metadata": {
        "colab": {
          "base_uri": "https://localhost:8080/"
        },
        "id": "9lolUwtk90Bf",
        "outputId": "7eca9f9f-c49e-444c-ff22-f39de57e326b"
      },
      "execution_count": null,
      "outputs": [
        {
          "output_type": "execute_result",
          "data": {
            "text/plain": [
              "0.0026997960632601965"
            ]
          },
          "metadata": {},
          "execution_count": 22
        }
      ]
    },
    {
      "cell_type": "code",
      "source": [
        "# ж). ниже 166 см.\n",
        "P = stats.norm.cdf(166, loc=174, scale=8)\n",
        "P"
      ],
      "metadata": {
        "colab": {
          "base_uri": "https://localhost:8080/"
        },
        "id": "Ngheb4_I_SOH",
        "outputId": "6f064bff-23f9-4a00-b13f-d8cbce1d6f1c"
      },
      "execution_count": null,
      "outputs": [
        {
          "output_type": "execute_result",
          "data": {
            "text/plain": [
              "0.15865525393145707"
            ]
          },
          "metadata": {},
          "execution_count": 23
        }
      ]
    },
    {
      "cell_type": "markdown",
      "source": [
        "5) На сколько сигм (средних квадратичных отклонений) отклоняется рост человека, равный 190 см, от математического ожидания роста в популяции, в которой M(X) = 178 см и D(X) = 25 кв.см?"
      ],
      "metadata": {
        "id": "6KoLljv75dJ1"
      }
    },
    {
      "cell_type": "code",
      "source": [
        "Z = (190 - 178)/ 25**(1/2)\n",
        "Z"
      ],
      "metadata": {
        "colab": {
          "base_uri": "https://localhost:8080/"
        },
        "id": "HT0OKl_8zim8",
        "outputId": "6773874e-a72c-42ba-9283-7bbb4b4c5bb7"
      },
      "execution_count": null,
      "outputs": [
        {
          "output_type": "execute_result",
          "data": {
            "text/plain": [
              "2.4"
            ]
          },
          "metadata": {},
          "execution_count": 24
        }
      ]
    },
    {
      "cell_type": "markdown",
      "source": [
        "На 2,4"
      ],
      "metadata": {
        "id": "ARjKpB15PE0q"
      }
    },
    {
      "cell_type": "code",
      "source": [
        "# Создаём экземпляр класса figure и добавляем к Figure область Axes\n",
        "fig, ax = plt.subplots()\n",
        "# Добавим заголовок графика\n",
        "ax.set_title('Плотнось распределения вероятности')\n",
        "# Название оси X:\n",
        "ax.set_xlabel('x')\n",
        "# Название оси Y:\n",
        "ax.set_ylabel('f(x)')\n",
        "# Начало и конец изменения значения X, разбитое на 100 точек\n",
        "x = np.linspace(148, 200, 100) # X от 148 до 200\n",
        "# Построение кривой\n",
        "y = (1 / (5 * math.sqrt(2*math.pi))) * np.exp((-(x-178)**2) / (2*5**2)) # не работает с math.exp, тк не дружит с ndarray\n",
        "plt.axvline(x = 178, color = 'g', label = 'axvline - full height')\n",
        "plt.axvline(x = 178+5, color = 'b', label = 'axvline - full height')\n",
        "plt.axvline(x = 178-5, color = 'b', label = 'axvline - full height')\n",
        "plt.axvline(x = 178+5*2, color = 'r', label = 'axvline - full height')\n",
        "plt.axvline(x = 178-5*2, color = 'r', label = 'axvline - full height')\n",
        "# plt.vlines(x = 178-5*3, ymin = 0, ymax = (1 / (5 * math.sqrt(2*math.pi))) * np.exp((-(x-178)**2) / (2*5**2)), colors = 'green',\n",
        "#            label = 'vline_single - partial height')\n",
        "ax.plot(x, y)\n",
        "plt.show()"
      ],
      "metadata": {
        "colab": {
          "base_uri": "https://localhost:8080/",
          "height": 295
        },
        "id": "PxqdY-nUJ1jY",
        "outputId": "5430582f-d807-4595-f479-060f801b1257"
      },
      "execution_count": null,
      "outputs": [
        {
          "output_type": "display_data",
          "data": {
            "text/plain": [
              "<Figure size 432x288 with 1 Axes>"
            ],
            "image/png": "[encoded data removed]"
          },
          "metadata": {
            "needs_background": "light"
          }
        }
      ]
    },
    {
      "cell_type": "markdown",
      "source": [
        "Thanks God for StackoverFlow   \n",
        "\n",
        "https://stackoverflow.com/questions/75489422/how-can-i-create-a-plot-to-visualize-the-68-95-99-7-rule/75490087#75490087"
      ],
      "metadata": {
        "id": "8Ki0_4Eb4_P4"
      }
    },
    {
      "cell_type": "code",
      "source": [
        "# # define y as a lambda f(x, mu, sd)\n",
        "# f = lambda x, mu, sd: (1 / (sd * (2*np.pi)**0.5)) * np.exp((-(x-mu)**2) / (2*sd**2))\n",
        "\n",
        "# fig, ax = plt.subplots(figsize=(8, 3))\n",
        "# x = np.linspace(148, 200, 200)\n",
        "# mu = 178\n",
        "# sd = 5\n",
        "# ax.plot(x, f(x, mu, sd))\n",
        "\n",
        "# # define 68/95/99 locations and colors\n",
        "# xs = mu + sd*np.arange(-3, 4)\n",
        "# colors = [*'yrbgbry']\n",
        "\n",
        "# # draw lines at 68/95/99 points from 0 to the curve\n",
        "# ax.vlines(xs, ymin=0, ymax=[f(x, mu, sd) for x in xs], color=colors)\n",
        "\n",
        "# # relabel x ticks\n",
        "# plt.xticks(xs, [f'${n}\\sigma$' if n else '0' for n in range(-3, 4)])\n",
        "\n",
        "fig, ax = plt.subplots(figsize=(8, 3))\n",
        "x = np.linspace(148, 200, 200)\n",
        "mu = 178\n",
        "sd = 5\n",
        "y = (1 / (sd * (2*np.pi)**0.5)) * np.exp((-(x-mu)**2) / (2*sd**2))\n",
        "ax.plot(x, y)\n",
        "\n",
        "# use `where` condition to shade bounded regions\n",
        "bounds = mu + sd*np.array([-np.inf] + list(range(-3, 4)) + [np.inf])\n",
        "alphas = [0.1, 0.2, 0.5, 0.8, 0.8, 0.5, 0.2, 0.1]\n",
        "for left, right, alpha in zip(bounds, bounds[1:], alphas):\n",
        "    ax.fill_between(x, y, where=(x >= left) & (x < right), color='b', alpha=alpha)\n",
        "\n",
        "# relabel x ticks\n",
        "plt.xticks(bounds[1:-1], [f'${n}\\sigma$' if n else '0' for n in range(-3, 4)])\n",
        "\n",
        "# To label the region percentages, add text objects at the midpoints of the bounded regions:\n",
        "\n",
        "midpoints = mu + sd*np.arange(-3.5, 4)\n",
        "percents = [0.1, 2.1, 13.6, 34.1, 34.1, 13.6, 2.1, 0.1]\n",
        "colors = [*'kkwwwwkk']\n",
        "for m, p, c in zip(\n",
        "    midpoints, # midpoints of bounded regions\n",
        "    percents,  # percents captured by bounded regions\n",
        "    colors,    # colors of text labels\n",
        "):\n",
        "    ax.text(m, 0.01, f'{p}%', color=c, ha='center', va='bottom')"
      ],
      "metadata": {
        "id": "sLe8e0auKCYu",
        "colab": {
          "base_uri": "https://localhost:8080/",
          "height": 213
        },
        "outputId": "4e825315-f09e-4c12-c819-72d65b02fac6"
      },
      "execution_count": null,
      "outputs": [
        {
          "output_type": "display_data",
          "data": {
            "text/plain": [
              "<Figure size 576x216 with 1 Axes>"
            ],
            "image/png": "[encoded data removed]"
          },
          "metadata": {
            "needs_background": "light"
          }
        }
      ]
    },
    {
      "cell_type": "code",
      "source": [
        "np.arange(-3, 4)"
      ],
      "metadata": {
        "colab": {
          "base_uri": "https://localhost:8080/"
        },
        "id": "Q8D4bmoZ_rDM",
        "outputId": "580c6ae8-6254-4014-dd3d-5a4a7ca6274c"
      },
      "execution_count": null,
      "outputs": [
        {
          "output_type": "execute_result",
          "data": {
            "text/plain": [
              "array([-3, -2, -1,  0,  1,  2,  3])"
            ]
          },
          "metadata": {},
          "execution_count": 27
        }
      ]
    },
    {
      "cell_type": "code",
      "source": [],
      "metadata": {
        "id": "T0AxPGiq_sr8"
      },
      "execution_count": null,
      "outputs": []
    }
  ]
}