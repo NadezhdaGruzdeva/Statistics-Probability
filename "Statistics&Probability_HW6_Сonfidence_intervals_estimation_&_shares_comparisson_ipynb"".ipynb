{
  "nbformat": 4,
  "nbformat_minor": 0,
  "metadata": {
    "colab": {
      "provenance": [],
      "authorship_tag": "ABX9TyMrx6TM7bTWxSNe1OCECPQA",
      "include_colab_link": true
    },
    "kernelspec": {
      "name": "python3",
      "display_name": "Python 3"
    },
    "language_info": {
      "name": "python"
    }
  },
  "cells": [
    {
      "cell_type": "markdown",
      "metadata": {
        "id": "view-in-github",
        "colab_type": "text"
      },
      "source": [
        "<a href=\"https://colab.research.google.com/github/NadezhdaGruzdeva/Statistics-Probability/blob/main/%22Statistics%26Probability_HW6_%D0%A1onfidence_intervals_estimation_%26_shares_comparisson_ipynb%22%22.ipynb\" target=\"_parent\"><img src=\"https://colab.research.google.com/assets/colab-badge.svg\" alt=\"Open In Colab\"/></a>"
      ]
    },
    {
      "cell_type": "markdown",
      "source": [
        "###**Полезные ссылки:**  \n",
        "семинар https://gb.ru/lessons/307308  \n",
        "лекция  https://gb.ru/lessons/307239  \n",
        "доверительные интервалы в pythonhttps://www.codecamp.ru/blog/confidence-intervals-python/  \n",
        "лекции ВШЭ https://youtu.be/6H_r8gTnAu8  \n",
        "код ЛКО, ПКО https://www.codecamp.ru/blog/how-to-find-the-t-critical-value-in-python/  \n",
        "формулы Markdown https://en.wikibooks.org/wiki/LaTeX/Mathematics"
      ],
      "metadata": {
        "id": "qL5Odi6gM7XL"
      }
    },
    {
      "cell_type": "markdown",
      "source": [
        "###**Формулы постр доверит интервалов**  \n",
        "st.t.interval(alpha, length, loc, scale))  #for the small dataset where the n<=30  \n",
        "st.norm.interval(alpha, loc, scale)) # for the large dataset where the n>30\n",
        "###**Формулы постр критических областей**  \n",
        "stats.t.ppf(1 - alpha) #левосторонняя критическая область  \n",
        "stats.t.ppf(1 - alpha) #левосторонняя критическая область  \n",
        "stats.t.ppf(alpha / 2) и stats.t.ppf(1 - alpha / 2) #двусторонняя критическая область  \n",
        "df= n - 1 обязательный параметр при распределении Стюдента  \n",
        "stats.t.ppf(alpha / 2, df=2*(n - 1)) #  если 2 выборки то 2*(n - 1)  \n",
        "stats.norm.ppf(1-a)  # ПКО для нормального распр, степени свободы не задаем, так как известна дисперсия генеральной совокупности"
      ],
      "metadata": {
        "id": "28vbTLDCOC3k"
      }
    },
    {
      "cell_type": "code",
      "source": [
        "import numpy as np\n",
        "import scipy.stats as stats"
      ],
      "metadata": {
        "id": "q5XzNyQjzztF"
      },
      "execution_count": null,
      "outputs": []
    },
    {
      "cell_type": "markdown",
      "source": [
        "###**Доверительный интервал.**  "
      ],
      "metadata": {
        "id": "QWqFt5hIjy66"
      }
    },
    {
      "cell_type": "markdown",
      "source": [
        "\n",
        "**Сигма совокупности известна**  \n",
        "$\\bar X \\pm Z_\\frac{a}{2}*\\frac{\\sigma}{\\sqrt n}$\n"
      ],
      "metadata": {
        "id": "TOjgkSrBJlb1"
      }
    },
    {
      "cell_type": "markdown",
      "source": [
        "**Сигма совокупности неизвестна**  \n",
        "\n",
        "$\\bar X \\pm t_\\frac{a}{2}*\\frac{\\sigma}{\\sqrt n}$"
      ],
      "metadata": {
        "id": "d7ESUrXyjzV5"
      }
    },
    {
      "cell_type": "markdown",
      "source": [
        "###**Задача 1**\n",
        "Известно, что генеральная совокупность распределена нормально со средним квадратическим отклонением, равным 16.  \n",
        "Найти доверительный интервал для оценки математического ожидания a с надежностью 0.95, если выборочная средняя M = 80, а объем выборки n = 256."
      ],
      "metadata": {
        "id": "MgTsWIORIjQF"
      }
    },
    {
      "cell_type": "code",
      "source": [
        "# Дано:\n",
        "q = 16\n",
        "a = 0.05\n",
        "x = 80\n",
        "n = 256"
      ],
      "metadata": {
        "id": "INTtt58NKoe3"
      },
      "execution_count": null,
      "outputs": []
    },
    {
      "cell_type": "markdown",
      "source": [
        "\n",
        "**Доверительный интервал для мат ожидания при известном среднекв откл ген сов-ти**  \n",
        "$\\bar X \\pm Z_\\frac{a}{2}*\\frac{\\sigma}{\\sqrt n}$\n"
      ],
      "metadata": {
        "id": "wCFL_fBNK_wc"
      }
    },
    {
      "cell_type": "markdown",
      "source": [
        "Найдем $Z_\\frac{a}{2}$"
      ],
      "metadata": {
        "id": "W7nKR7yrNYoI"
      }
    },
    {
      "cell_type": "code",
      "source": [
        "z = stats.norm.ppf(1 - a / 2)\n",
        "z"
      ],
      "metadata": {
        "colab": {
          "base_uri": "https://localhost:8080/"
        },
        "id": "MWe86-mQLcyS",
        "outputId": "b77b333b-7772-4c5e-9bb4-99257ab7637d"
      },
      "execution_count": null,
      "outputs": [
        {
          "output_type": "execute_result",
          "data": {
            "text/plain": [
              "1.959963984540054"
            ]
          },
          "metadata": {},
          "execution_count": 7
        }
      ]
    },
    {
      "cell_type": "code",
      "source": [
        "LeftBoarder = x - z * q / np.sqrt(n)\n",
        "LeftBoarder"
      ],
      "metadata": {
        "colab": {
          "base_uri": "https://localhost:8080/"
        },
        "id": "O93_4V70N01d",
        "outputId": "c4a8a172-b520-433e-dc95-57c73ad1d6b2"
      },
      "execution_count": null,
      "outputs": [
        {
          "output_type": "execute_result",
          "data": {
            "text/plain": [
              "78.04003601545995"
            ]
          },
          "metadata": {},
          "execution_count": 9
        }
      ]
    },
    {
      "cell_type": "code",
      "source": [
        "RightBoarder = x + z * q / np.sqrt(n)\n",
        "RightBoarder"
      ],
      "metadata": {
        "colab": {
          "base_uri": "https://localhost:8080/"
        },
        "id": "d70yth0pRlHT",
        "outputId": "6289aa4a-36bc-4312-a28b-1aee8f0d9922"
      },
      "execution_count": null,
      "outputs": [
        {
          "output_type": "execute_result",
          "data": {
            "text/plain": [
              "81.95996398454005"
            ]
          },
          "metadata": {},
          "execution_count": 11
        }
      ]
    },
    {
      "cell_type": "markdown",
      "source": [
        "###**Задача 2**  \n",
        "В результате 10 независимых измерений некоторой величины X, выполненных с одинаковой точностью, получены опытные данные:\n",
        "6.9, 6.1, 6.2, 6.8, 7.5, 6.3, 6.4, 6.9, 6.7, 6.1  \n",
        "Предполагая, что результаты измерений подчинены нормальному закону распределения вероятностей, оценить истинное значение величины X при помощи доверительного интервала, покрывающего это значение с доверительной вероятностью 0,95."
      ],
      "metadata": {
        "id": "2kqoyYzHq5iC"
      }
    },
    {
      "cell_type": "markdown",
      "source": [
        "\n",
        "**Доверительный интервал для мат ожидания при неизвестном среднекв откл ген сов-ти**  \n",
        "$\\bar X \\pm t_\\frac{a}{2}*\\frac{\\sigma}{\\sqrt n}$\n"
      ],
      "metadata": {
        "id": "kPk1oN_sSDWi"
      }
    },
    {
      "cell_type": "code",
      "source": [
        "# Дано:\n",
        "n = 10\n",
        "viborka = [6.9, 6.1, 6.2, 6.8, 7.5, 6.3, 6.4, 6.9, 6.7, 6.1]\n",
        "a = 0.05"
      ],
      "metadata": {
        "id": "OQo3oeuSSN5h"
      },
      "execution_count": null,
      "outputs": []
    },
    {
      "cell_type": "markdown",
      "source": [
        "Найдем $t_\\frac{a}{2}$"
      ],
      "metadata": {
        "id": "c25K_qRyT5hp"
      }
    },
    {
      "cell_type": "code",
      "source": [
        "t = stats.t.ppf (1 - a / 2, len(viborka) - 1)\n",
        "t"
      ],
      "metadata": {
        "colab": {
          "base_uri": "https://localhost:8080/"
        },
        "id": "q7xP-_g6Tl3S",
        "outputId": "240e56fe-7573-4601-db9a-7a9b9e48509b"
      },
      "execution_count": null,
      "outputs": [
        {
          "output_type": "execute_result",
          "data": {
            "text/plain": [
              "2.2621571627409915"
            ]
          },
          "metadata": {},
          "execution_count": 22
        }
      ]
    },
    {
      "cell_type": "code",
      "source": [
        "x = np.mean(viborka)\n",
        "x"
      ],
      "metadata": {
        "colab": {
          "base_uri": "https://localhost:8080/"
        },
        "id": "2M0FINPEU2Hd",
        "outputId": "cac6f9d1-4e04-4e15-ad3c-2bc8dafbb8cc"
      },
      "execution_count": null,
      "outputs": [
        {
          "output_type": "execute_result",
          "data": {
            "text/plain": [
              "6.590000000000001"
            ]
          },
          "metadata": {},
          "execution_count": 23
        }
      ]
    },
    {
      "cell_type": "code",
      "source": [
        "q = np.std(viborka)\n",
        "q"
      ],
      "metadata": {
        "colab": {
          "base_uri": "https://localhost:8080/"
        },
        "id": "v5TaC4J1VBw9",
        "outputId": "1f3b6445-a13c-415f-8df9-3cf959319066"
      },
      "execution_count": null,
      "outputs": [
        {
          "output_type": "execute_result",
          "data": {
            "text/plain": [
              "0.42766809560686203"
            ]
          },
          "metadata": {},
          "execution_count": 26
        }
      ]
    },
    {
      "cell_type": "code",
      "source": [
        "LeftBoarder = x - t * q / np.sqrt(n)\n",
        "LeftBoarder"
      ],
      "metadata": {
        "colab": {
          "base_uri": "https://localhost:8080/"
        },
        "id": "fGE_aMI-UaBy",
        "outputId": "5c9503ae-be5b-46a2-b88e-35e4dbd39959"
      },
      "execution_count": null,
      "outputs": [
        {
          "output_type": "execute_result",
          "data": {
            "text/plain": [
              "6.284064674352047"
            ]
          },
          "metadata": {},
          "execution_count": 27
        }
      ]
    },
    {
      "cell_type": "code",
      "source": [
        "RightBoarder = x + t * q / np.sqrt(n)\n",
        "RightBoarder"
      ],
      "metadata": {
        "colab": {
          "base_uri": "https://localhost:8080/"
        },
        "id": "GrqN5Y2SUxEi",
        "outputId": "1df0272e-881b-4311-a6c5-1d038dd38b88"
      },
      "execution_count": null,
      "outputs": [
        {
          "output_type": "execute_result",
          "data": {
            "text/plain": [
              "6.8959353256479545"
            ]
          },
          "metadata": {},
          "execution_count": 28
        }
      ]
    },
    {
      "cell_type": "markdown",
      "source": [
        "Проверка"
      ],
      "metadata": {
        "id": "YKkvtGSbXUl6"
      }
    },
    {
      "cell_type": "code",
      "source": [
        "stats.t.interval(alpha = 1 - a, df = len(viborka)-1, loc = np.mean(viborka), scale=stats.sem(viborka))"
      ],
      "metadata": {
        "colab": {
          "base_uri": "https://localhost:8080/"
        },
        "id": "AjxhLg6eWmt5",
        "outputId": "357c0958-3504-4a21-9b3a-7554291d0dc7"
      },
      "execution_count": null,
      "outputs": [
        {
          "output_type": "execute_result",
          "data": {
            "text/plain": [
              "(6.267515851415713, 6.912484148584288)"
            ]
          },
          "metadata": {},
          "execution_count": 33
        }
      ]
    },
    {
      "cell_type": "markdown",
      "source": [
        "Есть небольшие различия"
      ],
      "metadata": {
        "id": "_mivf8EPXssa"
      }
    },
    {
      "cell_type": "markdown",
      "source": [
        "###**Задача 3.**  \n",
        "Рост дочерей 175, 167, 154, 174, 178, 148, 160, 167, 169, 170  \n",
        "Рост матерей  178, 165, 165, 173, 168, 155, 160, 164, 178, 175  \n",
        "Используя эти данные построить 95% доверительный интервал для разности среднего роста родителей и детей."
      ],
      "metadata": {
        "id": "y3EEPZA1SeGs"
      }
    },
    {
      "cell_type": "code",
      "source": [
        "# Дано:\n",
        "daughters = [175, 167, 154, 174, 178, 148, 160, 167, 169, 170]\n",
        "mothers = [178, 165, 165, 173, 168, 155, 160, 164, 178, 175]\n",
        "a = 0.05"
      ],
      "metadata": {
        "id": "s7W569MeZKRZ"
      },
      "execution_count": null,
      "outputs": []
    },
    {
      "cell_type": "markdown",
      "source": [
        "**Доверительный интервал для разницы между средними значениями**   \n",
        "$\\Delta \\pm t_\\frac{a}{2}*S_\\Delta$ , где  \n",
        "$S_\\Delta = \\sqrt {\\frac{D}{n_1} + \\frac{D}{n_2}}$ - стандартная ошибка разности средних\n",
        "\n",
        "$D = \\frac{1}{2} * (D1 + D2)$  - объединенная дисперсия \n"
      ],
      "metadata": {
        "id": "WjdijfKbZI3K"
      }
    },
    {
      "cell_type": "markdown",
      "source": [
        "расчитаем $\\Delta$ - разность средних"
      ],
      "metadata": {
        "id": "-rGOkpX0c4-E"
      }
    },
    {
      "cell_type": "code",
      "source": [
        "delta = np.mean(mothers) - np.mean(daughters)\n",
        "delta"
      ],
      "metadata": {
        "colab": {
          "base_uri": "https://localhost:8080/"
        },
        "id": "BZsgtU7eadhW",
        "outputId": "564a02e9-aced-4f95-8134-b9b5ade6f0a6"
      },
      "execution_count": null,
      "outputs": [
        {
          "output_type": "execute_result",
          "data": {
            "text/plain": [
              "1.9000000000000057"
            ]
          },
          "metadata": {},
          "execution_count": 46
        }
      ]
    },
    {
      "cell_type": "markdown",
      "source": [
        "расчитаем $t_\\frac{a}{2}$ - разность средних\n"
      ],
      "metadata": {
        "id": "mgSfpJg0dUDq"
      }
    },
    {
      "cell_type": "code",
      "source": [
        "t = stats.t.ppf (1 - a / 2, 2 * (len(viborka) - 1))\n",
        "t"
      ],
      "metadata": {
        "colab": {
          "base_uri": "https://localhost:8080/"
        },
        "id": "MlIOdhU0dPVJ",
        "outputId": "4ab660db-f5d5-4dbf-a410-d88f76e730ee"
      },
      "execution_count": null,
      "outputs": [
        {
          "output_type": "execute_result",
          "data": {
            "text/plain": [
              "2.10092204024096"
            ]
          },
          "metadata": {},
          "execution_count": 39
        }
      ]
    },
    {
      "cell_type": "markdown",
      "source": [
        "Расчитаем объединенную дисперсию"
      ],
      "metadata": {
        "id": "Q4pEc8qReEXa"
      }
    },
    {
      "cell_type": "code",
      "source": [
        "D = (np.var(daughters, ddof=1) + np.var(mothers, ddof=1))/2\n",
        "D"
      ],
      "metadata": {
        "colab": {
          "base_uri": "https://localhost:8080/"
        },
        "id": "d8mGVqt8d29g",
        "outputId": "cae3e54f-a371-4e2a-bfb1-357e57d540ec"
      },
      "execution_count": null,
      "outputs": [
        {
          "output_type": "execute_result",
          "data": {
            "text/plain": [
              "75.58333333333334"
            ]
          },
          "metadata": {},
          "execution_count": 47
        }
      ]
    },
    {
      "cell_type": "markdown",
      "source": [
        "расчитаем стандартную ошибку разности средних $S_\\Delta = \\sqrt {\\frac{D}{n_1} + \\frac{D}{n_2}}$"
      ],
      "metadata": {
        "id": "J8-DAkFpeYCZ"
      }
    },
    {
      "cell_type": "code",
      "source": [
        "S_delta = np.sqrt(D / len(daughters) + D / len(mothers))\n",
        "S_delta"
      ],
      "metadata": {
        "colab": {
          "base_uri": "https://localhost:8080/"
        },
        "id": "3nnnvgxKeTLv",
        "outputId": "6c5955eb-680a-41de-f598-b03ba2b4e5c6"
      },
      "execution_count": null,
      "outputs": [
        {
          "output_type": "execute_result",
          "data": {
            "text/plain": [
              "3.8880157750022915"
            ]
          },
          "metadata": {},
          "execution_count": 48
        }
      ]
    },
    {
      "cell_type": "markdown",
      "source": [
        "Ну и наконец расчитаем доверительный интервал для разницы между средними значениями**   \n",
        "$\\Delta \\pm t_\\frac{a}{2}*S_\\Delta$"
      ],
      "metadata": {
        "id": "wD4dLyvgeyOg"
      }
    },
    {
      "cell_type": "code",
      "source": [
        "leftBoarder = delta - t * S_delta\n",
        "leftBoarder"
      ],
      "metadata": {
        "colab": {
          "base_uri": "https://localhost:8080/"
        },
        "id": "pys5CjzEe4bf",
        "outputId": "0d3a2f53-4151-4302-d5f9-b2cc64f297fd"
      },
      "execution_count": null,
      "outputs": [
        {
          "output_type": "execute_result",
          "data": {
            "text/plain": [
              "-6.268418034506846"
            ]
          },
          "metadata": {},
          "execution_count": 49
        }
      ]
    },
    {
      "cell_type": "code",
      "source": [
        "rightBoarder = delta + t * S_delta\n",
        "rightBoarder"
      ],
      "metadata": {
        "colab": {
          "base_uri": "https://localhost:8080/"
        },
        "id": "zSQnrZHpedno",
        "outputId": "5e8ef28c-265d-4f29-a9c1-48fcebcb1987"
      },
      "execution_count": null,
      "outputs": [
        {
          "output_type": "execute_result",
          "data": {
            "text/plain": [
              "10.068418034506857"
            ]
          },
          "metadata": {},
          "execution_count": 50
        }
      ]
    }
  ]
}