{
  "nbformat": 4,
  "nbformat_minor": 0,
  "metadata": {
    "colab": {
      "provenance": [],
      "authorship_tag": "ABX9TyNFoO2mfbFIxYTj2AqK1euf",
      "include_colab_link": true
    },
    "kernelspec": {
      "name": "python3",
      "display_name": "Python 3"
    },
    "language_info": {
      "name": "python"
    }
  },
  "cells": [
    {
      "cell_type": "markdown",
      "metadata": {
        "id": "view-in-github",
        "colab_type": "text"
      },
      "source": [
        "<a href=\"https://colab.research.google.com/github/NadezhdaGruzdeva/Statistics-Probability/blob/main/Statistics%26Probability_HW7_Nonparametric_statistics_or_tests_based_on_rangs_for_non_normal_normal_distribution.ipynb\" target=\"_parent\"><img src=\"https://colab.research.google.com/assets/colab-badge.svg\" alt=\"Open In Colab\"/></a>"
      ]
    },
    {
      "cell_type": "markdown",
      "source": [
        "###**Полезные ссылки:**  \n",
        "семинар https://gb.ru/lessons/307309  \n",
        "лекция  https://gb.ru/lessons/307240    \n",
        "доверительные интервалы в pythonhttps://www.codecamp.ru/blog/confidence-intervals-python/  \n",
        "лекции ВШЭ https://youtu.be/6H_r8gTnAu8  \n",
        "код ЛКО, ПКО https://www.codecamp.ru/blog/how-to-find-the-t-critical-value-in-python/  \n",
        "формулы Markdown https://en.wikibooks.org/wiki/LaTeX/Mathematics"
      ],
      "metadata": {
        "id": "qL5Odi6gM7XL"
      }
    },
    {
      "cell_type": "markdown",
      "source": [
        "###**Формулы постр доверит интервалов**  \n",
        "st.t.interval(alpha, length, loc, scale))  #for the small dataset where the n<=30  \n",
        "st.norm.interval(alpha, loc, scale)) # for the large dataset where the n>30\n",
        "###**Формулы постр критических областей**  \n",
        "stats.t.ppf(1 - alpha) #левосторонняя критическая область  \n",
        "stats.t.ppf(1 - alpha) #левосторонняя критическая область  \n",
        "stats.t.ppf(alpha / 2) и stats.t.ppf(1 - alpha / 2) #двусторонняя критическая область  \n",
        "df= n - 1 обязательный параметр при распределении Стюдента  \n",
        "stats.t.ppf(alpha / 2, df=2*(n - 1)) #  если 2 выборки то 2*(n - 1)  \n",
        "stats.norm.ppf(1-a)  # ПКО для нормального распр, степени свободы не задаем, так как известна дисперсия генеральной совокупности"
      ],
      "metadata": {
        "id": "28vbTLDCOC3k"
      }
    },
    {
      "cell_type": "markdown",
      "source": [
        "#**Формулы статисических тестов**  \n",
        "##**1. Параметрические тесты (для нормального распределения и равными дисперсиями**\n",
        "###**1.1. Для проверки гипотез о матожидании**\n",
        "**1.1.1. <ins>t-тест Стьюдента при неизвестной дисперсии генеральной совокупности<ins>**\n",
        "stats.ttest_1samp(viborka,m) #одновыборочный критерий Стюдента, m-среднее предполаг зн-е генеральной совокупности  \n",
        "stats.ttest_ind(viborka1,viborka2) #двухвыборочный критерий Стюдента для независимых выборок  \n",
        "stats.ttest_rel(viborka1,viborka2) #двухвыборочный критерий Стюдента для зависимых выборок  \n",
        "**1.1.2. <ins>z-тест при известной дисперсии генеральной совокупности<ins>**  \n",
        "statsmodels.stats.weightstats.ztest(x1, x2=None, value=0, alternative='two-sided', usevar='pooled', ddof=1.0)  \n",
        "\n",
        "##**2. Неараметрические тесты (где не соблюдается требование нормальности распределения или равенства дисперсий**\n",
        "###**2.1. Для сравнения 2 групп**\n",
        "**2.1.1. <ins>Тест сравнения незвисымых воборок Манна-Уитни<ins>**  \n",
        "stats.mannwhitneyu(x1,y1)\n",
        "**2.1.2. <ins>Тест сравнения звисымых воборок Уилкоксона<ins>**  \n",
        "stats.wilcoxon(x, y)  \n",
        "###**2.2. Множественное сравнение**\n",
        "**2.2.1. <ins>Тест сравнения незвисымых воборок Крускула-Уолиса<ins>**  \n",
        "stats.kruskal(x, y, z)\n",
        "**2.2.2. <ins>Тест сравнения звисымых воборок Фридмана<ins>**  \n",
        "stats.friedmanchisquare(x, y, z)\n",
        "\n",
        "##**3. Тест на нормальность**\n",
        "stats.shapiro(viborka1) #тест на нормальность распр-я Шапиро Уилко  \n"
      ],
      "metadata": {
        "id": "sveqiwHxHMf-"
      }
    },
    {
      "cell_type": "code",
      "source": [
        "import numpy as np\n",
        "import scipy.stats as stats"
      ],
      "metadata": {
        "id": "q5XzNyQjzztF"
      },
      "execution_count": null,
      "outputs": []
    },
    {
      "cell_type": "markdown",
      "source": [
        "###**Доверительный интервал.**  "
      ],
      "metadata": {
        "id": "QWqFt5hIjy66"
      }
    },
    {
      "cell_type": "markdown",
      "source": [
        "\n",
        "**Сигма совокупности известна**  \n",
        "$\\bar X \\pm Z_\\frac{a}{2}*\\frac{\\sigma}{\\sqrt n}$\n"
      ],
      "metadata": {
        "id": "TOjgkSrBJlb1"
      }
    },
    {
      "cell_type": "markdown",
      "source": [
        "**Сигма совокупности неизвестна**  \n",
        "\n",
        "$\\bar X \\pm t_\\frac{a}{2}*\\frac{\\sigma}{\\sqrt n}$"
      ],
      "metadata": {
        "id": "d7ESUrXyjzV5"
      }
    },
    {
      "cell_type": "markdown",
      "source": [
        "###**Задача 1**\n",
        "1 )  Даны две  независимые выборки. Не соблюдается условие нормальности  \n",
        "x1  380,420, 290  \n",
        "y1 140,360,200,900  \n",
        "Сделайте вывод по результатам, полученным с помощью функции"
      ],
      "metadata": {
        "id": "MgTsWIORIjQF"
      }
    },
    {
      "cell_type": "code",
      "source": [
        "# Дано:\n",
        "x1 = [380,420, 290]\n",
        "y1 = [140,360,200,900]"
      ],
      "metadata": {
        "id": "INTtt58NKoe3"
      },
      "execution_count": null,
      "outputs": []
    },
    {
      "cell_type": "markdown",
      "source": [
        "Используем критерий Манна-Уитни"
      ],
      "metadata": {
        "id": "NO5xqREXNooD"
      }
    },
    {
      "cell_type": "code",
      "source": [
        "stats.mannwhitneyu(x1,y1)"
      ],
      "metadata": {
        "colab": {
          "base_uri": "https://localhost:8080/"
        },
        "id": "0hPNwEljNHSD",
        "outputId": "0efac1cd-92db-4dae-82e7-9e3791839bf1"
      },
      "execution_count": null,
      "outputs": [
        {
          "output_type": "execute_result",
          "data": {
            "text/plain": [
              "MannwhitneyuResult(statistic=8.0, pvalue=0.6285714285714286)"
            ]
          },
          "metadata": {},
          "execution_count": 18
        }
      ]
    },
    {
      "cell_type": "markdown",
      "source": [
        "Вывод: Нулевая гипотеза не отвергается при уровне максимальном уровне альфа = 63%. Как привило задают значение альфа = 1%, 5% или 10%. То есть в большинстве случаев нулевая гипотеза не отвергается, статистически значимых различий нет\n"
      ],
      "metadata": {
        "id": "wCFL_fBNK_wc"
      }
    },
    {
      "cell_type": "markdown",
      "source": [
        "###**Задача 2**  \n",
        "Исследовалось влияние препарата на уровень давления пациентов. Сначала измерялось давление до приема препарата, потом через 10 минут и через 30 минут. Есть ли статистически значимые различия?\n",
        "\n",
        "1е измерение до приема препарата: 150, 160, 165, 145, 155\n",
        "\n",
        "2е измерение через 10 минут: 140, 155, 150,  130, 135\n",
        "\n",
        "3е измерение через 30 минут: 130, 130, 120, 130, 125"
      ],
      "metadata": {
        "id": "2kqoyYzHq5iC"
      }
    },
    {
      "cell_type": "markdown",
      "source": [
        "Используем критерий Фридмана"
      ],
      "metadata": {
        "id": "_Oyw6h17NwOo"
      }
    },
    {
      "cell_type": "code",
      "source": [
        "# Дано:\n",
        "x = [150, 160, 165, 145, 155]\n",
        "y = [140, 155, 150, 130, 135]\n",
        "z = [130, 130, 120, 130, 125]"
      ],
      "metadata": {
        "id": "BHz2GzxaN7Pl"
      },
      "execution_count": null,
      "outputs": []
    },
    {
      "cell_type": "code",
      "source": [
        "stats.friedmanchisquare(x, y, z)"
      ],
      "metadata": {
        "colab": {
          "base_uri": "https://localhost:8080/"
        },
        "id": "q7xP-_g6Tl3S",
        "outputId": "54832511-ccfd-49cc-d8e3-fadf92595474"
      },
      "execution_count": null,
      "outputs": [
        {
          "output_type": "execute_result",
          "data": {
            "text/plain": [
              "FriedmanchisquareResult(statistic=9.578947368421062, pvalue=0.00831683351100441)"
            ]
          },
          "metadata": {},
          "execution_count": 20
        }
      ]
    },
    {
      "cell_type": "markdown",
      "source": [
        "Вывод: Нулевая гипотеза не отвергается при уровне максимальном уровне альфа = 0.83%. Как привило задают значение альфа = 1%, 5% или 10%. То есть в большинстве случаев нулевая гипотеза отвергается, есть статистически значимые различия.\n"
      ],
      "metadata": {
        "id": "cwIU-3wBOUfA"
      }
    },
    {
      "cell_type": "markdown",
      "source": [
        "###**Задача 3.**  \n",
        "Сравните 1 и 2 е измерения, предполагая, что 3го измерения через 30 минут не было."
      ],
      "metadata": {
        "id": "y3EEPZA1SeGs"
      }
    },
    {
      "cell_type": "code",
      "source": [
        "# Дано:\n",
        "x = [150, 160, 165, 145, 155]\n",
        "y = [140, 155, 150, 130, 135]"
      ],
      "metadata": {
        "id": "s7W569MeZKRZ"
      },
      "execution_count": null,
      "outputs": []
    },
    {
      "cell_type": "markdown",
      "source": [
        "Используем критерий Уилкоксона"
      ],
      "metadata": {
        "id": "PibpgtVgOlo4"
      }
    },
    {
      "cell_type": "code",
      "source": [
        "stats.wilcoxon(x, y)"
      ],
      "metadata": {
        "colab": {
          "base_uri": "https://localhost:8080/"
        },
        "id": "BZsgtU7eadhW",
        "outputId": "0d73cb18-5fe8-4361-aa74-6afa4115788c"
      },
      "execution_count": null,
      "outputs": [
        {
          "output_type": "execute_result",
          "data": {
            "text/plain": [
              "WilcoxonResult(statistic=0.0, pvalue=0.0625)"
            ]
          },
          "metadata": {},
          "execution_count": 22
        }
      ]
    },
    {
      "cell_type": "markdown",
      "source": [
        "Вывод: Нулевая гипотеза не отвергается при уровне максимальном уровне альфа = 6,25%. Как привило задают значение альфа = 1%, 5% или 10%. Если значение альфа  =10% нулевая гипотеза отвергается, есть статистически значимые различия. Если значение альфа  = 1% или 5% нулевая гипотеза не отвергается,  статистически значимых различий нет."
      ],
      "metadata": {
        "id": "lgOGNZs1O823"
      }
    },
    {
      "cell_type": "markdown",
      "source": [
        "###**Задача 4.**  \n",
        "Даны 3 группы  учеников плавания.\n",
        "\n",
        "В 1 группе время на дистанцию 50 м составляют:\n",
        "\n",
        "56, 60, 62, 55, 71, 67, 59, 58, 64, 67\n",
        "\n",
        "Вторая группа : 57, 58, 69, 48, 72, 70, 68, 71, 50, 53\n",
        "\n",
        "Третья группа: 57, 67, 49, 48, 47, 55, 66, 51, 54"
      ],
      "metadata": {
        "id": "74e_P7-EO_4I"
      }
    },
    {
      "cell_type": "code",
      "source": [
        "# Дано:\n",
        "x = [56, 60, 62, 55, 71, 67, 59, 58, 64, 67]\n",
        "y = [57, 58, 69, 48, 72, 70, 68, 71, 50, 53]\n",
        "z = [57, 67, 49, 48, 47, 55, 66, 51, 54]"
      ],
      "metadata": {
        "id": "lOdRoUKfPKSZ"
      },
      "execution_count": null,
      "outputs": []
    },
    {
      "cell_type": "markdown",
      "source": [
        "Используем критерий Крускала Уолиса"
      ],
      "metadata": {
        "id": "EPT98coDPXKQ"
      }
    },
    {
      "cell_type": "code",
      "source": [
        "stats.kruskal(x, y, z)"
      ],
      "metadata": {
        "colab": {
          "base_uri": "https://localhost:8080/"
        },
        "id": "STjjl9jUPHYE",
        "outputId": "4b2507f2-09b6-4a92-bff6-7e19c87aa763"
      },
      "execution_count": null,
      "outputs": [
        {
          "output_type": "execute_result",
          "data": {
            "text/plain": [
              "KruskalResult(statistic=5.465564058257224, pvalue=0.0650380998590494)"
            ]
          },
          "metadata": {},
          "execution_count": 24
        }
      ]
    },
    {
      "cell_type": "markdown",
      "source": [
        "Вывод: Нулевая гипотеза не отвергается при уровне максимальном уровне альфа = 6,25%. Как привило задают значение альфа = 1%, 5% или 10%. Если значение альфа =10% нулевая гипотеза отвергается, есть статистически значимые различия. Если значение альфа = 1% или 5% нулевая гипотеза не отвергается, статистически значимых различий нет.\n"
      ],
      "metadata": {
        "id": "TnEnX2ZUPixD"
      }
    },
    {
      "cell_type": "markdown",
      "source": [
        "###**Задача 5**  \n",
        " Заявляется, что партия изготавливается со средним арифметическим 2,5 см. Проверить данную гипотезу, если известно, что размеры изделий подчинены нормальному закону распределения. Объем выборки 10, уровень статистической значимости 5%\n",
        "\n",
        "2.51, 2.35, 2.74, 2.56, 2.40, 2.36, 2.65, 2.7, 2.67, 2.34"
      ],
      "metadata": {
        "id": "wXx2Mq7APll5"
      }
    },
    {
      "cell_type": "code",
      "source": [
        "# Дано:\n",
        "m = 2.5\n",
        "n = 10\n",
        "a = 0.05\n",
        "viborka = [2.51, 2.35, 2.74, 2.56, 2.40, 2.36, 2.65, 2.7, 2.67, 2.34]"
      ],
      "metadata": {
        "id": "OF67IohLQ8Qv"
      },
      "execution_count": null,
      "outputs": []
    },
    {
      "cell_type": "markdown",
      "source": [
        "Распределение нормальное, гипотеза о равенстве мат. ожидания, дисперсия генеральной совокупности неизвестна, используем t-критерий Стьюдента"
      ],
      "metadata": {
        "id": "X0ZLpgkGP4BL"
      }
    },
    {
      "cell_type": "markdown",
      "source": [
        "**1) Формируем гипотезу:**  \n",
        "H0: m = 2.5  \n",
        "H1: m != 2.5  "
      ],
      "metadata": {
        "id": "_xae4BN3Zghc"
      }
    },
    {
      "cell_type": "markdown",
      "source": [
        "**2) Выберем критерий статистической значимости:**     \n",
        "по условию задачи а = 0,05"
      ],
      "metadata": {
        "id": "InrRDqryZyuz"
      }
    },
    {
      "cell_type": "markdown",
      "source": [
        "**3) Выберем статистический критерий:**   \n",
        "Распределение нормальное, дисперсия генеральной совокупности не известна, поэтому выбираем критерий Стюдента\n",
        "\n",
        "$t_н=\\frac{\\bar X-\\mu}{\\sigma_n/\\sqrt n}$"
      ],
      "metadata": {
        "id": "cWw6acNfZyu0"
      }
    },
    {
      "cell_type": "code",
      "source": [
        "Xavg = np.mean(viborka)\n",
        "q_n = np.std(viborka,ddof=1) #несмещеная\n",
        "Xavg, q_n"
      ],
      "metadata": {
        "colab": {
          "base_uri": "https://localhost:8080/"
        },
        "id": "eW8g548dbk-H",
        "outputId": "5c3ce443-5cea-436c-9c1f-c00e65862d4a"
      },
      "execution_count": null,
      "outputs": [
        {
          "output_type": "execute_result",
          "data": {
            "text/plain": [
              "(2.5279999999999996, 0.1572542173961923)"
            ]
          },
          "metadata": {},
          "execution_count": 26
        }
      ]
    },
    {
      "cell_type": "code",
      "source": [
        "t = (Xavg - m) / ((q_n) /(n ** (1/2)) )\n",
        "t"
      ],
      "metadata": {
        "colab": {
          "base_uri": "https://localhost:8080/"
        },
        "outputId": "e694ff45-ef92-4232-a7bc-59f6253121f5",
        "id": "VEjqT7HCZyu0"
      },
      "execution_count": null,
      "outputs": [
        {
          "output_type": "execute_result",
          "data": {
            "text/plain": [
              "0.5630613661802959"
            ]
          },
          "metadata": {},
          "execution_count": 27
        }
      ]
    },
    {
      "cell_type": "markdown",
      "source": [
        "**4) Расчет табличного критерия:**  \n",
        "с помощью функции"
      ],
      "metadata": {
        "id": "G5a3RswNZyu1"
      }
    },
    {
      "cell_type": "code",
      "source": [
        "t1 = stats.t.ppf(a / 2, df = n - 1) #  двусторонний критерий при распределении Стюдента \n",
        "t2 = stats.t.ppf(1 - a / 2, df = n - 1)\n",
        "t1, t2"
      ],
      "metadata": {
        "colab": {
          "base_uri": "https://localhost:8080/"
        },
        "outputId": "90eb49d0-8565-4054-8b91-f44720327820",
        "id": "DIRKXE4-Zyu1"
      },
      "execution_count": null,
      "outputs": [
        {
          "output_type": "execute_result",
          "data": {
            "text/plain": [
              "(-2.262157162740992, 2.2621571627409915)"
            ]
          },
          "metadata": {},
          "execution_count": 28
        }
      ]
    },
    {
      "cell_type": "markdown",
      "source": [
        "**5) Сравнение критериев**\n",
        "Нулевая гипотеза не отвергается в случае если расчетный критерий лежит в интервале табличного со знаком - и + (двустороняя гипотеза)"
      ],
      "metadata": {
        "id": "GXPz90LVZyu1"
      }
    },
    {
      "cell_type": "code",
      "source": [
        "t > t1 and t < t2"
      ],
      "metadata": {
        "colab": {
          "base_uri": "https://localhost:8080/"
        },
        "outputId": "292e77d0-375d-4592-b883-f10bbc697857",
        "id": "jf2-IHQKZyu2"
      },
      "execution_count": null,
      "outputs": [
        {
          "output_type": "execute_result",
          "data": {
            "text/plain": [
              "True"
            ]
          },
          "metadata": {},
          "execution_count": 29
        }
      ]
    },
    {
      "cell_type": "markdown",
      "source": [
        "**6)  Вывод**  "
      ],
      "metadata": {
        "id": "DujPyrK4Zyu2"
      }
    },
    {
      "cell_type": "markdown",
      "source": [
        "Нулевая гипотеза не отвергается, партия изготавливается со средним арифметическим 2,5 см. с доверительной вероятностью 95%"
      ],
      "metadata": {
        "id": "V7S_iw5AZyu2"
      }
    },
    {
      "cell_type": "code",
      "source": [
        "stats.ttest_1samp(viborka,m) #одновыборочный критерий Стюдента"
      ],
      "metadata": {
        "colab": {
          "base_uri": "https://localhost:8080/"
        },
        "id": "Iwokt0NhN0tk",
        "outputId": "704af70c-fa65-4217-bf1e-4db33b4a8a2f"
      },
      "execution_count": null,
      "outputs": [
        {
          "output_type": "execute_result",
          "data": {
            "text/plain": [
              "Ttest_1sampResult(statistic=0.5630613661802959, pvalue=0.5871439993940628)"
            ]
          },
          "metadata": {},
          "execution_count": 30
        }
      ]
    }
  ]
}