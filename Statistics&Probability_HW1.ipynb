{
  "nbformat": 4,
  "nbformat_minor": 0,
  "metadata": {
    "colab": {
      "provenance": [],
      "authorship_tag": "ABX9TyP189un+77wo2P2vOdy8sXh",
      "include_colab_link": true
    },
    "kernelspec": {
      "name": "python3",
      "display_name": "Python 3"
    },
    "language_info": {
      "name": "python"
    }
  },
  "cells": [
    {
      "cell_type": "markdown",
      "metadata": {
        "id": "view-in-github",
        "colab_type": "text"
      },
      "source": [
        "<a href=\"https://colab.research.google.com/github/NadezhdaGruzdeva/Statistics-Probability/blob/main/Statistics%26Probability_HW1.ipynb\" target=\"_parent\"><img src=\"https://colab.research.google.com/assets/colab-badge.svg\" alt=\"Open In Colab\"/></a>"
      ]
    },
    {
      "cell_type": "markdown",
      "source": [
        "###Задача 1  \n",
        "Из колоды в 52 карты извлекаются случайным образом 4 карты.  \n",
        "a) Найти вероятность того, что все карты – крести.  \n",
        "б) Найти вероятность, что среди 4-х карт окажется хотя бы один туз."
      ],
      "metadata": {
        "id": "NXzMBFM8fM6H"
      }
    },
    {
      "cell_type": "markdown",
      "source": [
        "1.1. Найти вероятность того, что все карты – крести.  \n",
        "Всего 52 карт из них:  \n",
        "- 13 карт крести  \n",
        "- 39 карт не крести  \n",
        "P(A) = m/n  \n",
        "P(A) - вероятность того, что все карты – крести  \n",
        "m - число различных вариантов вытащить 4 крести  \n",
        "n - число всех сочетаний 4 карт из 52 "
      ],
      "metadata": {
        "id": "5Apbptu4fx4f"
      }
    },
    {
      "cell_type": "markdown",
      "source": [
        "1.1.1. Создадим функцию для расчета сочетаний"
      ],
      "metadata": {
        "id": "OLL_vmePgIuN"
      }
    },
    {
      "cell_type": "code",
      "source": [
        "import math"
      ],
      "metadata": {
        "id": "_YDlr3OZlW17"
      },
      "execution_count": null,
      "outputs": []
    },
    {
      "cell_type": "code",
      "source": [
        "def combination(k,n): \n",
        "  '''Функция для сочетний\n",
        "  k - количество элементов в наборе\n",
        "  n - общее число элементов\n",
        "  '''\n",
        "  return int(math.factorial(n) / (math.factorial(k) * math.factorial(n - k)))"
      ],
      "metadata": {
        "id": "0yOf6PkTiOUH"
      },
      "execution_count": null,
      "outputs": []
    },
    {
      "cell_type": "markdown",
      "source": [
        "**1.1**.2. Найдем m (число различных вариантов вытащить 4 крести) как количество сочений 4 элементов из множества 9 элементов"
      ],
      "metadata": {
        "id": "1iWLrv_Fme4Y"
      }
    },
    {
      "cell_type": "code",
      "source": [
        "m = combination(4,13)\n",
        "m"
      ],
      "metadata": {
        "colab": {
          "base_uri": "https://localhost:8080/"
        },
        "id": "-dL7YDoclpcK",
        "outputId": "8664eeaf-4ff8-4904-f326-77ed750e5fc2"
      },
      "execution_count": null,
      "outputs": [
        {
          "output_type": "execute_result",
          "data": {
            "text/plain": [
              "715"
            ]
          },
          "metadata": {},
          "execution_count": 4
        }
      ]
    },
    {
      "cell_type": "markdown",
      "source": [
        "1.1.3. Найдем n (число всех сочетаний 4 карт из 52) как количество сочений 4 элементов из множества 52 элементов"
      ],
      "metadata": {
        "id": "ytyGFBh-m1MP"
      }
    },
    {
      "cell_type": "code",
      "source": [
        "n = combination(4,52)\n",
        "n"
      ],
      "metadata": {
        "colab": {
          "base_uri": "https://localhost:8080/"
        },
        "id": "h8kWLcz1m_YC",
        "outputId": "4f95ecee-b1d2-489b-d2ec-9f16c00c70c1"
      },
      "execution_count": null,
      "outputs": [
        {
          "output_type": "execute_result",
          "data": {
            "text/plain": [
              "270725"
            ]
          },
          "metadata": {},
          "execution_count": 5
        }
      ]
    },
    {
      "cell_type": "markdown",
      "source": [
        "1.1*.4*. Найдем вероятность вытащить 4 крести"
      ],
      "metadata": {
        "id": "TPmww1_5nK5n"
      }
    },
    {
      "cell_type": "code",
      "source": [
        "P = m/n\n",
        "P"
      ],
      "metadata": {
        "colab": {
          "base_uri": "https://localhost:8080/"
        },
        "id": "QfVnztFbnf-I",
        "outputId": "92cb6f66-5356-4602-dc8b-5c6c6c572d98"
      },
      "execution_count": null,
      "outputs": [
        {
          "output_type": "execute_result",
          "data": {
            "text/plain": [
              "0.0026410564225690276"
            ]
          },
          "metadata": {},
          "execution_count": 6
        }
      ]
    },
    {
      "cell_type": "markdown",
      "source": [
        "Ответ: 0,264%"
      ],
      "metadata": {
        "id": "x7PxmnHOnhon"
      }
    },
    {
      "cell_type": "markdown",
      "source": [
        "1.2. Найти вероятность, что среди 4-х карт окажется хотя бы один туз.  \n",
        "Всего 36 карт из них:  \n",
        "- 4 туза  \n",
        "- 48 не туза  \n",
        "\n",
        "*Пойдем по пути подсказанному вами и Демидом на семинаре, и найдем все варианты вытащить не туз, затем вычтем это число из общего числа вариантов, и получится число вариантов, где есть хотя бы 1 туз*  \n",
        "P(A) = m/n  \n",
        "P(A) - вероятность того, что есть туз в руке \n",
        "m - число различных вариантов вытащить хотя бы 1 туз\n",
        "n - число всех сочетаний 4 карт из 52 \n",
        "\n",
        "m = n - t  \n",
        "t = число различных вариантов без тузов"
      ],
      "metadata": {
        "id": "l0Ogwn3rsaHD"
      }
    },
    {
      "cell_type": "code",
      "source": [
        "n = combination(4,52)\n",
        "n"
      ],
      "metadata": {
        "colab": {
          "base_uri": "https://localhost:8080/"
        },
        "id": "jQt3JygmsZUE",
        "outputId": "6d9ffeaf-ef62-4d47-e145-706204f9474e"
      },
      "execution_count": null,
      "outputs": [
        {
          "output_type": "execute_result",
          "data": {
            "text/plain": [
              "270725"
            ]
          },
          "metadata": {},
          "execution_count": 7
        }
      ]
    },
    {
      "cell_type": "code",
      "source": [
        "t = combination(4,48)\n",
        "t"
      ],
      "metadata": {
        "colab": {
          "base_uri": "https://localhost:8080/"
        },
        "id": "Qqdz-1m0ucRy",
        "outputId": "fa40c92b-1fba-45b3-f066-1cad4990dd98"
      },
      "execution_count": null,
      "outputs": [
        {
          "output_type": "execute_result",
          "data": {
            "text/plain": [
              "194580"
            ]
          },
          "metadata": {},
          "execution_count": 8
        }
      ]
    },
    {
      "cell_type": "code",
      "source": [
        "m = n - t\n",
        "m"
      ],
      "metadata": {
        "colab": {
          "base_uri": "https://localhost:8080/"
        },
        "id": "2gVleWwNulM6",
        "outputId": "c388bcf8-81c9-438e-d2af-678c1140819d"
      },
      "execution_count": null,
      "outputs": [
        {
          "output_type": "execute_result",
          "data": {
            "text/plain": [
              "76145"
            ]
          },
          "metadata": {},
          "execution_count": 9
        }
      ]
    },
    {
      "cell_type": "code",
      "source": [
        "P = m/n\n",
        "P"
      ],
      "metadata": {
        "colab": {
          "base_uri": "https://localhost:8080/"
        },
        "id": "qjweiXSovFoc",
        "outputId": "d1a17a05-64ca-4958-b53b-d7fbf8753e3e"
      },
      "execution_count": null,
      "outputs": [
        {
          "output_type": "execute_result",
          "data": {
            "text/plain": [
              "0.2812632745405855"
            ]
          },
          "metadata": {},
          "execution_count": 10
        }
      ]
    },
    {
      "cell_type": "markdown",
      "source": [
        "Ответ: 28%"
      ],
      "metadata": {
        "id": "EP5UWmEuwMSh"
      }
    },
    {
      "cell_type": "markdown",
      "source": [
        "###Задача 2  \n",
        "На входной двери подъезда установлен кодовый замок, содержащий десять кнопок с цифрами от 0 до 9.  \n",
        "Код содержит три цифры, которые нужно нажать одновременно.  \n",
        "Какова вероятность того, что человек, не знающий код, откроет дверь с первой попытки?"
      ],
      "metadata": {
        "id": "aj1AbbnqoiO3"
      }
    },
    {
      "cell_type": "markdown",
      "source": [
        "*Также используем сочетание для решение данной задачи, используя ранее созданную функцию*"
      ],
      "metadata": {
        "id": "vMENER9CoaSX"
      }
    },
    {
      "cell_type": "markdown",
      "source": [
        "P(A) = m/n\n",
        "P(A) - вероятность того, что ввели правильный код  \n",
        "m - число благоприятствующмх вариантов  \n",
        "n - общее число вариантов"
      ],
      "metadata": {
        "id": "MO4bDcURo-Ju"
      }
    },
    {
      "cell_type": "code",
      "source": [
        "'Вариант конечно очивидно 1 , но вот формальная проверка'\n",
        "m = combination(3,3)\n",
        "m"
      ],
      "metadata": {
        "colab": {
          "base_uri": "https://localhost:8080/"
        },
        "id": "4uktkHM_qis0",
        "outputId": "c5a48b0f-d4f9-4e9f-c456-9eb908b50da8"
      },
      "execution_count": null,
      "outputs": [
        {
          "output_type": "execute_result",
          "data": {
            "text/plain": [
              "1"
            ]
          },
          "metadata": {},
          "execution_count": 11
        }
      ]
    },
    {
      "cell_type": "code",
      "source": [
        "n = combination(3,10)\n",
        "n"
      ],
      "metadata": {
        "colab": {
          "base_uri": "https://localhost:8080/"
        },
        "id": "rv-AayTiqWb3",
        "outputId": "52a896c1-bbec-457c-91cf-b9a790892c13"
      },
      "execution_count": null,
      "outputs": [
        {
          "output_type": "execute_result",
          "data": {
            "text/plain": [
              "120"
            ]
          },
          "metadata": {},
          "execution_count": 12
        }
      ]
    },
    {
      "cell_type": "code",
      "source": [
        "P = m/n\n",
        "P"
      ],
      "metadata": {
        "colab": {
          "base_uri": "https://localhost:8080/"
        },
        "id": "e6zVhG3hq8_U",
        "outputId": "2cad39ba-bc89-48ee-85b7-a6aa5d08b45c"
      },
      "execution_count": null,
      "outputs": [
        {
          "output_type": "execute_result",
          "data": {
            "text/plain": [
              "0.008333333333333333"
            ]
          },
          "metadata": {},
          "execution_count": 13
        }
      ]
    },
    {
      "cell_type": "markdown",
      "source": [
        "Ответ: 0,83% или 1 к 120."
      ],
      "metadata": {
        "id": "TZaLYNc_rpcE"
      }
    },
    {
      "cell_type": "markdown",
      "source": [
        "###Задача 3  \n",
        "В ящике имеется 15 деталей, из которых 9 окрашены.  \n",
        "Рабочий случайным образом извлекает 3 детали.  \n",
        "Какова вероятность того, что все извлеченные детали окрашены?"
      ],
      "metadata": {
        "id": "6BQ49AzBr-wM"
      }
    },
    {
      "cell_type": "markdown",
      "source": [
        "*И снова сочетания)*  \n",
        "P(A) = m/n  \n",
        "P(A) - вероятность  \n",
        "m - число благоприятствующмх вариантов  \n",
        "n - общее число вариантов  \n",
        "\n",
        "9 деталей окрашенны  \n",
        "6 - не окрашены"
      ],
      "metadata": {
        "id": "hdQukVDv5EEq"
      }
    },
    {
      "cell_type": "code",
      "source": [
        "m = combination(3,9)\n",
        "m"
      ],
      "metadata": {
        "colab": {
          "base_uri": "https://localhost:8080/"
        },
        "id": "dZ-CXP4nrUgM",
        "outputId": "b2b7309c-aa93-47aa-c838-0a0366198394"
      },
      "execution_count": null,
      "outputs": [
        {
          "output_type": "execute_result",
          "data": {
            "text/plain": [
              "84"
            ]
          },
          "metadata": {},
          "execution_count": 14
        }
      ]
    },
    {
      "cell_type": "code",
      "source": [
        "n = combination(3,15)\n",
        "n"
      ],
      "metadata": {
        "colab": {
          "base_uri": "https://localhost:8080/"
        },
        "id": "TPgjit0A5rWi",
        "outputId": "d84999d0-773c-409a-99ae-e368bf68e9e0"
      },
      "execution_count": null,
      "outputs": [
        {
          "output_type": "execute_result",
          "data": {
            "text/plain": [
              "455"
            ]
          },
          "metadata": {},
          "execution_count": 15
        }
      ]
    },
    {
      "cell_type": "code",
      "source": [
        "P = m/n\n",
        "P"
      ],
      "metadata": {
        "colab": {
          "base_uri": "https://localhost:8080/"
        },
        "id": "uXuuzoSf5xGo",
        "outputId": "81d87ca8-c8fa-48d1-9845-d1d483c150e0"
      },
      "execution_count": null,
      "outputs": [
        {
          "output_type": "execute_result",
          "data": {
            "text/plain": [
              "0.18461538461538463"
            ]
          },
          "metadata": {},
          "execution_count": 16
        }
      ]
    },
    {
      "cell_type": "markdown",
      "source": [
        "Ответ: 18,5%"
      ],
      "metadata": {
        "id": "JHQrpG3F52i5"
      }
    },
    {
      "cell_type": "markdown",
      "source": [
        "###Задача 4  \n",
        "В лотерее 100 билетов. Из них 2 выигрышных.  \n",
        "Какова вероятность того, что 2 приобретенных билета окажутся выигрышными?"
      ],
      "metadata": {
        "id": "2ZEThyfT6v3o"
      }
    },
    {
      "cell_type": "markdown",
      "source": [
        "Решение аналогично задаче 2"
      ],
      "metadata": {
        "id": "Ly49MWs550Yg"
      }
    },
    {
      "cell_type": "code",
      "source": [
        "n = combination(2,100)\n",
        "n"
      ],
      "metadata": {
        "colab": {
          "base_uri": "https://localhost:8080/"
        },
        "id": "NKT-UX987Can",
        "outputId": "e1aa4490-771d-41b6-8f1b-6205949736e4"
      },
      "execution_count": null,
      "outputs": [
        {
          "output_type": "execute_result",
          "data": {
            "text/plain": [
              "4950"
            ]
          },
          "metadata": {},
          "execution_count": 17
        }
      ]
    },
    {
      "cell_type": "code",
      "source": [
        "P = 1/n\n",
        "P"
      ],
      "metadata": {
        "colab": {
          "base_uri": "https://localhost:8080/"
        },
        "id": "vh1ZKAIS7q8W",
        "outputId": "db265d02-0b5a-4eb2-b93a-3a07c17c3d0c"
      },
      "execution_count": null,
      "outputs": [
        {
          "output_type": "execute_result",
          "data": {
            "text/plain": [
              "0.00020202020202020202"
            ]
          },
          "metadata": {},
          "execution_count": 18
        }
      ]
    },
    {
      "cell_type": "markdown",
      "source": [
        "Ответ: 0.02% или 1 шанс из 4950"
      ],
      "metadata": {
        "id": "ZcET28tW8Axe"
      }
    },
    {
      "cell_type": "markdown",
      "source": [
        "**Дополнительно для чата размещение**\n"
      ],
      "metadata": {
        "id": "hxlWlvhaZh3Y"
      }
    },
    {
      "cell_type": "code",
      "source": [
        "def razmeshenie(k,n): \n",
        "  '''Функция для размещения\n",
        "  k - количество элементов в наборе\n",
        "  n - общее число элементов\n",
        "  '''\n",
        "  return int(math.factorial(n) / math.factorial(n - k))"
      ],
      "metadata": {
        "id": "mfAEnFHP8LLt"
      },
      "execution_count": null,
      "outputs": []
    },
    {
      "cell_type": "code",
      "source": [
        "n = razmeshenie(3,10)\n",
        "n"
      ],
      "metadata": {
        "colab": {
          "base_uri": "https://localhost:8080/"
        },
        "id": "GeyVySS1Zqsb",
        "outputId": "f70017a8-e0a2-4f33-8897-a95813077bc4"
      },
      "execution_count": null,
      "outputs": [
        {
          "output_type": "execute_result",
          "data": {
            "text/plain": [
              "720"
            ]
          },
          "metadata": {},
          "execution_count": 29
        }
      ]
    },
    {
      "cell_type": "code",
      "source": [
        "P= 1/n\n",
        "P"
      ],
      "metadata": {
        "colab": {
          "base_uri": "https://localhost:8080/"
        },
        "id": "199_G1h1aAvR",
        "outputId": "4a5c10f1-1b6f-466b-fb34-14d3a0be62de"
      },
      "execution_count": null,
      "outputs": [
        {
          "output_type": "execute_result",
          "data": {
            "text/plain": [
              "0.001388888888888889"
            ]
          },
          "metadata": {},
          "execution_count": 31
        }
      ]
    }
  ]
}