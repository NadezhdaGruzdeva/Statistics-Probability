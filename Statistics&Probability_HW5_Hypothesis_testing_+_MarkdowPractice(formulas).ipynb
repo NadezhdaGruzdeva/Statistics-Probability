{
  "nbformat": 4,
  "nbformat_minor": 0,
  "metadata": {
    "colab": {
      "provenance": [],
      "authorship_tag": "ABX9TyN4DJ99IM14n3V8U/xw8kRU",
      "include_colab_link": true
    },
    "kernelspec": {
      "name": "python3",
      "display_name": "Python 3"
    },
    "language_info": {
      "name": "python"
    }
  },
  "cells": [
    {
      "cell_type": "markdown",
      "metadata": {
        "id": "view-in-github",
        "colab_type": "text"
      },
      "source": [
        "<a href=\"https://colab.research.google.com/github/NadezhdaGruzdeva/Statistics-Probability/blob/main/Statistics%26Probability_HW5_Hypothesis_testing_%2B_MarkdowPractice(formulas).ipynb\" target=\"_parent\"><img src=\"https://colab.research.google.com/assets/colab-badge.svg\" alt=\"Open In Colab\"/></a>"
      ]
    },
    {
      "cell_type": "markdown",
      "source": [
        "###**Полезные ссылки:**  \n",
        "семинар https://gbcdn.mrgcdn.ru/uploads/record/241199/attachment/fd7939e7ed9ffff9937e82dd01a41468.mp4  \n",
        "лекции ВШЭ https://youtu.be/6H_r8gTnAu8  \n",
        "код ЛКО, ПКО https://www.codecamp.ru/blog/how-to-find-the-t-critical-value-in-python/  \n",
        "формулы Markdown https://en.wikibooks.org/wiki/LaTeX/Mathematics"
      ],
      "metadata": {
        "id": "qL5Odi6gM7XL"
      }
    },
    {
      "cell_type": "markdown",
      "source": [
        "###**Формулы критического значения T (критических областей)**  \n",
        "stats.t.ppf(alpha) #правосторонняя критическая область  \n",
        "stats.t.ppf(1 - alpha) #левосторонняя критическая область  \n",
        "stats.t.ppf(1 - alpha) #левосторонняя критическая область  \n",
        "stats.t.ppf(alpha / 2) и stats.t.ppf(1 - alpha / 2) #двусторонняя критическая область  \n",
        "df= n - 1 обязательный параметр при распределении Стюдента  \n",
        "stats.t.ppf(alpha / 2, df=2*(n - 1)) #  если 2 выборки то 2*(n - 1) "
      ],
      "metadata": {
        "id": "28vbTLDCOC3k"
      }
    },
    {
      "cell_type": "code",
      "source": [
        "import numpy as np\n",
        "import scipy.stats as stats"
      ],
      "metadata": {
        "id": "q5XzNyQjzztF"
      },
      "execution_count": null,
      "outputs": []
    },
    {
      "cell_type": "markdown",
      "source": [
        "###**Задача 1. Когда используется критерий Стьюдента, а когда Z –критерий?**"
      ],
      "metadata": {
        "id": "QWqFt5hIjy66"
      }
    },
    {
      "cell_type": "markdown",
      "source": [
        "Оба критерия используются для проверки равенства средних значений для одновыборочных гипотез при нормальном распределении. Разница в том, что Z –критерий применяется, когда известна дисперсия генеральной совокупности, а  при использовании критерия Стьюдента дисперсия генеральной совокупности не известна и используется дисперсия выборки (несмещеная)"
      ],
      "metadata": {
        "id": "d7ESUrXyjzV5"
      }
    },
    {
      "cell_type": "markdown",
      "source": [
        "###**Задача 2.**   \n",
        "Проведите тест гипотезы. Утверждается, что шарики для подшипников, изготовленные\n",
        "автоматическим станком, имеют средний диаметр 17 мм.\n",
        "Используя односторонний критерий с α=0,05, проверить эту гипотезу, если в выборке из\n",
        "n=100 шариков средний диаметр\n",
        "оказался равным 17.5 мм, а дисперсия известна и равна 4 кв. мм"
      ],
      "metadata": {
        "id": "H3dbrGwtneTN"
      }
    },
    {
      "cell_type": "code",
      "source": [
        "# Дано:\n",
        "n = 100\n",
        "a = 0.05\n",
        "Xavg = 17.5\n",
        "m = 17\n",
        "dispersia = 4"
      ],
      "metadata": {
        "id": "7t-18897mkjX"
      },
      "execution_count": null,
      "outputs": []
    },
    {
      "cell_type": "markdown",
      "source": [
        "**1) Формируем гипотезу:**  \n",
        "H0: m = 17  \n",
        "H1: m > 17"
      ],
      "metadata": {
        "id": "rT7jqrMwIcW0"
      }
    },
    {
      "cell_type": "markdown",
      "source": [
        "**2) Выберем критерий статистической значимости:**     \n",
        "по условию задачи а = 0,05"
      ],
      "metadata": {
        "id": "x44eXjIWJK48"
      }
    },
    {
      "cell_type": "markdown",
      "source": [
        "**3) Выберем статистический критерий:**   \n",
        "Предполагая, что когда в условии задачи утвержается, что \"дисперсия известна \", имелось в виду, что известна дисперсия генеральной совокупности с нормальным распределением. \n",
        "В таком случае используем z критерий  \n",
        "$z_н=\\frac{\\bar X-\\mu}{\\sigma/\\sqrt n}$"
      ],
      "metadata": {
        "id": "uG-FG8bqoRuH"
      }
    },
    {
      "cell_type": "code",
      "source": [
        "z = (Xavg - m) / ((dispersia ** (1/2)) /(n ** (1/2)) )\n",
        "z"
      ],
      "metadata": {
        "colab": {
          "base_uri": "https://localhost:8080/"
        },
        "id": "MdybhpVkpHTa",
        "outputId": "146c5613-2a56-4061-99ba-6035bc395bd1"
      },
      "execution_count": null,
      "outputs": [
        {
          "output_type": "execute_result",
          "data": {
            "text/plain": [
              "2.5"
            ]
          },
          "metadata": {},
          "execution_count": 60
        }
      ]
    },
    {
      "cell_type": "markdown",
      "source": [
        "**4) Расчет табличного критерия:**  \n",
        "Ищем ручками в таблице стандартного нормального распределения значение близкое к 0,05 (ведь по условию выполнения задачи надо делать именно так)  \n",
        "1,65   \n",
        "и проверяем с помощью функции"
      ],
      "metadata": {
        "id": "2kqoyYzHq5iC"
      }
    },
    {
      "cell_type": "code",
      "source": [
        "t1 = stats.norm.ppf(1-a)  # ПКО, степени свободы не задаем, так как известна дисперсия генеральной совокупности\n",
        "t1"
      ],
      "metadata": {
        "colab": {
          "base_uri": "https://localhost:8080/"
        },
        "id": "3UXG88CirASZ",
        "outputId": "8f47af76-9bf7-4ca2-936c-98a12f192169"
      },
      "execution_count": null,
      "outputs": [
        {
          "output_type": "execute_result",
          "data": {
            "text/plain": [
              "1.6448536269514722"
            ]
          },
          "metadata": {},
          "execution_count": 61
        }
      ]
    },
    {
      "cell_type": "markdown",
      "source": [
        "**5) Сравнение критериев**\n",
        "Нулевая гипотеза не отвергается в случае если расчетный критерий меньше табличного (правосторонняя гипотеза)"
      ],
      "metadata": {
        "id": "EduHt_Dtuje8"
      }
    },
    {
      "cell_type": "code",
      "source": [
        "z < t1"
      ],
      "metadata": {
        "id": "8HgaA6I3vFgu",
        "colab": {
          "base_uri": "https://localhost:8080/"
        },
        "outputId": "7457c6f1-e200-4c36-8f14-86c99fae5b54"
      },
      "execution_count": null,
      "outputs": [
        {
          "output_type": "execute_result",
          "data": {
            "text/plain": [
              "False"
            ]
          },
          "metadata": {},
          "execution_count": 62
        }
      ]
    },
    {
      "cell_type": "markdown",
      "source": [
        "**6)  Вывод**  "
      ],
      "metadata": {
        "id": "hk-yUu2ER1ib"
      }
    },
    {
      "cell_type": "markdown",
      "source": [
        "Нулевая гипотеза отвергается, средний диаметр шариков больше 17мм"
      ],
      "metadata": {
        "id": "8Mut2XPPR4HN"
      }
    },
    {
      "cell_type": "code",
      "source": [
        "(17.5 - 17)/17"
      ],
      "metadata": {
        "colab": {
          "base_uri": "https://localhost:8080/"
        },
        "id": "THENETwrSZiH",
        "outputId": "4f79a7e7-aa36-4fcc-c5cb-7cb12599378f"
      },
      "execution_count": null,
      "outputs": [
        {
          "output_type": "execute_result",
          "data": {
            "text/plain": [
              "0.029411764705882353"
            ]
          },
          "metadata": {},
          "execution_count": 63
        }
      ]
    },
    {
      "cell_type": "markdown",
      "source": [
        "###**Задача 3.**  \n",
        "Проведите тест гипотезы. Продавец утверждает, что средний вес пачки печенья\n",
        "составляет 200 г.  \n",
        "Из партии извлечена выборка из 10 пачек. Вес каждой пачки составляет:\n",
        "202, 203, 199, 197, 195, 201, 200, 204, 194, 190.\n",
        "Известно, что их веса распределены нормально.\n",
        "Верно ли утверждение продавца, если учитывать, что доверительная вероятность равна\n",
        "99%? (Провести двусторонний тест.)"
      ],
      "metadata": {
        "id": "y3EEPZA1SeGs"
      }
    },
    {
      "cell_type": "code",
      "source": [
        "# Дано:\n",
        "m = 200\n",
        "n = 10\n",
        "a = 0.01\n",
        "viborka = [202, 203, 199, 197, 195, 201, 200, 204, 194, 190]"
      ],
      "metadata": {
        "id": "s7W569MeZKRZ"
      },
      "execution_count": null,
      "outputs": []
    },
    {
      "cell_type": "markdown",
      "source": [
        "**1) Формируем гипотезу:**  \n",
        "H0: m = 200  \n",
        "H1: m != 200"
      ],
      "metadata": {
        "id": "_xae4BN3Zghc"
      }
    },
    {
      "cell_type": "markdown",
      "source": [
        "**2) Выберем критерий статистической значимости:**     \n",
        "по условию задачи а = 0,01, исходя из доверительного интервала в 99%"
      ],
      "metadata": {
        "id": "InrRDqryZyuz"
      }
    },
    {
      "cell_type": "markdown",
      "source": [
        "**3) Выберем статистический критерий:**   \n",
        "Распределение нормальное, дисперсия генеральной совокупности не известна, поэтому выбираем критерий Стюдента\n",
        "\n",
        "$t_н=\\frac{\\bar X-\\mu}{\\sigma_n/\\sqrt n}$"
      ],
      "metadata": {
        "id": "cWw6acNfZyu0"
      }
    },
    {
      "cell_type": "code",
      "source": [
        "Xavg = np.mean(viborka)\n",
        "q_n = np.std(viborka,ddof=1) #несмещеная\n",
        "Xavg, q_n"
      ],
      "metadata": {
        "colab": {
          "base_uri": "https://localhost:8080/"
        },
        "id": "eW8g548dbk-H",
        "outputId": "0d436534-606a-4096-d4d8-488f393cb268"
      },
      "execution_count": null,
      "outputs": [
        {
          "output_type": "execute_result",
          "data": {
            "text/plain": [
              "(198.5, 4.453463071962462)"
            ]
          },
          "metadata": {},
          "execution_count": 65
        }
      ]
    },
    {
      "cell_type": "code",
      "source": [
        "t = (Xavg - m) / ((q_n) /(n ** (1/2)) )\n",
        "t"
      ],
      "metadata": {
        "colab": {
          "base_uri": "https://localhost:8080/"
        },
        "outputId": "77e8b089-b62d-4e3f-b667-89e64d66c4a4",
        "id": "VEjqT7HCZyu0"
      },
      "execution_count": null,
      "outputs": [
        {
          "output_type": "execute_result",
          "data": {
            "text/plain": [
              "-1.0651074037450896"
            ]
          },
          "metadata": {},
          "execution_count": 66
        }
      ]
    },
    {
      "cell_type": "markdown",
      "source": [
        "**4) Расчет табличного критерия:**  \n",
        "Ищем ручками уже в таблице Стюдента значение для доверительной вероятности 99% и степени свободы n-1 = 9 (ведь по условию выполнения задачи надо делать именно так)  \n",
        "3.24983554402\n",
        "и проверяем с помощью функции"
      ],
      "metadata": {
        "id": "G5a3RswNZyu1"
      }
    },
    {
      "cell_type": "code",
      "source": [
        "t1 = stats.t.ppf(a / 2, df= n - 1) #  двусторонний критерий при распределении Стюдента \n",
        "t2 = stats.t.ppf(1 - a / 2, df= n - 1)\n",
        "t1, t2"
      ],
      "metadata": {
        "colab": {
          "base_uri": "https://localhost:8080/"
        },
        "outputId": "774b7a9b-7cec-426c-9c57-d07387f74d52",
        "id": "DIRKXE4-Zyu1"
      },
      "execution_count": null,
      "outputs": [
        {
          "output_type": "execute_result",
          "data": {
            "text/plain": [
              "(-3.24983554401537, 3.2498355440153697)"
            ]
          },
          "metadata": {},
          "execution_count": 67
        }
      ]
    },
    {
      "cell_type": "markdown",
      "source": [
        "**5) Сравнение критериев**\n",
        "Нулевая гипотеза не отвергается в случае если расчетный критерий лежит в интервале табличного со знаком - и + (двустороняя гипотеза)"
      ],
      "metadata": {
        "id": "GXPz90LVZyu1"
      }
    },
    {
      "cell_type": "code",
      "source": [
        "t > t1 and t < t2"
      ],
      "metadata": {
        "colab": {
          "base_uri": "https://localhost:8080/"
        },
        "outputId": "a4df6003-2a28-4e18-b799-368f592f138e",
        "id": "jf2-IHQKZyu2"
      },
      "execution_count": null,
      "outputs": [
        {
          "output_type": "execute_result",
          "data": {
            "text/plain": [
              "True"
            ]
          },
          "metadata": {},
          "execution_count": 68
        }
      ]
    },
    {
      "cell_type": "markdown",
      "source": [
        "**6)  Вывод**  "
      ],
      "metadata": {
        "id": "DujPyrK4Zyu2"
      }
    },
    {
      "cell_type": "markdown",
      "source": [
        "Нулевая гипотеза не отвергается, средний вес пачки печенья\n",
        "составляет 200 г. с доверительной вероятностью 99%"
      ],
      "metadata": {
        "id": "V7S_iw5AZyu2"
      }
    },
    {
      "cell_type": "code",
      "source": [],
      "metadata": {
        "id": "W_yWgX7Agk0B"
      },
      "execution_count": null,
      "outputs": []
    },
    {
      "cell_type": "markdown",
      "source": [
        "###**Задача 4.**  \n",
        "Задача 4. Есть ли статистически значимые различия в росте\n",
        "дочерей?\n",
        "Рост матерей 172, 177, 158, 170, 178,175, 164, 160, 169, 165\n",
        "Рост взрослых дочерей: 173, 175, 162, 174, 175, 168, 155, 170, 160, 163"
      ],
      "metadata": {
        "id": "6ikXWqwbhUQE"
      }
    },
    {
      "cell_type": "code",
      "source": [
        "# Дано:\n",
        "mothers = [172, 177, 158, 170, 178,175, 164, 160, 169, 165 ]\n",
        "daughters = [173, 175, 162, 174, 175, 168, 155, 170, 160, 163]"
      ],
      "metadata": {
        "id": "zBPcUa4GhUQN"
      },
      "execution_count": null,
      "outputs": []
    },
    {
      "cell_type": "markdown",
      "source": [
        "**1) Формируем гипотезу:**  \n",
        "H0: m_1 = m_2  \n",
        "H1: m_1 != m_2"
      ],
      "metadata": {
        "id": "4jjlzmbkhUQN"
      }
    },
    {
      "cell_type": "markdown",
      "source": [
        "**2) Выберем критерий статистической значимости:**     \n",
        "пусть а = 0,05"
      ],
      "metadata": {
        "id": "io-wyPQQhUQO"
      }
    },
    {
      "cell_type": "code",
      "source": [
        "а = 0.05"
      ],
      "metadata": {
        "id": "3oCiCC8oiHh2"
      },
      "execution_count": null,
      "outputs": []
    },
    {
      "cell_type": "markdown",
      "source": [
        "**3) Выберем статистический критерий:**   \n",
        "Критерий для проверки равенства средних из 2 выборок\n",
        "\n",
        "$t_н=\\frac{\\bar X_1-\\bar X_2}{\\sqrt {\\frac{S_1^2}{n_1} + \\frac{S_2^2}{n_2}}}$"
      ],
      "metadata": {
        "id": "uOIOdIjThUQO"
      }
    },
    {
      "cell_type": "code",
      "source": [
        "Xavg_1 = np.mean(mothers)\n",
        "Xavg_2 = np.mean(daughters)\n",
        "dispersia_1 = np.var(mothers,ddof=1) #несмещеная\n",
        "dispersia_2 = np.var(daughters,ddof=1) #несмещеная\n",
        "n_1 = len(mothers)\n",
        "n_2 = len(daughters)\n",
        "Xavg_1, Xavg_2, dispersia_1, dispersia_2, n_1, n_2"
      ],
      "metadata": {
        "colab": {
          "base_uri": "https://localhost:8080/"
        },
        "outputId": "e3511b94-cc74-41cd-a497-85872b759f74",
        "id": "X9RBljn_hUQO"
      },
      "execution_count": null,
      "outputs": [
        {
          "output_type": "execute_result",
          "data": {
            "text/plain": [
              "(168.8, 167.5, 48.17777777777778, 50.5, 10, 10)"
            ]
          },
          "metadata": {},
          "execution_count": 76
        }
      ]
    },
    {
      "cell_type": "code",
      "source": [
        "t = (Xavg_1 - Xavg_2) / ((dispersia_1 / n_1 + dispersia_2 / n_2) ** (1/2))\n",
        "t"
      ],
      "metadata": {
        "colab": {
          "base_uri": "https://localhost:8080/"
        },
        "outputId": "d3e1e009-9631-42e0-bf6f-d7642916bd87",
        "id": "VTP7heF1hUQP"
      },
      "execution_count": null,
      "outputs": [
        {
          "output_type": "execute_result",
          "data": {
            "text/plain": [
              "0.41384114976800535"
            ]
          },
          "metadata": {},
          "execution_count": 77
        }
      ]
    },
    {
      "cell_type": "markdown",
      "source": [
        "**4) Расчет табличного критерия:**  \n"
      ],
      "metadata": {
        "id": "5xIEnKVvhUQP"
      }
    },
    {
      "cell_type": "code",
      "source": [
        "n = n_1\n",
        "\n",
        "t1 = stats.t.ppf(a / 2, df = 2 * (n - 1)) # двусторонний критерий при распределении Стюдента для 2 выборок\n",
        "t2 = stats.t.ppf(1 - a / 2, df = 2 * (n - 1))\n",
        "t1, t2"
      ],
      "metadata": {
        "colab": {
          "base_uri": "https://localhost:8080/"
        },
        "outputId": "6609eb8a-1991-476c-8963-bbe2b3dec3f1",
        "id": "ve8xL4BGhUQP"
      },
      "execution_count": null,
      "outputs": [
        {
          "output_type": "execute_result",
          "data": {
            "text/plain": [
              "(-2.8784404727135864, 2.878440472713585)"
            ]
          },
          "metadata": {},
          "execution_count": 78
        }
      ]
    },
    {
      "cell_type": "markdown",
      "source": [
        "**5) Сравнение критериев**  \n",
        "Нулевая гипотеза не отвергается в случае если расчетный критерий лежит в интервале табличного со знаком - и + (двустороняя гипотеза)"
      ],
      "metadata": {
        "id": "RFzXvBUQhUQP"
      }
    },
    {
      "cell_type": "code",
      "source": [
        "t > t1 and t < t2"
      ],
      "metadata": {
        "colab": {
          "base_uri": "https://localhost:8080/"
        },
        "outputId": "cf77e9c0-081a-4cb2-a518-f8d936649a7a",
        "id": "oRQKhTTbhUQQ"
      },
      "execution_count": null,
      "outputs": [
        {
          "output_type": "execute_result",
          "data": {
            "text/plain": [
              "True"
            ]
          },
          "metadata": {},
          "execution_count": 74
        }
      ]
    },
    {
      "cell_type": "markdown",
      "source": [
        "**6)  Вывод**  "
      ],
      "metadata": {
        "id": "bfoOZKL7hUQQ"
      }
    },
    {
      "cell_type": "markdown",
      "source": [
        "Нулевая гипотеза не отвергается, между росто матерей и дочерей нет критического отличия"
      ],
      "metadata": {
        "id": "mQyABpzghUQQ"
      }
    },
    {
      "cell_type": "markdown",
      "source": [
        "**Альтернативный вариант решения с использованием функции теста**  \n",
        "для сравнени  средних 2-х выборок  \n",
        "stats.ttest_ind выводит  критерий для проверки равенства средних по 2 выборкам и P-value\n"
      ],
      "metadata": {
        "id": "pRvF-JEFn4s_"
      }
    },
    {
      "cell_type": "code",
      "source": [
        "stats.ttest_ind(mothers, daughters) #значения выборок с одной стороны независимые"
      ],
      "metadata": {
        "colab": {
          "base_uri": "https://localhost:8080/"
        },
        "id": "RY168Foyn5xa",
        "outputId": "42c8cdb2-7645-4874-baa8-64220f0ef9cd"
      },
      "execution_count": null,
      "outputs": [
        {
          "output_type": "execute_result",
          "data": {
            "text/plain": [
              "Ttest_indResult(statistic=0.41384114976800535, pvalue=0.68387966499013)"
            ]
          },
          "metadata": {},
          "execution_count": 80
        }
      ]
    },
    {
      "cell_type": "code",
      "source": [
        "stats.ttest_rel(mothers, daughters) #а с другой - очень даже зависимые))"
      ],
      "metadata": {
        "colab": {
          "base_uri": "https://localhost:8080/"
        },
        "id": "4-AxDwphoKBc",
        "outputId": "4edfe475-3c11-4197-99b6-e45cb0175056"
      },
      "execution_count": null,
      "outputs": [
        {
          "output_type": "execute_result",
          "data": {
            "text/plain": [
              "Ttest_relResult(statistic=0.664847853143198, pvalue=0.5228168632983574)"
            ]
          },
          "metadata": {},
          "execution_count": 82
        }
      ]
    },
    {
      "cell_type": "markdown",
      "source": [
        "Вне зависсимости от того зависимые выборки или нет, p-value > a, поэтому убеждаемся в правильности неопровержения нулевой гипотезы"
      ],
      "metadata": {
        "id": "dgaQZuw-p96U"
      }
    }
  ]
}