{
  "nbformat": 4,
  "nbformat_minor": 0,
  "metadata": {
    "colab": {
      "provenance": [],
      "include_colab_link": true
    },
    "kernelspec": {
      "display_name": "Python 3",
      "language": "python",
      "name": "python3"
    }
  },
  "cells": [
    {
      "cell_type": "markdown",
      "metadata": {
        "id": "view-in-github",
        "colab_type": "text"
      },
      "source": [
        "<a href=\"https://colab.research.google.com/github/NadezhdaGruzdeva/Statistics-Probability/blob/main/Statistics%26Probability_HW10_Analysis_of_variance.ipynb\" target=\"_parent\"><img src=\"https://colab.research.google.com/assets/colab-badge.svg\" alt=\"Open In Colab\"/></a>"
      ]
    },
    {
      "cell_type": "markdown",
      "metadata": {
        "id": "qL5Odi6gM7XL"
      },
      "source": [
        "#**Полезные ссылки:**  \n",
        "семинар  https://gb.ru/lessons/307312  \n",
        "лекция  https://gb.ru/lessons/307243   \n",
        "https://en.wikipedia.org/wiki/Analysis_of_variance"
      ]
    },
    {
      "cell_type": "markdown",
      "metadata": {
        "id": "mP4ncs2qYo5G"
      },
      "source": [
        "#**Дисперсионный анализ**"
      ]
    },
    {
      "cell_type": "markdown",
      "metadata": {
        "collapsed": true,
        "id": "tndzSTAlYo5L"
      },
      "source": [
        "##**Однофакторный дисперсионный анализ**"
      ]
    },
    {
      "cell_type": "markdown",
      "metadata": {
        "collapsed": true,
        "id": "zqcKJYLxYo5N"
      },
      "source": [
        "В дисперсионном анализе исследуется влияние одного или нескольких качественных показателей на количественный показатель.\n",
        "\n",
        "В однофакторном дисперсионном анализе на одну количественную переменную $Y$ влияет один фактор (один качественный показатель), \n",
        "\n",
        "наблюдаемый на $k$ уровнях, то есть имеем $k$ выборок для переменной $Y$."
      ]
    },
    {
      "cell_type": "markdown",
      "metadata": {
        "collapsed": true,
        "id": "NaDcf63eYo5S"
      },
      "source": [
        "Наблюдаемые данные обозначим $y_{ij}$, где $i$ — индекс уровня ($i$ = 1, 2, ..., $k$), $j$ — индекс наблюдения на $i$-м уровне \n",
        "($j$ = 1, 2, ..., $n_{i}$)."
      ]
    },
    {
      "cell_type": "markdown",
      "metadata": {
        "id": "W0nXL-nAYo5Y"
      },
      "source": [
        "На каждом уровне может быть свое число наблюдений $n_{i}$. Общее число наблюдений — это сумма наблюдений на всех уровнях:"
      ]
    },
    {
      "cell_type": "markdown",
      "metadata": {
        "id": "AM--DeuuYo5b"
      },
      "source": [
        "$$n = \\sum\\limits_{i=1}^{k}n_i$$"
      ]
    },
    {
      "cell_type": "markdown",
      "metadata": {
        "id": "MqCAbsPXYo5i"
      },
      "source": [
        "По данным $y_{ij}$ определяется:"
      ]
    },
    {
      "cell_type": "markdown",
      "metadata": {
        "id": "WE2fSz5lYo5k"
      },
      "source": [
        "$\\overline{y}_{i}$ — среднее значение переменной Y на i-м уровне:"
      ]
    },
    {
      "cell_type": "markdown",
      "metadata": {
        "id": "XXLZhnYDYo5m"
      },
      "source": [
        "$$\\overline{y}_{i} = \\frac{1}{n_i}\\sum\\limits_{j=1}^{n_i}y_{ij}$$"
      ]
    },
    {
      "cell_type": "markdown",
      "metadata": {
        "id": "VWr_NWrzBkv7"
      },
      "source": []
    },
    {
      "cell_type": "markdown",
      "metadata": {
        "id": "fooBgcbIYo5p"
      },
      "source": [
        "$\\overline{Y}$ — среднее значение переменной **Y** по всем значениям:"
      ]
    },
    {
      "cell_type": "markdown",
      "metadata": {
        "id": "IfDm-PM6Yo5q"
      },
      "source": [
        "$$\\overline{Y} = \\frac{1}{n}\\sum\\limits_{i=1}^{k}\\sum\\limits_{j=1}^{n_i}y_{ij} = \\frac{1}{n}\\sum\\limits_{i=1}^{k}\\overline{y}_{i}n_{i}$$"
      ]
    },
    {
      "cell_type": "markdown",
      "metadata": {
        "id": "QccuMpGkYo5t"
      },
      "source": [
        "$S^2$ — сумма квадратов отклонений наблюдений от общего среднего:"
      ]
    },
    {
      "cell_type": "markdown",
      "metadata": {
        "id": "8d2MieJWYo5u"
      },
      "source": [
        "$$S^2 = \\sum\\limits_{i=1}^{k}\\sum\\limits_{j=1}^{n_i}({y}_{ij} - \\overline{Y})^2$$"
      ]
    },
    {
      "cell_type": "markdown",
      "metadata": {
        "id": "2Z5t5mZPYo5w"
      },
      "source": [
        "$S_F^2$ — сумма квадратов отклонений средних групповых значений от общего среднего значения $\\overline{Y}$:"
      ]
    },
    {
      "cell_type": "markdown",
      "metadata": {
        "id": "98w7-LmyYo5z"
      },
      "source": [
        "$$S_F^2 = \\sum\\limits_{i=1}^{k}(\\overline{y}_i - \\overline{Y})^2n_i$$"
      ]
    },
    {
      "cell_type": "markdown",
      "metadata": {
        "id": "spyO9Z-GYo50"
      },
      "source": [
        "$S_{ост}^2$ — остаточная сумма квадратов отклонений:"
      ]
    },
    {
      "cell_type": "markdown",
      "metadata": {
        "id": "v2bZ8BPXYo52"
      },
      "source": [
        "$$S_{ост}^{2} = \\sum\\limits_{i=1}^{k}\\sum\\limits_{j=1}^{n_i}(y_{ij} - \\overline{y}_i)^2$$"
      ]
    },
    {
      "cell_type": "markdown",
      "metadata": {
        "id": "CjaQibE7Yo54"
      },
      "source": [
        "Тогда сумма квадратов отклонений наблюдений от общего среднего дожна быть равна:"
      ]
    },
    {
      "cell_type": "markdown",
      "metadata": {
        "id": "dpALroqIYo56"
      },
      "source": [
        "$$S^2 = S_F^2 + S_{ост}^2$$"
      ]
    },
    {
      "cell_type": "markdown",
      "metadata": {
        "id": "DOa94RlQYo5-"
      },
      "source": [
        "Затем необходимо вычислить:"
      ]
    },
    {
      "cell_type": "markdown",
      "metadata": {
        "id": "9ydIbtDrYo6A"
      },
      "source": [
        "1) общую дисперсию:"
      ]
    },
    {
      "cell_type": "markdown",
      "metadata": {
        "id": "0cusjHApYo6D"
      },
      "source": [
        "$$\\sigma_{общ}^{2} = \\frac{S^2}{n - 1} = \\frac{1}{n-1}\\sum\\limits_{i=1}^{k}\\sum\\limits_{j=1}^{n_i}(y_{ij} - \\overline{Y})^2$$"
      ]
    },
    {
      "cell_type": "markdown",
      "metadata": {
        "id": "-fhQ4uEfYo6I"
      },
      "source": [
        "2) факторную дисперсию:"
      ]
    },
    {
      "cell_type": "markdown",
      "metadata": {
        "id": "AJguqUuTYo6J"
      },
      "source": [
        "$$\\sigma_{F}^{2} = \\frac{S_{F}^{2}}{k-1} = \\frac{1}{k-1}\\sum\\limits_{i=1}^{k}(\\overline{y}_i - \\overline{Y})^{2}n_i$$"
      ]
    },
    {
      "cell_type": "markdown",
      "metadata": {
        "id": "bycn4uCcYo6L"
      },
      "source": [
        "3) остаточную дисперсию:"
      ]
    },
    {
      "cell_type": "markdown",
      "metadata": {
        "id": "rjxquHv3Yo6O"
      },
      "source": [
        "$$\\sigma_{ост}^{2} = \\frac{S_{ост}^{2}}{n - k} = \\frac{1}{n - k}\\sum\\limits_{i=1}^{k}\\sum\\limits_{j=1}^{n_i}(y_{ij} - \\overline{y}_i)^2$$"
      ]
    },
    {
      "cell_type": "markdown",
      "metadata": {
        "id": "_PH1EnAoYo6U"
      },
      "source": [
        "$$(H_0: \\overline{y}_1 = \\overline{y}_2 = ... = \\overline{y}_k).$$"
      ]
    },
    {
      "cell_type": "markdown",
      "metadata": {
        "id": "VJMVJVQCYo6W"
      },
      "source": [
        "Чтобы проверить эту гипотезу, необходимо воспользоваться соотношением:"
      ]
    },
    {
      "cell_type": "markdown",
      "metadata": {
        "id": "yyHcH5WtYo6Y"
      },
      "source": [
        "$$F_H = \\frac{\\sigma_{F}^{2}}{\\sigma_{ост}^{2}}$$"
      ]
    },
    {
      "cell_type": "markdown",
      "metadata": {
        "id": "SGWSpxMYYo6b"
      },
      "source": [
        "Если значение  $F_H$ превышает $F_{крит}$ из таблицы критических точек распределения Фишера-Снедекора для заданного уровня \n",
        "\n",
        "значимости $\\alpha$ двух степеней свободы $df_{межд} = k - 1$ (относится к числителю соотношения) и $df_{внутр} = n - k$ (относится к знаменателю), \n",
        "\n",
        "то выборки имеют разные средние значения."
      ]
    },
    {
      "cell_type": "markdown",
      "metadata": {
        "id": "cl4XaXzHYo6e"
      },
      "source": [
        "Таблицы Фишера-Снедекора можно найти по ссылкам:"
      ]
    },
    {
      "cell_type": "markdown",
      "metadata": {
        "id": "ZMf8cbNnYo6g"
      },
      "source": [
        "\n",
        "<a href = \"https://math.semestr.ru/corel/table-fisher.php\">Критические точки распределения Фишера–Снедекора</a>\n",
        "        \n",
        "<a href = \"https://www.matburo.ru/tv/table_fisher.pdf\">Распределение Фишера–Снедекора (F-распределение)</a>"
      ]
    },
    {
      "cell_type": "markdown",
      "metadata": {
        "id": "yWZboagFYo6i"
      },
      "source": [
        "Еще одно соотношение:"
      ]
    },
    {
      "cell_type": "markdown",
      "metadata": {
        "id": "AYofexp6Yo6j"
      },
      "source": [
        "$$\\eta^{2} = \\frac{S_{F}^{2}}{S_{общ}^{2}}$$"
      ]
    },
    {
      "cell_type": "markdown",
      "metadata": {
        "id": "uz9W7GVeYo6m"
      },
      "source": [
        "Чем больше значение $\\eta^2$ (греч. «эта», обозначает эмпирическое корреляционное отношение, располагается между 0 и 1), тем больше\n",
        "\n",
        "вероятность, что выборки имеют разные средние значения. Принято считать, что при значениях $\\eta^2$ ниже 0.2-0.3 групповые значения\n",
        "\n",
        "средних не имеют статистически достоверного отличия."
      ]
    },
    {
      "cell_type": "markdown",
      "metadata": {
        "id": "zyWIjbTvYo-O"
      },
      "source": [
        "##**Двухфакторный дисперсионный анализ**"
      ]
    },
    {
      "cell_type": "markdown",
      "metadata": {
        "id": "VgPWRCiyYo-T"
      },
      "source": [
        "В таблице представлены расчетные формулы для двухфакторного  \n",
        "дисперсионного анализа с однократными наблюдениями."
      ]
    },
    {
      "cell_type": "markdown",
      "metadata": {
        "id": "2AdPpT4_Yo-V"
      },
      "source": [
        "<img src='https://ru.files.fm/thumb_show.php?i=vppqqgpj&view' width=650>Таблица 1. Формулы для двухфакторного дисперсионного анализа с однократными наблюдениями</img>"
      ]
    },
    {
      "cell_type": "markdown",
      "source": [
        "#**Задача 1**  \n",
        "Провести дисперсионный анализ для определения того, есть ли различия среднего роста среди взрослых футболистов, хоккеистов и штангистов.\n",
        "Даны значения роста в трех группах случайно выбранных спортсменов:\n",
        "\n",
        "Футболисты: 173, 175, 180, 178, 177, 185, 183, 182.\n",
        "\n",
        "Хоккеисты: 177, 179, 180, 188, 177, 172, 171, 184, 180.\n",
        "\n",
        "Штангисты: 172, 173, 169, 177, 166, 180, 178, 177, 172, 166, 170."
      ],
      "metadata": {
        "id": "9PR6uy64l3dy"
      }
    },
    {
      "cell_type": "code",
      "execution_count": null,
      "metadata": {
        "id": "spatial-optimization"
      },
      "outputs": [],
      "source": [
        "import numpy as np\n",
        "import pandas as pd\n",
        "from scipy import stats"
      ]
    },
    {
      "cell_type": "markdown",
      "metadata": {
        "id": "considerable-museum"
      },
      "source": [
        "Нулевая гипотеза:  \n",
        "$H0 : \\mu_1=\\mu_2=\\mu_3$  т.е. средний рост спортсмена не зависит от вида спорта, которым он занимается(из представленных трех).  \n",
        "Альтернативная гипотеза:  \n",
        "$H1: \\mu_1\\neq\\mu_2\\neq\\mu_3$ т.е. средний рост спортсмена зависит от выбранного им спорта."
      ]
    },
    {
      "cell_type": "code",
      "execution_count": null,
      "metadata": {
        "id": "mighty-writer"
      },
      "outputs": [],
      "source": [
        "football = np.array([173, 175, 180, 178, 177, 185, 183, 182])\n",
        "hockey = np.array([177, 179, 180, 188, 177, 172, 171, 184, 180])\n",
        "powerlifting = np.array([172, 173, 169, 177, 166, 180, 178, 177, 172, 166, 170])"
      ]
    },
    {
      "cell_type": "code",
      "execution_count": null,
      "metadata": {
        "id": "referenced-volleyball",
        "outputId": "614143ef-b5ab-4861-9c8d-fa76a70ed238",
        "colab": {
          "base_uri": "https://localhost:8080/"
        }
      },
      "outputs": [
        {
          "output_type": "execute_result",
          "data": {
            "text/plain": [
              "F_onewayResult(statistic=5.500053450812596, pvalue=0.010482206918698694)"
            ]
          },
          "metadata": {},
          "execution_count": 20
        }
      ],
      "source": [
        "stats.f_oneway(football, hockey, powerlifting)"
      ]
    },
    {
      "cell_type": "markdown",
      "metadata": {
        "id": "opening-match"
      },
      "source": [
        "##**Вывод:**\n",
        "P-value = 0.0105  \n",
        "При alpha=0.05 или 0,10 (> 0.01)  отвергаем нулевую гипотезу.    \n",
        "То есть вид спорта статистичиски влияет на раст спортсменов.   \n",
        "Однако при alpha = 0.01 нулевую гипотезу не отвергаем"
      ]
    },
    {
      "cell_type": "markdown",
      "source": [
        "Проведем post-hoc test"
      ],
      "metadata": {
        "id": "BaaWEMjOo5ks"
      }
    },
    {
      "cell_type": "code",
      "source": [
        "df = pd.DataFrame(list(zip(football, hockey, powerlifting)),\n",
        "               columns =['football', 'hockey', 'powerlifting'])\n",
        "df"
      ],
      "metadata": {
        "colab": {
          "base_uri": "https://localhost:8080/",
          "height": 300
        },
        "id": "cXBEd38lslTK",
        "outputId": "c00abba6-37a6-4c8f-995b-7c5265443118"
      },
      "execution_count": null,
      "outputs": [
        {
          "output_type": "execute_result",
          "data": {
            "text/plain": [
              "   football  hockey  powerlifting\n",
              "0       173     177           172\n",
              "1       175     179           173\n",
              "2       180     180           169\n",
              "3       178     188           177\n",
              "4       177     177           166\n",
              "5       185     172           180\n",
              "6       183     171           178\n",
              "7       182     184           177"
            ],
            "text/html": [
              "\n",
              "  <div id=\"df-13136f2f-db16-42c9-8bb8-793f38099d40\">\n",
              "    <div class=\"colab-df-container\">\n",
              "      <div>\n",
              "<style scoped>\n",
              "    .dataframe tbody tr th:only-of-type {\n",
              "        vertical-align: middle;\n",
              "    }\n",
              "\n",
              "    .dataframe tbody tr th {\n",
              "        vertical-align: top;\n",
              "    }\n",
              "\n",
              "    .dataframe thead th {\n",
              "        text-align: right;\n",
              "    }\n",
              "</style>\n",
              "<table border=\"1\" class=\"dataframe\">\n",
              "  <thead>\n",
              "    <tr style=\"text-align: right;\">\n",
              "      <th></th>\n",
              "      <th>football</th>\n",
              "      <th>hockey</th>\n",
              "      <th>powerlifting</th>\n",
              "    </tr>\n",
              "  </thead>\n",
              "  <tbody>\n",
              "    <tr>\n",
              "      <th>0</th>\n",
              "      <td>173</td>\n",
              "      <td>177</td>\n",
              "      <td>172</td>\n",
              "    </tr>\n",
              "    <tr>\n",
              "      <th>1</th>\n",
              "      <td>175</td>\n",
              "      <td>179</td>\n",
              "      <td>173</td>\n",
              "    </tr>\n",
              "    <tr>\n",
              "      <th>2</th>\n",
              "      <td>180</td>\n",
              "      <td>180</td>\n",
              "      <td>169</td>\n",
              "    </tr>\n",
              "    <tr>\n",
              "      <th>3</th>\n",
              "      <td>178</td>\n",
              "      <td>188</td>\n",
              "      <td>177</td>\n",
              "    </tr>\n",
              "    <tr>\n",
              "      <th>4</th>\n",
              "      <td>177</td>\n",
              "      <td>177</td>\n",
              "      <td>166</td>\n",
              "    </tr>\n",
              "    <tr>\n",
              "      <th>5</th>\n",
              "      <td>185</td>\n",
              "      <td>172</td>\n",
              "      <td>180</td>\n",
              "    </tr>\n",
              "    <tr>\n",
              "      <th>6</th>\n",
              "      <td>183</td>\n",
              "      <td>171</td>\n",
              "      <td>178</td>\n",
              "    </tr>\n",
              "    <tr>\n",
              "      <th>7</th>\n",
              "      <td>182</td>\n",
              "      <td>184</td>\n",
              "      <td>177</td>\n",
              "    </tr>\n",
              "  </tbody>\n",
              "</table>\n",
              "</div>\n",
              "      <button class=\"colab-df-convert\" onclick=\"convertToInteractive('df-13136f2f-db16-42c9-8bb8-793f38099d40')\"\n",
              "              title=\"Convert this dataframe to an interactive table.\"\n",
              "              style=\"display:none;\">\n",
              "        \n",
              "  <svg xmlns=\"http://www.w3.org/2000/svg\" height=\"24px\"viewBox=\"0 0 24 24\"\n",
              "       width=\"24px\">\n",
              "    <path d=\"M0 0h24v24H0V0z\" fill=\"none\"/>\n",
              "    <path d=\"M18.56 5.44l.94 2.06.94-2.06 2.06-.94-2.06-.94-.94-2.06-.94 2.06-2.06.94zm-11 1L8.5 8.5l.94-2.06 2.06-.94-2.06-.94L8.5 2.5l-.94 2.06-2.06.94zm10 10l.94 2.06.94-2.06 2.06-.94-2.06-.94-.94-2.06-.94 2.06-2.06.94z\"/><path d=\"M17.41 7.96l-1.37-1.37c-.4-.4-.92-.59-1.43-.59-.52 0-1.04.2-1.43.59L10.3 9.45l-7.72 7.72c-.78.78-.78 2.05 0 2.83L4 21.41c.39.39.9.59 1.41.59.51 0 1.02-.2 1.41-.59l7.78-7.78 2.81-2.81c.8-.78.8-2.07 0-2.86zM5.41 20L4 18.59l7.72-7.72 1.47 1.35L5.41 20z\"/>\n",
              "  </svg>\n",
              "      </button>\n",
              "      \n",
              "  <style>\n",
              "    .colab-df-container {\n",
              "      display:flex;\n",
              "      flex-wrap:wrap;\n",
              "      gap: 12px;\n",
              "    }\n",
              "\n",
              "    .colab-df-convert {\n",
              "      background-color: #E8F0FE;\n",
              "      border: none;\n",
              "      border-radius: 50%;\n",
              "      cursor: pointer;\n",
              "      display: none;\n",
              "      fill: #1967D2;\n",
              "      height: 32px;\n",
              "      padding: 0 0 0 0;\n",
              "      width: 32px;\n",
              "    }\n",
              "\n",
              "    .colab-df-convert:hover {\n",
              "      background-color: #E2EBFA;\n",
              "      box-shadow: 0px 1px 2px rgba(60, 64, 67, 0.3), 0px 1px 3px 1px rgba(60, 64, 67, 0.15);\n",
              "      fill: #174EA6;\n",
              "    }\n",
              "\n",
              "    [theme=dark] .colab-df-convert {\n",
              "      background-color: #3B4455;\n",
              "      fill: #D2E3FC;\n",
              "    }\n",
              "\n",
              "    [theme=dark] .colab-df-convert:hover {\n",
              "      background-color: #434B5C;\n",
              "      box-shadow: 0px 1px 3px 1px rgba(0, 0, 0, 0.15);\n",
              "      filter: drop-shadow(0px 1px 2px rgba(0, 0, 0, 0.3));\n",
              "      fill: #FFFFFF;\n",
              "    }\n",
              "  </style>\n",
              "\n",
              "      <script>\n",
              "        const buttonEl =\n",
              "          document.querySelector('#df-13136f2f-db16-42c9-8bb8-793f38099d40 button.colab-df-convert');\n",
              "        buttonEl.style.display =\n",
              "          google.colab.kernel.accessAllowed ? 'block' : 'none';\n",
              "\n",
              "        async function convertToInteractive(key) {\n",
              "          const element = document.querySelector('#df-13136f2f-db16-42c9-8bb8-793f38099d40');\n",
              "          const dataTable =\n",
              "            await google.colab.kernel.invokeFunction('convertToInteractive',\n",
              "                                                     [key], {});\n",
              "          if (!dataTable) return;\n",
              "\n",
              "          const docLinkHtml = 'Like what you see? Visit the ' +\n",
              "            '<a target=\"_blank\" href=https://colab.research.google.com/notebooks/data_table.ipynb>data table notebook</a>'\n",
              "            + ' to learn more about interactive tables.';\n",
              "          element.innerHTML = '';\n",
              "          dataTable['output_type'] = 'display_data';\n",
              "          await google.colab.output.renderOutput(dataTable, element);\n",
              "          const docLink = document.createElement('div');\n",
              "          docLink.innerHTML = docLinkHtml;\n",
              "          element.appendChild(docLink);\n",
              "        }\n",
              "      </script>\n",
              "    </div>\n",
              "  </div>\n",
              "  "
            ]
          },
          "metadata": {},
          "execution_count": 22
        }
      ]
    },
    {
      "cell_type": "markdown",
      "source": [
        "Увы разное количесиво наблюдений в выборках, поэтому без доработки выборок не получится провести нормальный post-hoc test"
      ],
      "metadata": {
        "id": "d6pUcKgEuppc"
      }
    },
    {
      "cell_type": "code",
      "source": [
        "len(football) == len(hockey) == len(powerlifting)"
      ],
      "metadata": {
        "colab": {
          "base_uri": "https://localhost:8080/"
        },
        "id": "wsJU1bzExXVM",
        "outputId": "cb4bb61d-13f5-49fd-bc0d-e53867a57fee"
      },
      "execution_count": null,
      "outputs": [
        {
          "output_type": "execute_result",
          "data": {
            "text/plain": [
              "False"
            ]
          },
          "metadata": {},
          "execution_count": 23
        }
      ]
    },
    {
      "cell_type": "code",
      "source": [
        "pow()"
      ],
      "metadata": {
        "id": "oOvTYYVDRiI1"
      },
      "execution_count": null,
      "outputs": []
    }
  ]
}