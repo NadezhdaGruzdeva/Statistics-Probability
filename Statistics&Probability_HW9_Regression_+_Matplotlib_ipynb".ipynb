{
  "nbformat": 4,
  "nbformat_minor": 0,
  "metadata": {
    "colab": {
      "provenance": [],
      "include_colab_link": true
    },
    "kernelspec": {
      "display_name": "Python 3",
      "language": "python",
      "name": "python3"
    }
  },
  "cells": [
    {
      "cell_type": "markdown",
      "metadata": {
        "id": "view-in-github",
        "colab_type": "text"
      },
      "source": [
        "<a href=\"https://colab.research.google.com/github/NadezhdaGruzdeva/Statistics-Probability/blob/main/Statistics%26Probability_HW9_Regression_%2B_Matplotlib_ipynb%22.ipynb\" target=\"_parent\"><img src=\"https://colab.research.google.com/assets/colab-badge.svg\" alt=\"Open In Colab\"/></a>"
      ]
    },
    {
      "cell_type": "markdown",
      "metadata": {
        "id": "qL5Odi6gM7XL"
      },
      "source": [
        "#**Полезные ссылки:**  \n",
        "семинар  https://gb.ru/lessons/307311  \n",
        "лекция  https://www.youtube.com/watch?v=BcnBuuvNrE8&ab_channel=GeekBrains  \n",
        "Matplotlib https://youtu.be/wZ47IOElaik  \n",
        "поиск производной из последней домашки по Python https://github.com/NadezhdaGruzdeva/NadezhdaGruzdeva-Python-Intro/tree/main/HW11%20Jupiter  \n",
        "поиск экстремумов с помощью производныхт http://cos-cos.ru/math/327/"
      ]
    },
    {
      "cell_type": "markdown",
      "source": [
        "#**Немного теориии** "
      ],
      "metadata": {
        "id": "6TIhzeXugZvq"
      }
    },
    {
      "cell_type": "markdown",
      "metadata": {
        "collapsed": true,
        "id": "AQDbycHsVV-p"
      },
      "source": [
        "###**Линейная регрессия** -  \n",
        "регрессионная модель зависимости одной переменной \n",
        "__y__ от другой или нескольких других переменных \n",
        "__x__ с линейной функцией зависимости."
      ]
    },
    {
      "cell_type": "markdown",
      "metadata": {
        "collapsed": true,
        "id": "De_v3D-bVV-u"
      },
      "source": [
        "$$\\hat{y} = a + bx$$\n",
        "\n",
        "a  и  b  — коэффициенты регрессии\n",
        "\n",
        "\n"
      ]
    },
    {
      "cell_type": "markdown",
      "metadata": {
        "id": "xt_v2879VV-x"
      },
      "source": [
        "Для отдельного наблюдения имеем соотношение:   \n",
        "$$\\hat{y_i} = a + bx_i + \\varepsilon_i$$"
      ]
    },
    {
      "cell_type": "markdown",
      "metadata": {
        "id": "X0KsabZnVV-1"
      },
      "source": [
        "* $\\varepsilon_i \\; $—  так называемый остаток — независимая случайная величина, имеющая нормальное распределение с математическим \n",
        "ожиданием, равным нулю, и постоянной дисперсией. \n",
        "\n",
        "То есть это ошибка, которую будет допускать модель из-за того, что изменение признака $x$\n",
        "не всегда точно будет отражать \n",
        "изменение $y$. "
      ]
    },
    {
      "cell_type": "markdown",
      "source": [
        "###**3 метода построения линейной регрессии**:  \n",
        "1)\tМатематические формулы (см. Задание1)\n",
        "2)\tМатричный метод  (см. Задание1 3-ий способ)\n",
        "3)\tМетод градиентного спуска  (см. Задание2)\n",
        "*) С помощью ф-ии Python (см. Задание1 2-ой и 4-ый способы)"
      ],
      "metadata": {
        "id": "2fWNqZyBDZOv"
      }
    },
    {
      "cell_type": "markdown",
      "metadata": {
        "id": "grN67iKpVV--"
      },
      "source": [
        "**1)\tМатематические формулы**   \n",
        "$$b = \\frac{\\overline{yx} - \\overline{y} \\cdot {\\overline{x}}}{\\overline{x^2} - (\\overline{x})^2};$$"
      ]
    },
    {
      "cell_type": "markdown",
      "metadata": {
        "id": "gPAIXETsVV_C"
      },
      "source": [
        "$$a = \\overline{y} - b \\cdot {\\overline{x}}.$$"
      ]
    },
    {
      "cell_type": "markdown",
      "metadata": {
        "id": "4_iSHBmQVV_Q"
      },
      "source": [
        "$\\overline{x} = \\frac{1}{n} \\sum\\limits_{i=1}^{n} x_i$ и $\\overline{y} = \\frac{1}{n} \\sum\\limits_{i=1}^{n} y_i$ — выборочные средние."
      ]
    },
    {
      "cell_type": "markdown",
      "metadata": {
        "id": "zg9XW-JEVV_U"
      },
      "source": [
        "\n",
        "\n",
        "\n",
        "\n",
        "\n",
        "###**Коэффициент детерминации (R^2)**  \n",
        "показывает насколько велика связь между переменными $x$ и $y$.   Его можно посчитать как квадрат коэффициента корреляции:  \n",
        "$$R^2 = r^{2}_{xy}$$  \n",
        "Коэффициент детерминации принимает значения до 1 включительно и показывает долю вариации результативного признака $y$ под влиянием признака $x$."
      ]
    },
    {
      "cell_type": "markdown",
      "metadata": {
        "id": "MjJ3CBxSVV_q"
      },
      "source": [
        "###**Оценка значимости математической модели. F-критерий Фишера**   \n",
        "позволяет оценить значимость уравнения линейной регрессии в целом."
      ]
    },
    {
      "cell_type": "markdown",
      "metadata": {
        "id": "aVNmzQYfVV_s"
      },
      "source": [
        "Фактическую величину F-критерия для парной линейной регрессии (когда есть только один факторный признак)\n",
        "\n",
        "можно вычислить по формуле, включающей коэффициент детерминации:"
      ]
    },
    {
      "cell_type": "markdown",
      "metadata": {
        "id": "OAN52VMgVV_v"
      },
      "source": [
        "$$F_{факт} = \\frac{r_{xy}^{2} \\cdot (n - 2)}{(1 - r_{xy}^{2})}$$"
      ]
    },
    {
      "cell_type": "markdown",
      "metadata": {
        "id": "WsYRUjkKVV_3"
      },
      "source": [
        "где $k_1$ и $k_2$ — это степени свободы, $k_1$ — количество факторных признаков (для парной линейной регрессии оно равно 1).\n",
        "\n",
        "$k_2$ = $n - k - 1$, где $n$ — это число наблюдений и $k$ — число факторных признаков (для парной линейной регрессии $k_2 = n - 2$, \n",
        "\n",
        "то есть числу наблюдений, уменьшенному на 2)."
      ]
    },
    {
      "cell_type": "markdown",
      "metadata": {
        "id": "wE7G-VW9VV_5"
      },
      "source": [
        "Таблицу значений F-критерия Фишера ($F_{кр}$) можно посмотреть по ссылке: <a href='https://www.chem-astu.ru/science/reference/F-statistic.html'>Таблица критерия Фишера</a>"
      ]
    },
    {
      "cell_type": "markdown",
      "metadata": {
        "id": "4gyc8-NnVV_8"
      },
      "source": [
        "Если $F_{факт} > F_{кр}$, то уравнение регрессии признается статистически значимым."
      ]
    },
    {
      "cell_type": "markdown",
      "metadata": {
        "id": "bkORUteXVV_-"
      },
      "source": [
        "Формула для большего числа признаков:"
      ]
    },
    {
      "cell_type": "markdown",
      "metadata": {
        "id": "9OvKeun8VWAB"
      },
      "source": [
        "$$F_{факт} = \\frac{r_{xy}^{2}}{(1 - r_{xy}^{2})} \\cdot \\frac{k_2}{k_1}$$"
      ]
    },
    {
      "cell_type": "markdown",
      "metadata": {
        "id": "LGdvpWQmVWBA"
      },
      "source": [
        "#**Задача 1**  \n",
        "Даны значения величины заработной платы заемщиков банка (zp) и значения их поведенческого кредитного скоринга (ks):  \n",
        "zp = [35, 45, 190, 200, 40, 70, 54, 150, 120, 110],  \n",
        "ks = [401, 574, 874, 919, 459, 739, 653, 902, 746, 832].  \n",
        "Используя математические операции, посчитать коэффициенты линейной регрессии, приняв за X заработную плату (то есть, zp - признак), а за y - значения скорингового балла (то есть, ks - целевая переменная).  \n",
        "Произвести расчет как с использованием intercept, так и без."
      ]
    },
    {
      "cell_type": "code",
      "source": [
        "import numpy as np\n",
        "import matplotlib.pyplot as plt\n",
        "from scipy import stats as stats\n",
        "import pandas as pd\n",
        "from sklearn.linear_model import LinearRegression"
      ],
      "metadata": {
        "id": "Gr5MQzCqLgpZ"
      },
      "execution_count": null,
      "outputs": []
    },
    {
      "cell_type": "code",
      "source": [
        "#дано\n",
        "x = np.array([35, 45, 190, 200, 40, 70, 54, 150, 120, 110]) #zp\n",
        "y = np.array([401, 574, 874, 919, 459, 739, 653, 902, 746, 832]) #ks\n",
        "x, y"
      ],
      "metadata": {
        "colab": {
          "base_uri": "https://localhost:8080/"
        },
        "id": "-ifYfkm2K4kn",
        "outputId": "c8f35ea1-c94f-4edb-e402-71c922e4581d"
      },
      "execution_count": null,
      "outputs": [
        {
          "output_type": "execute_result",
          "data": {
            "text/plain": [
              "(array([ 35,  45, 190, 200,  40,  70,  54, 150, 120, 110]),\n",
              " array([401, 574, 874, 919, 459, 739, 653, 902, 746, 832]))"
            ]
          },
          "metadata": {},
          "execution_count": 329
        }
      ]
    },
    {
      "cell_type": "markdown",
      "metadata": {
        "collapsed": true,
        "id": "eIcZNHliVWBW"
      },
      "source": [
        "Для нахождения коэффициентов регрессии $a$ и $b$ воспользуемся приведенными выше формулами:"
      ]
    },
    {
      "cell_type": "code",
      "metadata": {
        "id": "r1mT4pdSVWBY",
        "colab": {
          "base_uri": "https://localhost:8080/"
        },
        "outputId": "28b401bc-ef40-4d85-8922-9eb5ffe7fd27"
      },
      "source": [
        "b = (np.mean(x * y) - np.mean(x) * np.mean(y)) / (np.mean(x**2) - np.mean(x) ** 2)\n",
        "b"
      ],
      "execution_count": null,
      "outputs": [
        {
          "output_type": "execute_result",
          "data": {
            "text/plain": [
              "2.620538882402765"
            ]
          },
          "metadata": {},
          "execution_count": 330
        }
      ]
    },
    {
      "cell_type": "code",
      "metadata": {
        "id": "3eenHRuhVWBl",
        "colab": {
          "base_uri": "https://localhost:8080/"
        },
        "outputId": "0d993c5d-e8b5-492f-8ce7-c99ce13e7c8c"
      },
      "source": [
        "a = np.mean(y) - b * np.mean(x)\n",
        "a"
      ],
      "execution_count": null,
      "outputs": [
        {
          "output_type": "execute_result",
          "data": {
            "text/plain": [
              "444.1773573243596"
            ]
          },
          "metadata": {},
          "execution_count": 331
        }
      ]
    },
    {
      "cell_type": "markdown",
      "metadata": {
        "collapsed": true,
        "id": "F4wExIGGVWBv"
      },
      "source": [
        "Уравнение регрессии имеет вид (коэффициенты округлены до сотых): "
      ]
    },
    {
      "cell_type": "markdown",
      "metadata": {
        "collapsed": true,
        "id": "EAnsjUv4VWB0"
      },
      "source": [
        "$$y = 444,18 + 2,62 \\cdot x$$"
      ]
    },
    {
      "cell_type": "markdown",
      "metadata": {
        "id": "GSvgSj2WVWB2"
      },
      "source": [
        "С увеличением заработной платы заемщика на 1 тыс.руб. его поведенческий кредитный скоринг возрастает на 2,6 балла."
      ]
    },
    {
      "cell_type": "markdown",
      "metadata": {
        "id": "mrYy3Z2JVWDQ"
      },
      "source": [
        "Вычислим значения $\\hat{y}$ по полученной модели регресси:"
      ]
    },
    {
      "cell_type": "code",
      "metadata": {
        "id": "7F0Yci-HVWDS",
        "outputId": "65c8d017-0dc7-4ffd-f34d-672ccd6c5313",
        "colab": {
          "base_uri": "https://localhost:8080/"
        }
      },
      "source": [
        "y_pred = a + b * x\n",
        "y_pred"
      ],
      "execution_count": null,
      "outputs": [
        {
          "output_type": "execute_result",
          "data": {
            "text/plain": [
              "array([535.89621821, 562.10160703, 942.07974498, 968.2851338 ,\n",
              "       548.99891262, 627.61507909, 585.68645697, 837.25818968,\n",
              "       758.64202321, 732.43663439])"
            ]
          },
          "metadata": {},
          "execution_count": 332
        }
      ]
    },
    {
      "cell_type": "markdown",
      "source": [
        "**2-ой способ нахождения коэффициентов с помощью функций Python**"
      ],
      "metadata": {
        "id": "v9lX0QjfT27_"
      }
    },
    {
      "cell_type": "code",
      "source": [
        "model = LinearRegression() # зададим модель линейной регрессии\n",
        "x2= x.reshape(-1,1) #делаем двумерным, чтобы прошел в ф-ию \n",
        "regres = model.fit(x2,y) # подбираем коэффициенты\n",
        "\n",
        "a = regres.intercept_ # выводим интерсеп\n",
        "b = regres.coef_ # выводим коэффициенты\n",
        "a,b"
      ],
      "metadata": {
        "colab": {
          "base_uri": "https://localhost:8080/"
        },
        "id": "P4jIsR-1UDKF",
        "outputId": "82134674-fa2c-491a-8781-d8a146718841"
      },
      "execution_count": null,
      "outputs": [
        {
          "output_type": "execute_result",
          "data": {
            "text/plain": [
              "(444.1773573243595, array([2.62053888]))"
            ]
          },
          "metadata": {},
          "execution_count": 333
        }
      ]
    },
    {
      "cell_type": "code",
      "source": [
        "y_pred2 = model.predict(x2) # подставим зп в модель и посчитаем предиктовые значения кредитного рейтинга\n",
        "y_pred2"
      ],
      "metadata": {
        "colab": {
          "base_uri": "https://localhost:8080/"
        },
        "id": "MmU1XcrtUm85",
        "outputId": "1047b46d-a874-4ceb-cfa3-045bd8ad3091"
      },
      "execution_count": null,
      "outputs": [
        {
          "output_type": "execute_result",
          "data": {
            "text/plain": [
              "array([535.89621821, 562.10160703, 942.07974498, 968.2851338 ,\n",
              "       548.99891262, 627.61507909, 585.68645697, 837.25818968,\n",
              "       758.64202321, 732.43663439])"
            ]
          },
          "metadata": {},
          "execution_count": 334
        }
      ]
    },
    {
      "cell_type": "markdown",
      "source": [
        "Сравним предикативные значения, полученный 2 способами"
      ],
      "metadata": {
        "id": "vsslWVKlWqGE"
      }
    },
    {
      "cell_type": "code",
      "source": [
        "np.rint(y_pred) == np.rint(y_pred2)\n"
      ],
      "metadata": {
        "colab": {
          "base_uri": "https://localhost:8080/"
        },
        "id": "crtCz8EKUDNp",
        "outputId": "29c4e108-a714-458f-a511-bad3c070f56d"
      },
      "execution_count": null,
      "outputs": [
        {
          "output_type": "execute_result",
          "data": {
            "text/plain": [
              "array([ True,  True,  True,  True,  True,  True,  True,  True,  True,\n",
              "        True])"
            ]
          },
          "metadata": {},
          "execution_count": 335
        }
      ]
    },
    {
      "cell_type": "code",
      "metadata": {
        "id": "Addxji38VWEm",
        "outputId": "b2774478-c474-4ff5-9323-9b90b0711674",
        "colab": {
          "base_uri": "https://localhost:8080/",
          "height": 363
        }
      },
      "source": [
        "df = pd.DataFrame({'x': x, 'y': y, 'y_pred': y_pred}, columns=['x', 'y', 'y_pred'])\n",
        "df"
      ],
      "execution_count": null,
      "outputs": [
        {
          "output_type": "execute_result",
          "data": {
            "text/plain": [
              "     x    y      y_pred\n",
              "0   35  401  535.896218\n",
              "1   45  574  562.101607\n",
              "2  190  874  942.079745\n",
              "3  200  919  968.285134\n",
              "4   40  459  548.998913\n",
              "5   70  739  627.615079\n",
              "6   54  653  585.686457\n",
              "7  150  902  837.258190\n",
              "8  120  746  758.642023\n",
              "9  110  832  732.436634"
            ],
            "text/html": [
              "\n",
              "  <div id=\"df-eb5e6288-afdc-4eca-bdd2-6c4731c7fa26\">\n",
              "    <div class=\"colab-df-container\">\n",
              "      <div>\n",
              "<style scoped>\n",
              "    .dataframe tbody tr th:only-of-type {\n",
              "        vertical-align: middle;\n",
              "    }\n",
              "\n",
              "    .dataframe tbody tr th {\n",
              "        vertical-align: top;\n",
              "    }\n",
              "\n",
              "    .dataframe thead th {\n",
              "        text-align: right;\n",
              "    }\n",
              "</style>\n",
              "<table border=\"1\" class=\"dataframe\">\n",
              "  <thead>\n",
              "    <tr style=\"text-align: right;\">\n",
              "      <th></th>\n",
              "      <th>x</th>\n",
              "      <th>y</th>\n",
              "      <th>y_pred</th>\n",
              "    </tr>\n",
              "  </thead>\n",
              "  <tbody>\n",
              "    <tr>\n",
              "      <th>0</th>\n",
              "      <td>35</td>\n",
              "      <td>401</td>\n",
              "      <td>535.896218</td>\n",
              "    </tr>\n",
              "    <tr>\n",
              "      <th>1</th>\n",
              "      <td>45</td>\n",
              "      <td>574</td>\n",
              "      <td>562.101607</td>\n",
              "    </tr>\n",
              "    <tr>\n",
              "      <th>2</th>\n",
              "      <td>190</td>\n",
              "      <td>874</td>\n",
              "      <td>942.079745</td>\n",
              "    </tr>\n",
              "    <tr>\n",
              "      <th>3</th>\n",
              "      <td>200</td>\n",
              "      <td>919</td>\n",
              "      <td>968.285134</td>\n",
              "    </tr>\n",
              "    <tr>\n",
              "      <th>4</th>\n",
              "      <td>40</td>\n",
              "      <td>459</td>\n",
              "      <td>548.998913</td>\n",
              "    </tr>\n",
              "    <tr>\n",
              "      <th>5</th>\n",
              "      <td>70</td>\n",
              "      <td>739</td>\n",
              "      <td>627.615079</td>\n",
              "    </tr>\n",
              "    <tr>\n",
              "      <th>6</th>\n",
              "      <td>54</td>\n",
              "      <td>653</td>\n",
              "      <td>585.686457</td>\n",
              "    </tr>\n",
              "    <tr>\n",
              "      <th>7</th>\n",
              "      <td>150</td>\n",
              "      <td>902</td>\n",
              "      <td>837.258190</td>\n",
              "    </tr>\n",
              "    <tr>\n",
              "      <th>8</th>\n",
              "      <td>120</td>\n",
              "      <td>746</td>\n",
              "      <td>758.642023</td>\n",
              "    </tr>\n",
              "    <tr>\n",
              "      <th>9</th>\n",
              "      <td>110</td>\n",
              "      <td>832</td>\n",
              "      <td>732.436634</td>\n",
              "    </tr>\n",
              "  </tbody>\n",
              "</table>\n",
              "</div>\n",
              "      <button class=\"colab-df-convert\" onclick=\"convertToInteractive('df-eb5e6288-afdc-4eca-bdd2-6c4731c7fa26')\"\n",
              "              title=\"Convert this dataframe to an interactive table.\"\n",
              "              style=\"display:none;\">\n",
              "        \n",
              "  <svg xmlns=\"http://www.w3.org/2000/svg\" height=\"24px\"viewBox=\"0 0 24 24\"\n",
              "       width=\"24px\">\n",
              "    <path d=\"M0 0h24v24H0V0z\" fill=\"none\"/>\n",
              "    <path d=\"M18.56 5.44l.94 2.06.94-2.06 2.06-.94-2.06-.94-.94-2.06-.94 2.06-2.06.94zm-11 1L8.5 8.5l.94-2.06 2.06-.94-2.06-.94L8.5 2.5l-.94 2.06-2.06.94zm10 10l.94 2.06.94-2.06 2.06-.94-2.06-.94-.94-2.06-.94 2.06-2.06.94z\"/><path d=\"M17.41 7.96l-1.37-1.37c-.4-.4-.92-.59-1.43-.59-.52 0-1.04.2-1.43.59L10.3 9.45l-7.72 7.72c-.78.78-.78 2.05 0 2.83L4 21.41c.39.39.9.59 1.41.59.51 0 1.02-.2 1.41-.59l7.78-7.78 2.81-2.81c.8-.78.8-2.07 0-2.86zM5.41 20L4 18.59l7.72-7.72 1.47 1.35L5.41 20z\"/>\n",
              "  </svg>\n",
              "      </button>\n",
              "      \n",
              "  <style>\n",
              "    .colab-df-container {\n",
              "      display:flex;\n",
              "      flex-wrap:wrap;\n",
              "      gap: 12px;\n",
              "    }\n",
              "\n",
              "    .colab-df-convert {\n",
              "      background-color: #E8F0FE;\n",
              "      border: none;\n",
              "      border-radius: 50%;\n",
              "      cursor: pointer;\n",
              "      display: none;\n",
              "      fill: #1967D2;\n",
              "      height: 32px;\n",
              "      padding: 0 0 0 0;\n",
              "      width: 32px;\n",
              "    }\n",
              "\n",
              "    .colab-df-convert:hover {\n",
              "      background-color: #E2EBFA;\n",
              "      box-shadow: 0px 1px 2px rgba(60, 64, 67, 0.3), 0px 1px 3px 1px rgba(60, 64, 67, 0.15);\n",
              "      fill: #174EA6;\n",
              "    }\n",
              "\n",
              "    [theme=dark] .colab-df-convert {\n",
              "      background-color: #3B4455;\n",
              "      fill: #D2E3FC;\n",
              "    }\n",
              "\n",
              "    [theme=dark] .colab-df-convert:hover {\n",
              "      background-color: #434B5C;\n",
              "      box-shadow: 0px 1px 3px 1px rgba(0, 0, 0, 0.15);\n",
              "      filter: drop-shadow(0px 1px 2px rgba(0, 0, 0, 0.3));\n",
              "      fill: #FFFFFF;\n",
              "    }\n",
              "  </style>\n",
              "\n",
              "      <script>\n",
              "        const buttonEl =\n",
              "          document.querySelector('#df-eb5e6288-afdc-4eca-bdd2-6c4731c7fa26 button.colab-df-convert');\n",
              "        buttonEl.style.display =\n",
              "          google.colab.kernel.accessAllowed ? 'block' : 'none';\n",
              "\n",
              "        async function convertToInteractive(key) {\n",
              "          const element = document.querySelector('#df-eb5e6288-afdc-4eca-bdd2-6c4731c7fa26');\n",
              "          const dataTable =\n",
              "            await google.colab.kernel.invokeFunction('convertToInteractive',\n",
              "                                                     [key], {});\n",
              "          if (!dataTable) return;\n",
              "\n",
              "          const docLinkHtml = 'Like what you see? Visit the ' +\n",
              "            '<a target=\"_blank\" href=https://colab.research.google.com/notebooks/data_table.ipynb>data table notebook</a>'\n",
              "            + ' to learn more about interactive tables.';\n",
              "          element.innerHTML = '';\n",
              "          dataTable['output_type'] = 'display_data';\n",
              "          await google.colab.output.renderOutput(dataTable, element);\n",
              "          const docLink = document.createElement('div');\n",
              "          docLink.innerHTML = docLinkHtml;\n",
              "          element.appendChild(docLink);\n",
              "        }\n",
              "      </script>\n",
              "    </div>\n",
              "  </div>\n",
              "  "
            ]
          },
          "metadata": {},
          "execution_count": 336
        }
      ]
    },
    {
      "cell_type": "markdown",
      "metadata": {
        "id": "FZfKDj9OVWE0"
      },
      "source": [
        "Построим на одном графике исходные данные и теоретическую прямую, построенную по уравнению регрессии:"
      ]
    },
    {
      "cell_type": "code",
      "metadata": {
        "id": "V82ew1-jVWE3",
        "outputId": "59ffe71d-8bf9-49db-fa73-e091c4271be6",
        "colab": {
          "base_uri": "https://localhost:8080/",
          "height": 279
        }
      },
      "source": [
        "plt.scatter(df['x'], df['y'], color =(0,0,0))\n",
        "plt.plot(df['x'], df['y_pred'], 'g-.o') #g-. g-green; -. - штрих-пунктир, o-маркер для точки \n",
        "plt.xlabel('Заработная плата, тыс. руб.')\n",
        "plt.ylabel('Кредитный скоринг, баллы')\n",
        "plt.grid()\n",
        "ax = plt.gca()\n",
        "ax.set_xlim(xmin = 0)\n",
        "ax.set_ylim(ymin = 0)\n",
        "plt.show()"
      ],
      "execution_count": null,
      "outputs": [
        {
          "output_type": "display_data",
          "data": {
            "text/plain": [
              "<Figure size 432x288 with 1 Axes>"
            ],
            "image/png": "[encoded data removed]"
          },
          "metadata": {
            "needs_background": "light"
          }
        }
      ]
    },
    {
      "cell_type": "markdown",
      "source": [
        "**3-ий способ нахождения коэффициентов с помощью матриц**"
      ],
      "metadata": {
        "id": "bCm2V_uBJw53"
      }
    },
    {
      "cell_type": "markdown",
      "source": [
        "$\\displaystyle\\begin{pmatrix}y_1\\\\y_2\\\\y_3\\\\\\dots\\\\y_n\\end{pmatrix}=\\begin{pmatrix}1\\qquad x_1\\\\1\\qquad x_2\\\\1\\qquad x_3\\\\\\dots\\qquad \\dots\\\\1\\qquad x_n\\end{pmatrix}\\cdot\\begin{pmatrix}a\\\\b\\end{pmatrix}$  \n",
        "\n",
        "Эту формулу удобно использовать при рассматривании многомерных линейных регрессий, т.е. когда рассматриаются зависимости более чем с 2 признаками.\n",
        "Тогда вектор коэффициентов линейной регрессии $\\hat B=\\begin{pmatrix}a\\\\b\\end{pmatrix}\\text{ (для нашего примера)}$ находится по общей формуле:  \n",
        "$\\hat B=\\left(X^{T}\\cdot X\\right)^{-1}\\cdot X^{T}\\cdot Y$  \n",
        "Расчитаем:"
      ],
      "metadata": {
        "id": "y8EtBrFOJ92G"
      }
    },
    {
      "cell_type": "code",
      "source": [
        "y=y.reshape((-1,1))\n",
        "y"
      ],
      "metadata": {
        "colab": {
          "base_uri": "https://localhost:8080/"
        },
        "id": "tFF_HKGsJ23N",
        "outputId": "b5f15e40-b259-4d23-eb6e-f1d1f577c090"
      },
      "execution_count": null,
      "outputs": [
        {
          "output_type": "execute_result",
          "data": {
            "text/plain": [
              "array([[401],\n",
              "       [574],\n",
              "       [874],\n",
              "       [919],\n",
              "       [459],\n",
              "       [739],\n",
              "       [653],\n",
              "       [902],\n",
              "       [746],\n",
              "       [832]])"
            ]
          },
          "metadata": {},
          "execution_count": 338
        }
      ]
    },
    {
      "cell_type": "code",
      "source": [
        "x=x.reshape((-1,1))\n",
        "x=np.hstack([np.ones((len(x),1)),x])\n",
        "x"
      ],
      "metadata": {
        "colab": {
          "base_uri": "https://localhost:8080/"
        },
        "id": "EDOvulJ0LpVN",
        "outputId": "8dd31bc8-cee3-4472-cec0-aa2ada587644"
      },
      "execution_count": null,
      "outputs": [
        {
          "output_type": "execute_result",
          "data": {
            "text/plain": [
              "array([[  1.,  35.],\n",
              "       [  1.,  45.],\n",
              "       [  1., 190.],\n",
              "       [  1., 200.],\n",
              "       [  1.,  40.],\n",
              "       [  1.,  70.],\n",
              "       [  1.,  54.],\n",
              "       [  1., 150.],\n",
              "       [  1., 120.],\n",
              "       [  1., 110.]])"
            ]
          },
          "metadata": {},
          "execution_count": 339
        }
      ]
    },
    {
      "cell_type": "code",
      "source": [
        "B=np.dot(np.linalg.inv(np.dot(x.T,x)),np.dot(x.T,y))\n",
        "B"
      ],
      "metadata": {
        "colab": {
          "base_uri": "https://localhost:8080/"
        },
        "id": "QyGOuYNiMbHw",
        "outputId": "a9eb5980-aa30-48d7-9da2-c07b310e7d1b"
      },
      "execution_count": null,
      "outputs": [
        {
          "output_type": "execute_result",
          "data": {
            "text/plain": [
              "array([[444.17735732],\n",
              "       [  2.62053888]])"
            ]
          },
          "metadata": {},
          "execution_count": 340
        }
      ]
    },
    {
      "cell_type": "markdown",
      "metadata": {
        "id": "responsible-playing"
      },
      "source": [
        "Иногда можно пренебречь величиной интерсепта, и тогда линейная взвимосвязь переменных будет описываться функцией вида:  \n",
        "$y=b\\cdot x$  \n",
        "В этом случае, величина коэффициена $b$ так же расчитывается матричным методом, из формулы:  \n",
        "$\\displaystyle\\begin{pmatrix}y_1\\\\y_2\\\\y_3\\\\\\dots\\\\y_n\\end{pmatrix}=\\begin{pmatrix}x_1\\\\x_2\\\\x_3\\\\\\dots\\\\x_n\\end{pmatrix}\\cdot\\begin{pmatrix}b\\end{pmatrix}$ "
      ]
    },
    {
      "cell_type": "code",
      "execution_count": null,
      "metadata": {
        "scrolled": true,
        "id": "proof-hacker",
        "outputId": "90a05992-e9ff-494a-b043-57aac4b09c9a",
        "colab": {
          "base_uri": "https://localhost:8080/"
        }
      },
      "outputs": [
        {
          "output_type": "execute_result",
          "data": {
            "text/plain": [
              "array([[401],\n",
              "       [574],\n",
              "       [874],\n",
              "       [919],\n",
              "       [459],\n",
              "       [739],\n",
              "       [653],\n",
              "       [902],\n",
              "       [746],\n",
              "       [832]])"
            ]
          },
          "metadata": {},
          "execution_count": 341
        }
      ],
      "source": [
        "y"
      ]
    },
    {
      "cell_type": "code",
      "execution_count": null,
      "metadata": {
        "id": "verified-declaration",
        "outputId": "732fc22d-17a3-45f4-e337-f9a3a1870e2d",
        "colab": {
          "base_uri": "https://localhost:8080/"
        }
      },
      "outputs": [
        {
          "output_type": "execute_result",
          "data": {
            "text/plain": [
              "array([[  1.,  35.],\n",
              "       [  1.,  45.],\n",
              "       [  1., 190.],\n",
              "       [  1., 200.],\n",
              "       [  1.,  40.],\n",
              "       [  1.,  70.],\n",
              "       [  1.,  54.],\n",
              "       [  1., 150.],\n",
              "       [  1., 120.],\n",
              "       [  1., 110.]])"
            ]
          },
          "metadata": {},
          "execution_count": 342
        }
      ],
      "source": [
        "x"
      ]
    },
    {
      "cell_type": "code",
      "source": [
        "x = np.delete(x, 0, 1) # столбец с 1-и уже не нужен\n",
        "x"
      ],
      "metadata": {
        "colab": {
          "base_uri": "https://localhost:8080/"
        },
        "id": "Vh3m58KoYG95",
        "outputId": "21ee2cbe-fa18-4cf7-eba0-31161d78a728"
      },
      "execution_count": null,
      "outputs": [
        {
          "output_type": "execute_result",
          "data": {
            "text/plain": [
              "array([[ 35.],\n",
              "       [ 45.],\n",
              "       [190.],\n",
              "       [200.],\n",
              "       [ 40.],\n",
              "       [ 70.],\n",
              "       [ 54.],\n",
              "       [150.],\n",
              "       [120.],\n",
              "       [110.]])"
            ]
          },
          "metadata": {},
          "execution_count": 343
        }
      ]
    },
    {
      "cell_type": "code",
      "source": [
        "x"
      ],
      "metadata": {
        "colab": {
          "base_uri": "https://localhost:8080/"
        },
        "id": "eYB4qD6QYLqT",
        "outputId": "72353b66-d7ad-4f98-eeb7-6ff0613a88e0"
      },
      "execution_count": null,
      "outputs": [
        {
          "output_type": "execute_result",
          "data": {
            "text/plain": [
              "array([[ 35.],\n",
              "       [ 45.],\n",
              "       [190.],\n",
              "       [200.],\n",
              "       [ 40.],\n",
              "       [ 70.],\n",
              "       [ 54.],\n",
              "       [150.],\n",
              "       [120.],\n",
              "       [110.]])"
            ]
          },
          "metadata": {},
          "execution_count": 344
        }
      ]
    },
    {
      "cell_type": "code",
      "execution_count": null,
      "metadata": {
        "id": "aquatic-cruise",
        "outputId": "3c971a4a-8120-4a3b-e1fa-1d77b9c2a0ef",
        "colab": {
          "base_uri": "https://localhost:8080/"
        }
      },
      "outputs": [
        {
          "output_type": "execute_result",
          "data": {
            "text/plain": [
              "array([[5.88982042]])"
            ]
          },
          "metadata": {},
          "execution_count": 345
        }
      ],
      "source": [
        "B=np.dot(np.linalg.inv(np.dot(x.T,x)),np.dot(x.T,y))\n",
        "B"
      ]
    },
    {
      "cell_type": "code",
      "source": [
        "b_without_intersept = B[0]\n",
        "b_without_intersept"
      ],
      "metadata": {
        "colab": {
          "base_uri": "https://localhost:8080/"
        },
        "id": "TraLKJT6ZtqA",
        "outputId": "2e9b484f-573e-4040-c58d-1e78db57df3f"
      },
      "execution_count": null,
      "outputs": [
        {
          "output_type": "execute_result",
          "data": {
            "text/plain": [
              "array([5.88982042])"
            ]
          },
          "metadata": {},
          "execution_count": 346
        }
      ]
    },
    {
      "cell_type": "markdown",
      "metadata": {
        "collapsed": true,
        "id": "5n0BmLv8ZBR3"
      },
      "source": [
        "Уравнение регрессии без интерсепта имеет сл. вид (коэффициенты округлены до сотых): "
      ]
    },
    {
      "cell_type": "markdown",
      "metadata": {
        "collapsed": true,
        "id": "In6y7Zq5ZBR9"
      },
      "source": [
        "$$y = 5,89 \\cdot x$$"
      ]
    },
    {
      "cell_type": "markdown",
      "metadata": {
        "id": "kwnpBQJZZBR9"
      },
      "source": [
        "С увеличением заработной платы заемщика на 1 тыс.руб. его поведенческий кредитный скоринг возрастает на 5,89 балла. Что более чем в 2 раза больше, чем в модели с интерсептом"
      ]
    },
    {
      "cell_type": "markdown",
      "metadata": {
        "id": "b4n2ZrUSZBR9"
      },
      "source": [
        "Вычислим значения $\\hat{y}$ по полученной модели регресси  без интерсепта:"
      ]
    },
    {
      "cell_type": "code",
      "metadata": {
        "outputId": "56525dcc-2c73-4d48-e4ba-0468dcfa7415",
        "colab": {
          "base_uri": "https://localhost:8080/"
        },
        "id": "-qJJ9R7LZBR-"
      },
      "source": [
        "y_pred_without_intersept = b_without_intersept * x\n",
        "y_pred_without_intersept"
      ],
      "execution_count": null,
      "outputs": [
        {
          "output_type": "execute_result",
          "data": {
            "text/plain": [
              "array([[ 206.1437147 ],\n",
              "       [ 265.04191891],\n",
              "       [1119.06587983],\n",
              "       [1177.96408403],\n",
              "       [ 235.59281681],\n",
              "       [ 412.28742941],\n",
              "       [ 318.05030269],\n",
              "       [ 883.47306302],\n",
              "       [ 706.77845042],\n",
              "       [ 647.88024621]])"
            ]
          },
          "metadata": {},
          "execution_count": 347
        }
      ]
    },
    {
      "cell_type": "code",
      "source": [
        "df['y_pred_without_intersept'] = y_pred_without_intersept\n",
        "df"
      ],
      "metadata": {
        "colab": {
          "base_uri": "https://localhost:8080/",
          "height": 363
        },
        "id": "0y0-ZxFnZ_EO",
        "outputId": "98a2b182-3ba4-4863-bb9e-af289640110c"
      },
      "execution_count": null,
      "outputs": [
        {
          "output_type": "execute_result",
          "data": {
            "text/plain": [
              "     x    y      y_pred  y_pred_without_intersept\n",
              "0   35  401  535.896218                206.143715\n",
              "1   45  574  562.101607                265.041919\n",
              "2  190  874  942.079745               1119.065880\n",
              "3  200  919  968.285134               1177.964084\n",
              "4   40  459  548.998913                235.592817\n",
              "5   70  739  627.615079                412.287429\n",
              "6   54  653  585.686457                318.050303\n",
              "7  150  902  837.258190                883.473063\n",
              "8  120  746  758.642023                706.778450\n",
              "9  110  832  732.436634                647.880246"
            ],
            "text/html": [
              "\n",
              "  <div id=\"df-0e99e501-94bf-4e70-a93a-091a02442df0\">\n",
              "    <div class=\"colab-df-container\">\n",
              "      <div>\n",
              "<style scoped>\n",
              "    .dataframe tbody tr th:only-of-type {\n",
              "        vertical-align: middle;\n",
              "    }\n",
              "\n",
              "    .dataframe tbody tr th {\n",
              "        vertical-align: top;\n",
              "    }\n",
              "\n",
              "    .dataframe thead th {\n",
              "        text-align: right;\n",
              "    }\n",
              "</style>\n",
              "<table border=\"1\" class=\"dataframe\">\n",
              "  <thead>\n",
              "    <tr style=\"text-align: right;\">\n",
              "      <th></th>\n",
              "      <th>x</th>\n",
              "      <th>y</th>\n",
              "      <th>y_pred</th>\n",
              "      <th>y_pred_without_intersept</th>\n",
              "    </tr>\n",
              "  </thead>\n",
              "  <tbody>\n",
              "    <tr>\n",
              "      <th>0</th>\n",
              "      <td>35</td>\n",
              "      <td>401</td>\n",
              "      <td>535.896218</td>\n",
              "      <td>206.143715</td>\n",
              "    </tr>\n",
              "    <tr>\n",
              "      <th>1</th>\n",
              "      <td>45</td>\n",
              "      <td>574</td>\n",
              "      <td>562.101607</td>\n",
              "      <td>265.041919</td>\n",
              "    </tr>\n",
              "    <tr>\n",
              "      <th>2</th>\n",
              "      <td>190</td>\n",
              "      <td>874</td>\n",
              "      <td>942.079745</td>\n",
              "      <td>1119.065880</td>\n",
              "    </tr>\n",
              "    <tr>\n",
              "      <th>3</th>\n",
              "      <td>200</td>\n",
              "      <td>919</td>\n",
              "      <td>968.285134</td>\n",
              "      <td>1177.964084</td>\n",
              "    </tr>\n",
              "    <tr>\n",
              "      <th>4</th>\n",
              "      <td>40</td>\n",
              "      <td>459</td>\n",
              "      <td>548.998913</td>\n",
              "      <td>235.592817</td>\n",
              "    </tr>\n",
              "    <tr>\n",
              "      <th>5</th>\n",
              "      <td>70</td>\n",
              "      <td>739</td>\n",
              "      <td>627.615079</td>\n",
              "      <td>412.287429</td>\n",
              "    </tr>\n",
              "    <tr>\n",
              "      <th>6</th>\n",
              "      <td>54</td>\n",
              "      <td>653</td>\n",
              "      <td>585.686457</td>\n",
              "      <td>318.050303</td>\n",
              "    </tr>\n",
              "    <tr>\n",
              "      <th>7</th>\n",
              "      <td>150</td>\n",
              "      <td>902</td>\n",
              "      <td>837.258190</td>\n",
              "      <td>883.473063</td>\n",
              "    </tr>\n",
              "    <tr>\n",
              "      <th>8</th>\n",
              "      <td>120</td>\n",
              "      <td>746</td>\n",
              "      <td>758.642023</td>\n",
              "      <td>706.778450</td>\n",
              "    </tr>\n",
              "    <tr>\n",
              "      <th>9</th>\n",
              "      <td>110</td>\n",
              "      <td>832</td>\n",
              "      <td>732.436634</td>\n",
              "      <td>647.880246</td>\n",
              "    </tr>\n",
              "  </tbody>\n",
              "</table>\n",
              "</div>\n",
              "      <button class=\"colab-df-convert\" onclick=\"convertToInteractive('df-0e99e501-94bf-4e70-a93a-091a02442df0')\"\n",
              "              title=\"Convert this dataframe to an interactive table.\"\n",
              "              style=\"display:none;\">\n",
              "        \n",
              "  <svg xmlns=\"http://www.w3.org/2000/svg\" height=\"24px\"viewBox=\"0 0 24 24\"\n",
              "       width=\"24px\">\n",
              "    <path d=\"M0 0h24v24H0V0z\" fill=\"none\"/>\n",
              "    <path d=\"M18.56 5.44l.94 2.06.94-2.06 2.06-.94-2.06-.94-.94-2.06-.94 2.06-2.06.94zm-11 1L8.5 8.5l.94-2.06 2.06-.94-2.06-.94L8.5 2.5l-.94 2.06-2.06.94zm10 10l.94 2.06.94-2.06 2.06-.94-2.06-.94-.94-2.06-.94 2.06-2.06.94z\"/><path d=\"M17.41 7.96l-1.37-1.37c-.4-.4-.92-.59-1.43-.59-.52 0-1.04.2-1.43.59L10.3 9.45l-7.72 7.72c-.78.78-.78 2.05 0 2.83L4 21.41c.39.39.9.59 1.41.59.51 0 1.02-.2 1.41-.59l7.78-7.78 2.81-2.81c.8-.78.8-2.07 0-2.86zM5.41 20L4 18.59l7.72-7.72 1.47 1.35L5.41 20z\"/>\n",
              "  </svg>\n",
              "      </button>\n",
              "      \n",
              "  <style>\n",
              "    .colab-df-container {\n",
              "      display:flex;\n",
              "      flex-wrap:wrap;\n",
              "      gap: 12px;\n",
              "    }\n",
              "\n",
              "    .colab-df-convert {\n",
              "      background-color: #E8F0FE;\n",
              "      border: none;\n",
              "      border-radius: 50%;\n",
              "      cursor: pointer;\n",
              "      display: none;\n",
              "      fill: #1967D2;\n",
              "      height: 32px;\n",
              "      padding: 0 0 0 0;\n",
              "      width: 32px;\n",
              "    }\n",
              "\n",
              "    .colab-df-convert:hover {\n",
              "      background-color: #E2EBFA;\n",
              "      box-shadow: 0px 1px 2px rgba(60, 64, 67, 0.3), 0px 1px 3px 1px rgba(60, 64, 67, 0.15);\n",
              "      fill: #174EA6;\n",
              "    }\n",
              "\n",
              "    [theme=dark] .colab-df-convert {\n",
              "      background-color: #3B4455;\n",
              "      fill: #D2E3FC;\n",
              "    }\n",
              "\n",
              "    [theme=dark] .colab-df-convert:hover {\n",
              "      background-color: #434B5C;\n",
              "      box-shadow: 0px 1px 3px 1px rgba(0, 0, 0, 0.15);\n",
              "      filter: drop-shadow(0px 1px 2px rgba(0, 0, 0, 0.3));\n",
              "      fill: #FFFFFF;\n",
              "    }\n",
              "  </style>\n",
              "\n",
              "      <script>\n",
              "        const buttonEl =\n",
              "          document.querySelector('#df-0e99e501-94bf-4e70-a93a-091a02442df0 button.colab-df-convert');\n",
              "        buttonEl.style.display =\n",
              "          google.colab.kernel.accessAllowed ? 'block' : 'none';\n",
              "\n",
              "        async function convertToInteractive(key) {\n",
              "          const element = document.querySelector('#df-0e99e501-94bf-4e70-a93a-091a02442df0');\n",
              "          const dataTable =\n",
              "            await google.colab.kernel.invokeFunction('convertToInteractive',\n",
              "                                                     [key], {});\n",
              "          if (!dataTable) return;\n",
              "\n",
              "          const docLinkHtml = 'Like what you see? Visit the ' +\n",
              "            '<a target=\"_blank\" href=https://colab.research.google.com/notebooks/data_table.ipynb>data table notebook</a>'\n",
              "            + ' to learn more about interactive tables.';\n",
              "          element.innerHTML = '';\n",
              "          dataTable['output_type'] = 'display_data';\n",
              "          await google.colab.output.renderOutput(dataTable, element);\n",
              "          const docLink = document.createElement('div');\n",
              "          docLink.innerHTML = docLinkHtml;\n",
              "          element.appendChild(docLink);\n",
              "        }\n",
              "      </script>\n",
              "    </div>\n",
              "  </div>\n",
              "  "
            ]
          },
          "metadata": {},
          "execution_count": 348
        }
      ]
    },
    {
      "cell_type": "markdown",
      "metadata": {
        "id": "oL2ipTLsdGQ3"
      },
      "source": [
        "Добавим новую модель на график:"
      ]
    },
    {
      "cell_type": "code",
      "metadata": {
        "outputId": "22658109-39da-4aca-9747-c87142361513",
        "colab": {
          "base_uri": "https://localhost:8080/",
          "height": 279
        },
        "id": "Czr9DMo_dGQ3"
      },
      "source": [
        "plt.scatter(df['x'], df['y'], color =(0,0,0), label='actual data')\n",
        "plt.plot(df['x'], df['y_pred_without_intersept'], 'r:*', label='model without intersept') #g-. r-red; :пунктир, *-маркер для точки \n",
        "plt.plot(df['x'], df['y_pred'], 'b:*', label='model with intersept') #b- b-blue; :-пунктир, *-маркер для точки \n",
        "plt.legend()\n",
        "plt.xlabel('Заработная плата, тыс. руб.')\n",
        "plt.ylabel('Кредитный скоринг, баллы')\n",
        "plt.grid() #сетка\n",
        "ax = plt.gca() # чтобы настроить оси\n",
        "ax.set_xlim(xmin = 0)\n",
        "ax.set_ylim(ymin = 0)\n",
        "plt.show()"
      ],
      "execution_count": null,
      "outputs": [
        {
          "output_type": "display_data",
          "data": {
            "text/plain": [
              "<Figure size 432x288 with 1 Axes>"
            ],
            "image/png": "[encoded data removed]"
          },
          "metadata": {
            "needs_background": "light"
          }
        }
      ]
    },
    {
      "cell_type": "markdown",
      "source": [
        "**4-ый способ нахождения коэффициентов с помощью функций Python**"
      ],
      "metadata": {
        "id": "nAnN-Lz3lR0A"
      }
    },
    {
      "cell_type": "code",
      "source": [
        "# Еще один самый круой метод с семинара: примерный тайминг от начала 2:22:00 \n",
        "import statsmodels.api as sm \n",
        "x = sm.add_constant(x)\n",
        "model = sm.OLS(y, x)\n",
        "results = model.fit()\n",
        "print(results.summary())"
      ],
      "metadata": {
        "colab": {
          "base_uri": "https://localhost:8080/"
        },
        "id": "dA64_53pdbwY",
        "outputId": "fa660033-b532-422c-9ce0-c2243055e854"
      },
      "execution_count": null,
      "outputs": [
        {
          "output_type": "stream",
          "name": "stdout",
          "text": [
            "                            OLS Regression Results                            \n",
            "==============================================================================\n",
            "Dep. Variable:                      y   R-squared:                       0.788\n",
            "Model:                            OLS   Adj. R-squared:                  0.761\n",
            "Method:                 Least Squares   F-statistic:                     29.67\n",
            "Date:                Thu, 09 Mar 2023   Prob (F-statistic):           0.000611\n",
            "Time:                        10:51:49   Log-Likelihood:                -58.064\n",
            "No. Observations:                  10   AIC:                             120.1\n",
            "Df Residuals:                       8   BIC:                             120.7\n",
            "Df Model:                           1                                         \n",
            "Covariance Type:            nonrobust                                         \n",
            "==============================================================================\n",
            "                 coef    std err          t      P>|t|      [0.025      0.975]\n",
            "------------------------------------------------------------------------------\n",
            "const        444.1774     56.466      7.866      0.000     313.965     574.389\n",
            "x1             2.6205      0.481      5.447      0.001       1.511       3.730\n",
            "==============================================================================\n",
            "Omnibus:                        1.365   Durbin-Watson:                   1.407\n",
            "Prob(Omnibus):                  0.505   Jarque-Bera (JB):                0.725\n",
            "Skew:                          -0.130   Prob(JB):                        0.696\n",
            "Kurtosis:                       1.707   Cond. No.                         233.\n",
            "==============================================================================\n",
            "\n",
            "Notes:\n",
            "[1] Standard Errors assume that the covariance matrix of the errors is correctly specified.\n"
          ]
        },
        {
          "output_type": "stream",
          "name": "stderr",
          "text": [
            "/usr/local/lib/python3.9/dist-packages/scipy/stats/_stats_py.py:1736: UserWarning: kurtosistest only valid for n>=20 ... continuing anyway, n=10\n",
            "  warnings.warn(\"kurtosistest only valid for n>=20 ... continuing \"\n"
          ]
        }
      ]
    },
    {
      "cell_type": "markdown",
      "source": [
        "#**Задача 2**  \n",
        "Посчитать коэффициент линейной регрессии при заработной плате (zp), используя градиентный спуск (без intercept)."
      ],
      "metadata": {
        "id": "vx5-iwb1YPcu"
      }
    },
    {
      "cell_type": "markdown",
      "metadata": {
        "id": "active-college"
      },
      "source": [
        "**Функциия потерь**  \n",
        "$MSE=\\frac{1}{n}\\sum^{n}_{i=1}(\\hat y_i-y_i)^2$    \n",
        "показывает, насколько далеко истинные значения зависимого признака будут находиться от линии регресии(расчетных значений)    "
      ]
    },
    {
      "cell_type": "code",
      "execution_count": null,
      "metadata": {
        "id": "japanese-destruction"
      },
      "outputs": [],
      "source": [
        "def Mse(b, my_x, my_y):\n",
        "    return np.sum((b * my_x - my_y) **2 ) / len(my_x)"
      ]
    },
    {
      "cell_type": "markdown",
      "metadata": {
        "id": "increasing-incident"
      },
      "source": [
        "Посчитаем значение для вычесленного нами коэффициента $b=2.62$"
      ]
    },
    {
      "cell_type": "code",
      "source": [
        "x = np.array([35, 45, 190, 200, 40, 70, 54, 150, 120, 110]) #zp\n",
        "y = np.array([401, 574, 874, 919, 459, 739, 653, 902, 746, 832]) #ks"
      ],
      "metadata": {
        "id": "nGBsLgWDla5i"
      },
      "execution_count": null,
      "outputs": []
    },
    {
      "cell_type": "code",
      "execution_count": null,
      "metadata": {
        "id": "weird-garden",
        "outputId": "7438ac2c-76b6-4067-9d01-5cac2a827355",
        "colab": {
          "base_uri": "https://localhost:8080/"
        }
      },
      "outputs": [
        {
          "output_type": "execute_result",
          "data": {
            "text/plain": [
              "203812.48504"
            ]
          },
          "metadata": {},
          "execution_count": 353
        }
      ],
      "source": [
        "Mse(2.62, x, y)"
      ]
    },
    {
      "cell_type": "markdown",
      "metadata": {
        "id": "greek-strap"
      },
      "source": [
        "Теперь попробуем подобрать такое значение коэффициента $b$ (пока без интерсепта)\n",
        ", при котором $MSE\\rightarrow 0$, используя свойства производной.  \n",
        "Для этого вычислим производную нашей функции потерь:    "
      ]
    },
    {
      "cell_type": "code",
      "execution_count": null,
      "metadata": {
        "id": "theoretical-charity"
      },
      "outputs": [],
      "source": [
        "def Mse_p(b,my_x,my_y):\n",
        "    return (2 / len(my_x)) * np.sum((b * my_x - my_y) * my_x)"
      ]
    },
    {
      "cell_type": "markdown",
      "source": [
        "Визуализируем функцию mse на графике и ее производную"
      ],
      "metadata": {
        "id": "psnHe7rdvlDI"
      }
    },
    {
      "cell_type": "code",
      "source": [
        "b_graph = np.linspace(-13,25,100)\n",
        "mse_graph = [Mse(i, x, y) for i in b_graph]\n",
        "mse_p_graph = [Mse_p(i, x, y) for i in b_graph]"
      ],
      "metadata": {
        "id": "RumoET7MwCH5"
      },
      "execution_count": null,
      "outputs": []
    },
    {
      "cell_type": "code",
      "source": [
        "plt.plot(b_graph, mse_graph, 'g', label='mse')\n",
        "plt.plot(b_graph, mse_p_graph, 'indigo', label='mse_p') \n",
        "plt.legend()\n",
        "plt.xlabel('b')\n",
        "plt.ylabel('mse')\n",
        "plt.grid() #сетка\n",
        "# ax = plt.gca() # чтобы настроить оси\n",
        "# ax.set_xlim(xmin = 0)\n",
        "# ax.set_ylim(ymin = 0)\n",
        "plt.show()"
      ],
      "metadata": {
        "colab": {
          "base_uri": "https://localhost:8080/",
          "height": 290
        },
        "id": "YGBt9-agy7_z",
        "outputId": "8b068243-1182-4d9c-f867-56822ff44d1c"
      },
      "execution_count": null,
      "outputs": [
        {
          "output_type": "display_data",
          "data": {
            "text/plain": [
              "<Figure size 432x288 with 1 Axes>"
            ],
            "image/png": "[encoded data removed]"
          },
          "metadata": {
            "needs_background": "light"
          }
        }
      ]
    },
    {
      "cell_type": "markdown",
      "metadata": {
        "id": "centered-strength"
      },
      "source": [
        "Введем параметр - **скорость обучения** c помощью которого будем регулировать скорость подбора коэффициента $b$"
      ]
    },
    {
      "cell_type": "code",
      "execution_count": null,
      "metadata": {
        "id": "square-naples"
      },
      "outputs": [],
      "source": [
        "alpha =1e-6"
      ]
    },
    {
      "cell_type": "code",
      "source": [
        "b = 0.1\n",
        "mse_min = Mse(b,x,y)\n",
        "i_min = 1\n",
        "b_min = b\n",
        "for i in range(10000):\n",
        "    b -= alpha * Mse_p(b,x,y)\n",
        "    if i % 100 == 0:\n",
        "        print(f'Итерация #{i},  b= {b}, mse = {Mse(b, x,y)}')\n",
        "    if Mse(b,x,y) > mse_min:\n",
        "        print(f'Итерация #{i_min}, b = {b_min}, mse = {mse_min},\\nДостигнут минимум.')\n",
        "        break\n",
        "    else:\n",
        "        mse_min=Mse(b,x,y)\n",
        "        i_min=i\n",
        "        b_min=b"
      ],
      "metadata": {
        "colab": {
          "base_uri": "https://localhost:8080/"
        },
        "id": "5ACOegT-jzMk",
        "outputId": "14cc1ac4-702d-4981-8a7f-c0454eac2620"
      },
      "execution_count": null,
      "outputs": [
        {
          "output_type": "stream",
          "name": "stdout",
          "text": [
            "Итерация #0,  b= 0.25952808000000005, mse = 493237.7212546963\n",
            "Итерация #100,  b= 5.54537842245223, mse = 58151.31823171113\n",
            "Итерация #200,  b= 5.868748638669329, mse = 56522.97550129376\n",
            "Итерация #300,  b= 5.888531320728348, mse = 56516.88130936019\n",
            "Итерация #400,  b= 5.8897415574471985, mse = 56516.85850140053\n",
            "Итерация #500,  b= 5.889815595583751, mse = 56516.858416040064\n",
            "Итерация #600,  b= 5.889820124983314, mse = 56516.85841572062\n",
            "Итерация #628, b = 5.889820285147628, mse = 56516.85841571966,\n",
            "Достигнут минимум.\n"
          ]
        }
      ]
    },
    {
      "cell_type": "code",
      "source": [
        "b_min"
      ],
      "metadata": {
        "colab": {
          "base_uri": "https://localhost:8080/"
        },
        "id": "p90q0V-OjVyv",
        "outputId": "c6ed1104-6ad2-4b7e-b2dd-e71d692d833a"
      },
      "execution_count": null,
      "outputs": [
        {
          "output_type": "execute_result",
          "data": {
            "text/plain": [
              "5.889820285147628"
            ]
          },
          "metadata": {},
          "execution_count": 359
        }
      ]
    },
    {
      "cell_type": "markdown",
      "metadata": {
        "id": "seeing-landscape"
      },
      "source": [
        "#**Задача 3**  \n",
        "Произвести вычисления как в пункте 2, но с вычислением intercept. Учесть, что изменение коэффициентов должно производиться на каждом шаге одновременно (то есть изменение одного коэффициента не должно влиять на изменение другого во время одной итерации)."
      ]
    },
    {
      "cell_type": "markdown",
      "metadata": {
        "id": "veterinary-loading"
      },
      "source": [
        "Функция потерь:"
      ]
    },
    {
      "cell_type": "code",
      "execution_count": null,
      "metadata": {
        "id": "descending-optics"
      },
      "outputs": [],
      "source": [
        "def Mse_ab(a,b, x, y):\n",
        "    return np.sum(((a + b * x) - y) ** 2) / len(x)"
      ]
    },
    {
      "cell_type": "markdown",
      "metadata": {
        "id": "passing-quebec"
      },
      "source": [
        "Частная производная функции потерь по $a$:  "
      ]
    },
    {
      "cell_type": "code",
      "execution_count": null,
      "metadata": {
        "id": "dangerous-transparency"
      },
      "outputs": [],
      "source": [
        "def Mse_pa(a,b,x,y): \n",
        "    return 2 * np.sum((a + b * x) - y) / len(x)"
      ]
    },
    {
      "cell_type": "markdown",
      "metadata": {
        "id": "searching-satisfaction"
      },
      "source": [
        "Частная производная функции потерь по $b$:"
      ]
    },
    {
      "cell_type": "code",
      "execution_count": null,
      "metadata": {
        "id": "eight-light"
      },
      "outputs": [],
      "source": [
        "def Mse_pb(a,b,x,y):\n",
        "    return 2 * np.sum(((a + b * x) - y) * x) / len(x)"
      ]
    },
    {
      "cell_type": "markdown",
      "metadata": {
        "id": "dominican-tyler"
      },
      "source": [
        "Скорость обучения:"
      ]
    },
    {
      "cell_type": "code",
      "execution_count": null,
      "metadata": {
        "id": "portuguese-standing"
      },
      "outputs": [],
      "source": [
        "alpha=5e-05"
      ]
    },
    {
      "cell_type": "code",
      "execution_count": null,
      "metadata": {
        "id": "gentle-wells",
        "outputId": "587654e5-be4e-4736-fced-75d63497251a",
        "colab": {
          "base_uri": "https://localhost:8080/"
        }
      },
      "outputs": [
        {
          "output_type": "stream",
          "name": "stdout",
          "text": [
            "Итерация #0, a=0.169966, b=8.07468054476, mse=122318.06397097567\n",
            "Итерация #50000, a=319.27767648420047, b=3.5398324356503275, mse=10427.569111705801\n",
            "Итерация #100000, a=409.0442373734796, b=2.879127619051743, mse=6783.521961452364\n",
            "Итерация #150000, a=434.29473705519484, b=2.693277491833349, mse=6495.188684804794\n",
            "Итерация #200000, a=441.3974680483413, b=2.6409995775222037, mse=6472.374468908443\n",
            "Итерация #250000, a=443.39540029510493, b=2.62629428586797, mse=6470.569306309746\n",
            "Итерация #300000, a=443.95740007610897, b=2.622157823932053, mse=6470.426473787141\n",
            "Итерация #350000, a=444.1154853937451, b=2.6209942756156086, mse=6470.415172240385\n",
            "Итерация #400000, a=444.159953325044, b=2.6206669802831115, mse=6470.414278011555\n",
            "Итерация #450000, a=444.1724617410292, b=2.6205749151465225, mse=6470.414207256183\n",
            "Итерация #500000, a=444.1759802422447, b=2.6205490180788695, mse=6470.414201657699\n",
            "Итерация #520164, a=444.17653163778414, b=2.62054495966686, mse=6470.414201349592,\n",
            "Достигнут минимум.\n",
            "a=444.17653163778414\n",
            "b=2.62054495966686\n"
          ]
        }
      ],
      "source": [
        "b = 0.1\n",
        "a = 0.1\n",
        "mseab_min=Mse_ab(a,b,x,y)\n",
        "i_min = 1\n",
        "b_min = b\n",
        "a_min = a\n",
        "   \n",
        "for i in range(1000000):\n",
        "    a -= alpha * Mse_pa(a,b,x,y)\n",
        "    b -= alpha * Mse_pb(a,b,x,y)\n",
        "    if i % 50000 == 0:\n",
        "        print(f'Итерация #{i}, a={a}, b={b}, mse={Mse_ab(a, b, x, y)}')\n",
        "    if Mse_ab(a, b,x,y)>mseab_min:\n",
        "        print(f'Итерация #{i_min}, a={a_min}, b={b_min}, mse={mseab_min},\\nДостигнут минимум.')\n",
        "        break\n",
        "    else:\n",
        "        mseab_min=Mse_ab(a, b,x,y)\n",
        "        i_min = i\n",
        "        b_min = b\n",
        "        a_min = a\n",
        "print(f'a={a_min}\\nb={b_min}')"
      ]
    },
    {
      "cell_type": "code",
      "execution_count": null,
      "metadata": {
        "scrolled": true,
        "id": "distributed-romance",
        "colab": {
          "base_uri": "https://localhost:8080/"
        },
        "outputId": "9ce903e9-56f4-47c0-b8d4-c100b883c325"
      },
      "outputs": [
        {
          "output_type": "execute_result",
          "data": {
            "text/plain": [
              "(444.17653163778414, 2.62054495966686)"
            ]
          },
          "metadata": {},
          "execution_count": 365
        }
      ],
      "source": [
        "a_min, b_min"
      ]
    },
    {
      "cell_type": "markdown",
      "source": [
        "Все ок"
      ],
      "metadata": {
        "id": "x8JpkKFM_yTs"
      }
    }
  ]
}